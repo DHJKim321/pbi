{
 "cells": [
  {
   "cell_type": "code",
   "execution_count": 54,
   "metadata": {},
   "outputs": [],
   "source": [
    "# Basic Python Notebook showing how you can quickly download and start working with a datafile and make simple plots.\n",
    "# Bioinformatics 1 (2022-23) - Week 6 - Working with Biological Databases\n",
    "# ian.simpson@ed.ac.uk\n",
    "\n",
    "# Activity 3 - Gene Expression Data\n",
    "\n",
    "#load in modules\n",
    "import pandas as pd"
   ]
  },
  {
   "cell_type": "code",
   "execution_count": null,
   "metadata": {},
   "outputs": [],
   "source": [
    "%pip install biopython"
   ]
  },
  {
   "cell_type": "code",
   "execution_count": null,
   "metadata": {},
   "outputs": [],
   "source": [
    "# There is a great guide to programmatic access to GEO here - https://www.ncbi.nlm.nih.gov/geo/info/geo_paccess.html\n",
    "\n",
    "# Once again we can use the BioPython Entrez library to query and retrieve information just as we did for nucleotides earlier in the course\n",
    "from genericpath import exists\n",
    "from Bio import Entrez\n",
    "\n",
    "Entrez.email = \"A.N.Other@example.com\" # You should replace this with your e-mail address \n",
    "\n",
    "# note the Entrez esearch function searches and returns a handle to the results.\n",
    "\n",
    "# search for ASD microarray gene expression datasets\n",
    "handle = Entrez.esearch(db='gds',term='\"Autism Spectrum Disorder\"[MH] AND \"Expression profiling by array\"[Filter]',retmax=1000)\n",
    "record = Entrez.read(handle)\n",
    "handle.close()\n",
    "\n",
    "# How many are there?\n",
    "print(\"There are \"+str(record['Count'])+\" microarray experiments in GEO for ASD.\")\n",
    "\n",
    "# Extract the list\n",
    "idList = record['IdList']\n",
    "\n",
    "#fetch summaries for these experiments and extract only the publication date [PDAT]\n",
    "\n",
    "#build a counter\n",
    "asd_array_counts = {}\n",
    "\n",
    "# this might take a little while\n",
    "for id in idList:\n",
    "    print(\"Fetching details for experiment: \"+str(id))\n",
    "    handle = Entrez.esummary(db='gds',id=id)\n",
    "    record = Entrez.read(handle)\n",
    "    for entry in record:\n",
    "        year = entry['PDAT'][0:4]\n",
    "        if year in asd_array_counts:\n",
    "            asd_array_counts[year] += 1\n",
    "        else:\n",
    "            asd_array_counts[year] = 1\n",
    "\n",
    "#convert the dict into a pandas dataframe\n",
    "microarray_experiments_by_year = pd.DataFrame.from_dict(asd_array_counts,orient='index',columns=['counts'])"
   ]
  },
  {
   "cell_type": "code",
   "execution_count": null,
   "metadata": {},
   "outputs": [],
   "source": [
    "# search for ASD microarray RNA-seq gene expression datasets\n",
    "handle = Entrez.esearch(db='gds',term='\"Autism Spectrum Disorder\"[MH] AND \"Expression profiling by high throughput sequencing\"[Filter]',retmax=1000)\n",
    "record = Entrez.read(handle)\n",
    "handle.close()\n",
    "\n",
    "# How many are there?\n",
    "print(\"There are \"+str(record['Count'])+\" RNA-seq experiments in GEO for ASD.\")\n",
    "\n",
    "# Extract the list\n",
    "idList = record['IdList']\n",
    "\n",
    "#fetch summaries for these experiments and extract only the publication date [PDAT]\n",
    "\n",
    "#build a counter for the years\n",
    "asd_seqexp_counts = {}\n",
    "\n",
    "for id in idList:\n",
    "    print(\"Fetching details for experiment: \"+str(id))\n",
    "    handle = Entrez.esummary(db='gds',id=id)\n",
    "    record = Entrez.read(handle)\n",
    "    for entry in record:\n",
    "        year = entry['PDAT'][0:4]\n",
    "        if year in asd_seqexp_counts:\n",
    "            asd_seqexp_counts[year] += 1\n",
    "        else:\n",
    "            asd_seqexp_counts[year] = 1\n",
    "\n",
    "#convert the dict into a pandas dataframe\n",
    "rnaseq_experiments_by_year = pd.DataFrame.from_dict(asd_seqexp_counts,orient='index',columns=['counts'])"
   ]
  },
  {
   "cell_type": "code",
   "execution_count": null,
   "metadata": {},
   "outputs": [],
   "source": [
    "#plot both data together\n",
    "combined = pd.merge(rnaseq_experiments_by_year,microarray_experiments_by_year,left_index=True,right_index=True)\n",
    "\n",
    "#sort the index for neater plot\n",
    "combined = combined.sort_index('index')\n",
    "\n",
    "#name the columns\n",
    "combined.columns = ['RNA-seq','microarray']\n",
    "\n",
    "#plot\n",
    "combined.plot.line(xlabel='year',ylabel='experiment count')\n",
    "\n",
    "#what is this graph telling us?"
   ]
  },
  {
   "cell_type": "code",
   "execution_count": null,
   "metadata": {},
   "outputs": [],
   "source": [
    "#you now have all the code you need to adapt (above) to complete the rest of the Gene Expression section from the computing lab worksheet. good luck!\n",
    "# you could think about creating a stacked barchart with both array and RNA-seq data shown together"
   ]
  }
 ],
 "metadata": {
  "kernelspec": {
   "display_name": "Python 3.8.13 ('base')",
   "language": "python",
   "name": "python3"
  },
  "language_info": {
   "codemirror_mode": {
    "name": "ipython",
    "version": 3
   },
   "file_extension": ".py",
   "mimetype": "text/x-python",
   "name": "python",
   "nbconvert_exporter": "python",
   "pygments_lexer": "ipython3",
   "version": "3.8.13"
  },
  "orig_nbformat": 2,
  "vscode": {
   "interpreter": {
    "hash": "c79478e135452d4f8dcea3898ce85a4457be8d06848dc07bbec8d2854f4ceed7"
   }
  }
 },
 "nbformat": 4,
 "nbformat_minor": 2
}
