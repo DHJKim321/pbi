{
 "cells": [
  {
   "cell_type": "code",
   "execution_count": null,
   "metadata": {},
   "outputs": [],
   "source": [
    "# Basic Python Notebook showing how you can quickly download and start working with a datafile and make simple plots.\n",
    "# Bioinformatics 1 (2022-23) - Week 6 - Working with Biological Databases\n",
    "# ian.simpson@ed.ac.uk\n",
    "\n",
    "# Activity 4 - Working with the Gene Onotology\n",
    "\n",
    "#load in modules\n",
    "import pandas as pd\n",
    "import urllib as ul\n",
    "import numpy as np"
   ]
  },
  {
   "cell_type": "code",
   "execution_count": null,
   "metadata": {},
   "outputs": [],
   "source": [
    "#retrieve the gene_ids from the previous section (dop_geneids.txt)\n",
    "dop_gene_ids = pd.read_csv('dop_geneids.txt',header=None)\n",
    "dop_gene_ids.columns=['GeneID']\n",
    "\n",
    "dop_gene_ids.head()"
   ]
  },
  {
   "cell_type": "code",
   "execution_count": null,
   "metadata": {},
   "outputs": [],
   "source": [
    "#retrieve the gene2go file, note this is commented out so you don't download it multiple times.\n",
    "#to use it for the first time remove the '#' from the start of the line below.\n",
    "\n",
    "# ul.request.urlretrieve('https://ftp.ncbi.nlm.nih.gov/gene/DATA/gene2go.gz','gene2go.gz')\n",
    "\n",
    "gene2go = pd.read_csv('gene2go.gz', compression='gzip', header=0, sep='\\t')\n",
    "\n",
    "gene2go.head()"
   ]
  },
  {
   "cell_type": "code",
   "execution_count": null,
   "metadata": {},
   "outputs": [],
   "source": [
    "#now explicitly restrict to human (tax_id - 9606)\n",
    "human_gene2go = gene2go[gene2go['#tax_id']==9606]"
   ]
  },
  {
   "cell_type": "code",
   "execution_count": null,
   "metadata": {},
   "outputs": [],
   "source": [
    "human_gene2go.head()"
   ]
  },
  {
   "cell_type": "code",
   "execution_count": null,
   "metadata": {},
   "outputs": [],
   "source": [
    "#merge the dataframes on the geneid\n",
    "dop_gos = pd.merge(dop_gene_ids,human_gene2go,right_on='GeneID',left_on='GeneID')\n",
    "\n",
    "#the top scoring GO_ID in our list\n",
    "dop_go_counts = dop_gos.groupby('GO_ID').size().sort_values(ascending=False)\n",
    "print(dop_go_counts)\n",
    "print('\\n')\n",
    "\n",
    "#find the top annotated GO term\n",
    "top_goid = dop_gos.groupby('GO_ID').size().sort_values(ascending=False).index[0]\n",
    "print(top_goid)\n",
    "\n",
    "#create a unique lookup for GO_ID term descriptions\n",
    "unique_dop_gos = dop_gos[['GO_ID','GO_term']].drop_duplicates()\n",
    "\n",
    "#top GO_ID with it's description\n",
    "unique_dop_gos[unique_dop_gos['GO_ID'] == top_goid]"
   ]
  },
  {
   "cell_type": "code",
   "execution_count": null,
   "metadata": {},
   "outputs": [],
   "source": [
    "#how many human genes are there in our human gene2GO set?\n",
    "num_human_genes_ingo = len(human_gene2go['GeneID'].drop_duplicates())\n",
    "\n",
    "#how many genes are annotated with GO:0005515 in our human gene2GO set?\n",
    "num_human_genes_withtop = len(human_gene2go[human_gene2go['GO_ID'] == top_goid]['GeneID'].drop_duplicates())\n",
    "\n",
    "#what is the size of our gene list?\n",
    "num_human_genes_inlist = len(dop_gene_ids['GeneID'].drop_duplicates())\n",
    "\n",
    "#how many genes would we expect to be annoated with the top GO_ID? (77.25)\n",
    "expectation = num_human_genes_withtop/num_human_genes_ingo * num_human_genes_inlist\n",
    "\n",
    "print('We would expect to see this '+str(round(num_human_genes_withtop/num_human_genes_ingo * num_human_genes_inlist,2))+' times')\n",
    "\n",
    "#how many genes in our list are annotated with the top GO_ID? (118)\n",
    "observation = dop_go_counts[0]\n",
    "print('We actually see this '+str(round(observation,2))+' times')\n",
    "\n",
    "#what's the enrichment?\n",
    "print('So, the top GO term is found '+str(round(observation/expectation,2))+' times more frequently than we would expect by chance')\n",
    "\n",
    "#why do we want to know this?"
   ]
  }
 ],
 "metadata": {
  "interpreter": {
   "hash": "c79478e135452d4f8dcea3898ce85a4457be8d06848dc07bbec8d2854f4ceed7"
  },
  "kernelspec": {
   "display_name": "Python 3.7.4 64-bit (conda)",
   "name": "python3"
  },
  "language_info": {
   "codemirror_mode": {
    "name": "ipython",
    "version": 3
   },
   "file_extension": ".py",
   "mimetype": "text/x-python",
   "name": "python",
   "nbconvert_exporter": "python",
   "pygments_lexer": "ipython3",
   "version": "3.8.13"
  },
  "orig_nbformat": 2
 },
 "nbformat": 4,
 "nbformat_minor": 2
}
