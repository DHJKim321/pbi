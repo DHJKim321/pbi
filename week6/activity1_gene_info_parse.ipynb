{
 "cells": [
  {
   "cell_type": "code",
   "execution_count": null,
   "metadata": {
    "tags": []
   },
   "outputs": [],
   "source": [
    "# Basic Python Notebook showing how you can quickly download and start working with a datafile and make simple plots.\n",
    "# Bioinformatics 1 (2022-23) - Week 6 - Working with Biological Databases\n",
    "# ian.simpson@ed.ac.uk\n",
    "\n",
    "# Activity 1 - Genomic information for various species\n",
    "\n",
    "## IN THIS NOTEBOOK I HAVE COMMENTED OUT ALL OF THE \"ul.request.urlretrieve....\" LINES. THIS IS TO STOP YOU ACCIDENTALLY DOWNLOADING THE FILES MULTIPLE TIMES. WHEN YOU FIRST RUN THE CELLS PLEASE UNCOMMENT THE LINES RUN THE CELL AND THEN RECOMMENT AGAIN BY ADDING A # AT THE START OF THE LINE. THIS IS TO PROTECT NCBI FROM LARGE NUMBERS OF DOWNLOADS OF THE DATA ##\n",
    "\n",
    "#load in modules\n",
    "import pandas as pd\n",
    "import urllib as ul\n",
    "import numpy as np\n",
    "\n",
    "#pull the human gene_info file directly from the NCBI server (once you have done this once you can comment the line out below by putting a # symbol in front of the line. This will stop you downloading it multiple times)\n",
    "\n",
    "# ul.request.urlretrieve('https://ftp.ncbi.nlm.nih.gov/gene/DATA/GENE_INFO/Mammalia/Homo_sapiens.gene_info.gz','Homo_sapiens.gene_info.gz')\n",
    "\n",
    "# #mouse\n",
    "# ul.request.urlretrieve('https://ftp.ncbi.nlm.nih.gov/gene/DATA/GENE_INFO/Mammalia/Mus_musculus.gene_info.gz','Mus_musculus.gene_info.gz')\n",
    "\n",
    "# #rat\n",
    "# ul.request.urlretrieve('https://ftp.ncbi.nlm.nih.gov/gene/DATA/GENE_INFO/Mammalia/Rattus_norvegicus.gene_info.gz','Rattus_norvegicus.gene_info.gz')\n",
    "\n",
    "# #fruitfly\n",
    "# ul.request.urlretrieve('https://ftp.ncbi.nlm.nih.gov/gene/DATA/GENE_INFO/Invertebrates/Drosophila_melanogaster.gene_info.gz','Drosophila_melanogaster.gene_info.gz')\n",
    "\n",
    "# #yeast\n",
    "# ul.request.urlretrieve('https://ftp.ncbi.nlm.nih.gov/gene/DATA/GENE_INFO/Fungi/Saccharomyces_cerevisiae.gene_info.gz','Saccharomyces_cerevisiae.gene_info.gz')\n"
   ]
  },
  {
   "cell_type": "code",
   "execution_count": null,
   "metadata": {},
   "outputs": [],
   "source": [
    "#read the gene_info files into Pandas data frames\n",
    "human_df = pd.read_csv('Homo_sapiens.gene_info.gz', compression='gzip', header=0, sep='\\t')\n",
    "mouse_df = pd.read_csv('Mus_musculus.gene_info.gz', compression='gzip', header=0, sep='\\t')\n",
    "rat_df = pd.read_csv('Rattus_norvegicus.gene_info.gz', compression='gzip', header=0, sep='\\t')\n",
    "fruitfly_df = pd.read_csv('Drosophila_melanogaster.gene_info.gz', compression='gzip', header=0, sep='\\t')\n",
    "yeast_df = pd.read_csv('Saccharomyces_cerevisiae.gene_info.gz', compression='gzip', header=0, sep='\\t')"
   ]
  },
  {
   "cell_type": "code",
   "execution_count": null,
   "metadata": {},
   "outputs": [],
   "source": [
    "#show the first few lines of the dataframe\n",
    "human_df.head()"
   ]
  },
  {
   "cell_type": "code",
   "execution_count": null,
   "metadata": {
    "tags": []
   },
   "outputs": [],
   "source": [
    "#counts of genes per chromosome\n",
    "human_chromosomes = pd.DataFrame(human_df.value_counts(['chromosome']),columns=['gene_number'])\n",
    "\n",
    "#this removes some unpleasent formatting for the index\n",
    "human_chromosomes.index = [i[0] for i in human_chromosomes.index]\n",
    "\n",
    "#show the first few lines\n",
    "human_chromosomes.head()"
   ]
  },
  {
   "cell_type": "code",
   "execution_count": null,
   "metadata": {},
   "outputs": [],
   "source": [
    "#plot a basic bar-plot\n",
    "human_chromosomes.plot.bar(ylabel='gene count', xlabel='chromosome',legend=False)"
   ]
  },
  {
   "cell_type": "code",
   "execution_count": null,
   "metadata": {},
   "outputs": [],
   "source": [
    "#counts by type_of_gene\n",
    "human_df_genetype = pd.DataFrame(human_df.value_counts(['type_of_gene']),columns=['gene_number'])\n",
    "\n",
    "#this removes some unpleasent formatting for the index\n",
    "human_df_genetype.index = [i[0] for i in human_df_genetype.index]\n",
    "\n",
    "#show the first few lines of the dataframe\n",
    "human_df_genetype.head()"
   ]
  },
  {
   "cell_type": "code",
   "execution_count": null,
   "metadata": {},
   "outputs": [],
   "source": [
    "#plot a basic bar-plot\n",
    "human_df_genetype.plot.bar(ylabel='gene count',legend=False)"
   ]
  },
  {
   "cell_type": "code",
   "execution_count": null,
   "metadata": {},
   "outputs": [],
   "source": [
    "print(human_df.shape)"
   ]
  },
  {
   "cell_type": "code",
   "execution_count": null,
   "metadata": {},
   "outputs": [],
   "source": [
    "#genes per species\n",
    "\n",
    "#build the dataframe\n",
    "data = {'counts' : [human_df.shape[0],mouse_df.shape[0],rat_df.shape[0],fruitfly_df.shape[0],yeast_df.shape[0]]}\n",
    "df = pd.DataFrame(data)\n",
    "df.index = ['human', 'mouse','rat','fruitfly','yeast']\n",
    "\n",
    "#show the first few lines of the dataframe\n",
    "print(df.head())\n",
    "\n",
    "#plot a basic bar-plot\n",
    "df.plot.bar(ylabel='gene count',xlabel='species',legend=False)"
   ]
  },
  {
   "cell_type": "code",
   "execution_count": null,
   "metadata": {},
   "outputs": [],
   "source": [
    "#find genome sizes\n",
    "\n",
    "# ul.request.urlretrieve('https://ftp.ncbi.nlm.nih.gov/genomes/GENOME_REPORTS/overview.txt','genomes.txt')\n",
    "\n",
    "#build the genomes report dataframe\n",
    "genomes_df = pd.read_csv('genomes.txt',header=0,sep='\\t')\n",
    "\n",
    "# print(genomes_df[genomes_df.columns[0]])\n",
    "# print(genomes_df[genomes_df.columns[0]].str.fullmatch('Homo sapiens'))\n",
    "# print(genomes_df[genomes_df[genomes_df.columns[0]].str.fullmatch('Homo sapiens')]['Size (Mb)'])\n",
    "# print(genomes_df[genomes_df[genomes_df.columns[0]].str.fullmatch('Homo sapiens')]['Size (Mb)'].astype('float'))\n",
    "# print(genomes_df[genomes_df[genomes_df.columns[0]].str.fullmatch('Homo sapiens')]['Size (Mb)'].astype('float').values[0])\n",
    "\n",
    "#select the genome sizes from the dataframe\n",
    "genome_sizes = {'size': [genomes_df[genomes_df[genomes_df.columns[0]].str.fullmatch('Homo sapiens')]['Size (Mb)'].astype('float').values[0], genomes_df[genomes_df[genomes_df.columns[0]].str.fullmatch('Mus musculus')]['Size (Mb)'].astype('float').values[0], genomes_df[genomes_df[genomes_df.columns[0]].str.fullmatch('Rattus norvegicus')]['Size (Mb)'].astype('float').values[0], genomes_df[genomes_df[genomes_df.columns[0]].str.fullmatch('Drosophila melanogaster')]['Size (Mb)'].astype('float').values[0], genomes_df[genomes_df[genomes_df.columns[0]].str.fullmatch('Saccharomyces cerevisiae')]['Size (Mb)'].astype('float').values[0]]}\n",
    "\n",
    "#build the genome size dataframe\n",
    "genomes = pd.DataFrame(genome_sizes)\n",
    "\n",
    "#add the species index\n",
    "genomes.index = ['human', 'mouse','rat','fruitfly','yeast']\n",
    "\n",
    "#normalise gene number by genome size and plot\n",
    "\n",
    "#combine the two dfs - genomes and df\n",
    "final = pd.merge(genomes,df,left_index=True,right_index=True)\n",
    "\n",
    "#normalise the gene counts\n",
    "final['norm'] = final['counts']/final['size']\n",
    "\n",
    "#view the final df\n",
    "print(final)\n",
    "\n",
    "#plot the normalised gene counts\n",
    "final.plot.bar(ylabel='normalised gene count',xlabel='species',legend=False,y='norm')\n",
    "\n",
    "#brief conclusion - both fly and yeast have compressed genomes compared to the mammals"
   ]
  },
  {
   "cell_type": "code",
   "execution_count": null,
   "metadata": {},
   "outputs": [],
   "source": [
    "#unique transcripts\n",
    "\n",
    "#This is the URL of the human refseq RNA file that contains the information displayed on the RefSeq website when you restrict it to homo_sapiense. You can find the number of unique transcripts from this by following a similar approach to above. I will not do this here, it is something you can develop as practice. NB that the file is >300Mb !\n",
    "\n",
    "#https://ftp.ncbi.nlm.nih.gov/genomes/refseq/vertebrate_mammalian/Homo_sapiens/annotation_releases/current/GCF_000001405.39_GRCh38.p13/GCF_000001405.39_GRCh38.p13_rna.gbff.gz"
   ]
  }
 ],
 "metadata": {
  "interpreter": {
   "hash": "c79478e135452d4f8dcea3898ce85a4457be8d06848dc07bbec8d2854f4ceed7"
  },
  "kernelspec": {
   "display_name": "Python 3.7.4 64-bit (conda)",
   "name": "python3"
  },
  "language_info": {
   "codemirror_mode": {
    "name": "ipython",
    "version": 3
   },
   "file_extension": ".py",
   "mimetype": "text/x-python",
   "name": "python",
   "nbconvert_exporter": "python",
   "pygments_lexer": "ipython3",
   "version": "3.8.13"
  },
  "orig_nbformat": 2
 },
 "nbformat": 4,
 "nbformat_minor": 2
}
