{
 "cells": [
  {
   "cell_type": "code",
   "execution_count": null,
   "metadata": {},
   "outputs": [],
   "source": [
    "# Basic Python Notebook showing how you can quickly download and start working with a datafile and make simple plots.\n",
    "# Bioinformatics 1 (2022-23) - Week 6 - Working with Biological Databases\n",
    "# ian.simpson@ed.ac.uk\n",
    "\n",
    "# Activity 2 - Protein-Protein Interactions & Pathways\n",
    "\n",
    "#load in modules\n",
    "import pandas as pd\n",
    "import urllib as ul\n",
    "import numpy as np"
   ]
  },
  {
   "cell_type": "code",
   "execution_count": null,
   "metadata": {},
   "outputs": [],
   "source": [
    "# Fetching KEGG pathway data\n",
    "\n",
    "human_pathways = pd.read_csv(ul.request.urlopen('http://rest.kegg.jp/list/pathway/hsa'),sep='\\t',header=0,names=['kegg_id','pathway_name'])\n",
    "\n",
    "# we're looking for \"Dopaminergic Synapse\"\n",
    "\n",
    "human_pathways.head()"
   ]
  },
  {
   "cell_type": "code",
   "execution_count": null,
   "metadata": {},
   "outputs": [],
   "source": [
    "pathway_id = human_pathways[human_pathways['pathway_name'].str.match('Dopaminergic synapse')]['kegg_id']\n",
    "\n",
    "print(pathway_id.values)"
   ]
  },
  {
   "cell_type": "code",
   "execution_count": null,
   "metadata": {
    "tags": []
   },
   "outputs": [],
   "source": [
    "\n",
    "# pull the pathway rntey from KEGG, note we are saving this to a file that we will use later\n",
    "ul.request.urlretrieve('http://rest.kegg.jp/get/'+pathway_id.to_numpy()[0],'dop_synapse.txt')\n",
    "\n",
    "# why not open this file and look at the contents. You will see the full pathway details including the gene names\n",
    "\n",
    "# open the file\n",
    "dop_file = open('dop_synapse.txt','r')\n",
    "\n",
    "# I wanted to show you some basic python parsing and a simple for loop with a conditional in to demonstrate how you can quickly build simple parsers. There are quicker ways to do this, but this is a good learning example.\n",
    "\n",
    "# create an empty dataframe\n",
    "dop_df = pd.DataFrame()\n",
    "\n",
    "# set a flag for our parser\n",
    "flag=0\n",
    "\n",
    "# work through the text file one line at a time\n",
    "for line in dop_file:\n",
    "    # find the start of the gene entries\n",
    "    if 'GENE' in line:\n",
    "        # add the first gene tp the dataframe\n",
    "        dop_df = dop_df.append(pd.Series(line.strip('GENE').strip().split('  ')),ignore_index=True)\n",
    "        # set the flag to 1, we are in the gene section of the file\n",
    "        flag = 1\n",
    "    # stop when we reach the end of the section and escape the file\n",
    "    elif 'COMPOUND' in line:\n",
    "        break\n",
    "    # continue adding the genes to the dataframe\n",
    "    elif flag == 1:\n",
    "        dop_df = dop_df.append(pd.Series(line.strip().split('  ',2)),ignore_index=True)\n",
    "\n",
    "# close the file\n",
    "dop_file.close()\n",
    "\n",
    "# name the columns\n",
    "dop_df.columns = ['gene_id','description']\n",
    "\n",
    "# view the file\n",
    "dop_df.head()\n",
    "\n",
    "# you now have the gene_ids (NCBI EntrezIDs for the genes in the pathway)\n",
    "print('The Dopaminergic Synapse pathway has '+str(dop_df.shape[0])+' genes in it.\\n')\n",
    "\n",
    "# show the gene_ids\n",
    "print(dop_df['gene_id'].to_numpy())"
   ]
  },
  {
   "cell_type": "code",
   "execution_count": null,
   "metadata": {},
   "outputs": [],
   "source": [
    "dop_df.head()"
   ]
  },
  {
   "cell_type": "code",
   "execution_count": null,
   "metadata": {},
   "outputs": [],
   "source": [
    "# lets practice writing out a simple gene_id file\n",
    "\n",
    "f = open('dop_geneids.txt','w')\n",
    "\n",
    "for i in dop_df['gene_id']:\n",
    "     f.write(i+'\\n')\n",
    "\n",
    "f.close()\n",
    "\n",
    "# now open this file and continue with the exercise.\n",
    "\n",
    "# it is possible to download protein-protein interaction data from BioGrid and Intact and using methods learned in this and the previous notebook create a dataframe that you can merge with the gene_ids in this pathway file to extract all of the interactions between these proteins. It is also possible to write code to do this directly using an API provided by BioGrid, but this is beyond the scope of this course.\n",
    "\n",
    "# you should now paste these gene_ids into either:\n",
    "#   STRING - https://string-db.org/cgi/input?sessionId=bmMdkG6HNIwf&input_page_show_search=on\n",
    "#   or\n",
    "#   iRefWeb - http://wodaklab.org/iRefWeb/search/index\n",
    "# to find the answers. I will show you how to do this in the video as well."
   ]
  }
 ],
 "metadata": {
  "interpreter": {
   "hash": "c79478e135452d4f8dcea3898ce85a4457be8d06848dc07bbec8d2854f4ceed7"
  },
  "kernelspec": {
   "display_name": "Python 3.7.4 64-bit (conda)",
   "name": "python3"
  },
  "language_info": {
   "codemirror_mode": {
    "name": "ipython",
    "version": 3
   },
   "file_extension": ".py",
   "mimetype": "text/x-python",
   "name": "python",
   "nbconvert_exporter": "python",
   "pygments_lexer": "ipython3",
   "version": "3.8.13"
  },
  "orig_nbformat": 2
 },
 "nbformat": 4,
 "nbformat_minor": 2
}
