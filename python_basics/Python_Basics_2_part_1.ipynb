{
 "cells": [
  {
   "cell_type": "markdown",
   "metadata": {},
   "source": [
    "# Python Basics 2\n",
    "## Notebook 1\n",
    "<br>\n",
    "\n",
    "### In this Notebook we'll cover:<br>\n",
    "\n",
    "1. Conditionals and if statements<br>\n",
    "    1.1 Booleans<br>\n",
    "    1.2 If statements<br>\n",
    "    1.3 If ... else statements<br><br>\n",
    "\n",
    "2. Loops<br>\n",
    "    2.1 For loops<br>\n",
    "    2.2 While loops<br><br>\n",
    "\n",
    "***\n",
    "\n",
    "## 1. Conditionals and if statements\n",
    "\n",
    "### 1.1 Booleans\n",
    "\n",
    "Booleans represent one of two values: `True` or `False`"
   ]
  },
  {
   "cell_type": "code",
   "execution_count": 1,
   "metadata": {},
   "outputs": [
    {
     "name": "stdout",
     "output_type": "stream",
     "text": [
      "<class 'bool'>\n",
      "<class 'bool'>\n"
     ]
    }
   ],
   "source": [
    "print(type(True))\n",
    "print(type(False))"
   ]
  },
  {
   "cell_type": "markdown",
   "metadata": {},
   "source": [
    "Python uses boolean variables to evaluate conditions. This way you get one of two answers, `True` or `False`\n",
    "\n",
    "This conditions can be logical conditions from Mathematics\n",
    "\n",
    "| Condition             |      Math Syntax      |  Python Syntax |\n",
    "|:----------------------|:---------------------:|:--------------:|\n",
    "| Equal                 |           =           |       ==       |\n",
    "| Greater than          |           >           |        >       |\n",
    "| Greater or equal than |         $\\ge$         |       >=       |\n",
    "| Different             |        $\\neq$         |       !=       |"
   ]
  },
  {
   "cell_type": "code",
   "execution_count": 2,
   "metadata": {},
   "outputs": [
    {
     "name": "stdout",
     "output_type": "stream",
     "text": [
      "2 = 1:   False\n",
      "2 > 1:   True\n",
      "2 <= 1:  False\n",
      "2 != 1:  True\n"
     ]
    }
   ],
   "source": [
    "print('2 = 1:   ' + str( 2==1 ))\n",
    "print('2 > 1:   ' + str( 2>1 ))\n",
    "print('2 <= 1:  ' + str( 2<=1 ))\n",
    "print('2 != 1:  ' + str( 2!=1 ))"
   ]
  },
  {
   "cell_type": "markdown",
   "metadata": {},
   "source": [
    "You can evaluate multiple conditions with the `and` and `or` operators\n",
    "\n",
    "- `and`: Will return `True` only if all of the conditions are true<br><br>\n",
    "\n",
    "- `or`: Will return `True` if at least one of the conditions are true"
   ]
  },
  {
   "cell_type": "code",
   "execution_count": 3,
   "metadata": {},
   "outputs": [
    {
     "name": "stdout",
     "output_type": "stream",
     "text": [
      "1 < 2 and 2 < 3: True\n",
      "\n",
      "1 < 2 and 3 < 2: False\n",
      "\n",
      "1 < 2 or 3 < 2:  True\n",
      "\n",
      "2 < 1 or 3 < 2:  False\n"
     ]
    }
   ],
   "source": [
    "print('1 < 2 and 2 < 3: '   + str( 1<2 and 2<3 ))\n",
    "print('\\n1 < 2 and 3 < 2: ' + str( 1<2 and 3<2 ))\n",
    "print('\\n1 < 2 or 3 < 2:  ' + str( 1<2 or 3<2 ))\n",
    "print('\\n2 < 1 or 3 < 2:  ' + str( 2<1 or 3<2 ))"
   ]
  },
  {
   "cell_type": "markdown",
   "metadata": {},
   "source": [
    "Python also has built in functions that return booleans, for example, `isinstance()`, which evaluates if an object is of a certain data type"
   ]
  },
  {
   "cell_type": "code",
   "execution_count": 4,
   "metadata": {},
   "outputs": [
    {
     "name": "stdout",
     "output_type": "stream",
     "text": [
      "The variable is an integer:  False\n",
      "\n",
      "The variable is a string:    True\n"
     ]
    }
   ],
   "source": [
    "var = 'This is a string'\n",
    "\n",
    "print('The variable is an integer:  ' + str( isinstance(var, int) ))\n",
    "\n",
    "print('\\nThe variable is a string:    ' + str( isinstance(var, str) ))"
   ]
  },
  {
   "cell_type": "markdown",
   "metadata": {},
   "source": [
    "<br><br>\n",
    "<font color='#993366'>Evaluate if 4 is smaller than 5 and if 3 is bigger or equal than 2</font>"
   ]
  },
  {
   "cell_type": "code",
   "execution_count": null,
   "metadata": {},
   "outputs": [],
   "source": []
  },
  {
   "cell_type": "markdown",
   "metadata": {},
   "source": [
    "<br>\n",
    "\n",
    "## 1.2 If statements\n",
    "\n",
    "`if` statements are used when you want to execute a piece of code only if a certain condition is satisfied. Its syntax is the following:\n",
    "<br><br>\n",
    "\n",
    "**<font color='#009900'>if</font>** boolean condition **<font color='#009900'>:</font>**\n",
    "\n",
    ">Body\n",
    "\n",
    "<br>\n",
    "\n",
    "Notice that:\n",
    "\n",
    "- If the boolean condition is `True`, the code in the Body will be evaluated, and if it's `False`, it will be ignored<br><br>\n",
    "\n",
    "- The boolean condition can be anything that returns a boolean<br><br>\n",
    "\n",
    "- The first line of the `if` statement must end with a colon<br><br>\n",
    "\n",
    "- The Body of an `if` statement can contain many statements, and it must be indented. **Python uses these indentations to identify which instructions should be executed within the if statement**<br><br>"
   ]
  },
  {
   "cell_type": "code",
   "execution_count": 5,
   "metadata": {},
   "outputs": [
    {
     "name": "stdout",
     "output_type": "stream",
     "text": [
      "One is less than two\n"
     ]
    }
   ],
   "source": [
    "# The Boolean condition is True, so Python executes the body of the if statement\n",
    "if 1<2:\n",
    "    print('One is less than two')"
   ]
  },
  {
   "cell_type": "code",
   "execution_count": 6,
   "metadata": {},
   "outputs": [],
   "source": [
    "# The Boolean condition is False, so Python skips the body of the if statement\n",
    "if 1==2:\n",
    "    print('One is equal to two')"
   ]
  },
  {
   "cell_type": "markdown",
   "metadata": {},
   "source": [
    "<br>\n",
    "\n",
    "Writing more than one line in the body of the `if` statement"
   ]
  },
  {
   "cell_type": "code",
   "execution_count": 7,
   "metadata": {},
   "outputs": [
    {
     "name": "stdout",
     "output_type": "stream",
     "text": [
      "Even though the Boolean condition is False, this line will print anyway\n"
     ]
    }
   ],
   "source": [
    "if 1==2:\n",
    "    print('One is equal to two')\n",
    "print('Even though the Boolean condition is False, this line will print anyway')"
   ]
  },
  {
   "cell_type": "markdown",
   "metadata": {},
   "source": [
    "In the code above the first `print()` function is run only if the Boolean condition is `True`, but the second one is printed regardless of this.  This is because only the first one has the correct indentation"
   ]
  },
  {
   "cell_type": "code",
   "execution_count": 8,
   "metadata": {},
   "outputs": [],
   "source": [
    "if 1==2:\n",
    "    print('One is equal to two')\n",
    "    print('This line is now inside of the if statement, so will only print when the boolean condition is True')"
   ]
  },
  {
   "cell_type": "markdown",
   "metadata": {},
   "source": [
    "<br>\n",
    "\n",
    "## 1.3 If ... else statements\n",
    "\n",
    "`if...else` statements are used when you want to execute anything which returned `False` in the preceding `if` statement. Its syntax is the following:\n",
    "<br><br>\n",
    "\n",
    "**<font color='#009900'>if</font>** boolean condition **<font color='#009900'>:</font>**\n",
    "\n",
    ">Body of if\n",
    "\n",
    "**<font color='#009900'>else</font><font color='#009900'>:</font>**\n",
    "\n",
    ">Body of else\n",
    "\n",
    "<br>\n",
    "\n",
    "Notice that:\n",
    "- Both `if` and `else` statements finish with a colon<br><br>\n",
    "- The `if` and `else` statements have the same indentation and their corresponding bodies have a higher indentation\n"
   ]
  },
  {
   "cell_type": "code",
   "execution_count": 9,
   "metadata": {},
   "outputs": [
    {
     "name": "stdout",
     "output_type": "stream",
     "text": [
      "Evaluating if 1 is bigger than 2:\n",
      "\n",
      "One is NOT bigger than two\n"
     ]
    }
   ],
   "source": [
    "print('Evaluating if 1 is bigger than 2:\\n')\n",
    "\n",
    "if 1>2:\n",
    "    print('One is bigger than two')\n",
    "else:\n",
    "    print('One is NOT bigger than two')"
   ]
  },
  {
   "cell_type": "markdown",
   "metadata": {},
   "source": [
    "<br><br>\n",
    "<font color='#993366'>Define a string variable and then write an if..else statement that will check if the length of the string is 10 and print \"The length of the string is 10\" if it is and \"The length of the string is not 10\" if it isn't</font>"
   ]
  },
  {
   "cell_type": "code",
   "execution_count": null,
   "metadata": {},
   "outputs": [],
   "source": []
  },
  {
   "cell_type": "markdown",
   "metadata": {},
   "source": [
    "<br><br>\n",
    "\n",
    "***\n",
    "\n",
    "## 2. Loops\n",
    "\n",
    "Python has two primitive loop commands:\n",
    "\n",
    "- `for` loops\n",
    "- `while` loops\n",
    "\n",
    "\n",
    "### 2.1 For loop\n",
    "\n",
    "Based on [this](https://kkiesling.github.io/python-novice-gapminder-custom/06-for-loops/) online tutorial\n",
    "\n",
    "Last week we learnt how to define strings and how to access their elements by using indices"
   ]
  },
  {
   "cell_type": "code",
   "execution_count": 10,
   "metadata": {},
   "outputs": [
    {
     "name": "stdout",
     "output_type": "stream",
     "text": [
      "Hello, world!\n"
     ]
    }
   ],
   "source": [
    "hello_world = 'Hello, world!'\n",
    "print(hello_world)"
   ]
  },
  {
   "cell_type": "markdown",
   "metadata": {},
   "source": [
    "So if we wanted to print each of the entries of the string, one by one, we could do the following:"
   ]
  },
  {
   "cell_type": "code",
   "execution_count": 11,
   "metadata": {},
   "outputs": [
    {
     "name": "stdout",
     "output_type": "stream",
     "text": [
      "H\n",
      "e\n",
      "l\n",
      "l\n",
      "o\n",
      ",\n",
      " \n",
      "w\n",
      "o\n",
      "r\n",
      "l\n",
      "d\n",
      "!\n"
     ]
    }
   ],
   "source": [
    "print(hello_world[0])\n",
    "print(hello_world[1])\n",
    "print(hello_world[2])\n",
    "print(hello_world[3])\n",
    "print(hello_world[4])\n",
    "print(hello_world[5])\n",
    "print(hello_world[6])\n",
    "print(hello_world[7])\n",
    "print(hello_world[8])\n",
    "print(hello_world[9])\n",
    "print(hello_world[10])\n",
    "print(hello_world[11])\n",
    "print(hello_world[12])"
   ]
  },
  {
   "cell_type": "markdown",
   "metadata": {},
   "source": [
    "Alhough this works, it can become impractical pretty fast (for example, what if our string was 100 characters long? or 1000?)\n",
    "\n",
    "`For loops` allow you to execute commands once for each value in a collection. Their syntax is the following:\n",
    "<br><br>\n",
    "\n",
    "**<font color='#009900'>for</font>** loop_variable **<font color='#009900'>in</font>** collection **<font color='#009900'>:</font>**\n",
    "\n",
    ">Body\n",
    "\n",
    "<br>\n",
    "\n",
    "Notice that:\n",
    "\n",
    "- The first line of the `for loop` must end with a colon<br><br>\n",
    "- The `body` of a loop can contain many statements, and it must be indented. **Python uses these indentations to identify which instructions should be executed within the loop**<br><br>\n",
    "- As with all variables, `loop variables` can be called anything<br><br>"
   ]
  },
  {
   "cell_type": "code",
   "execution_count": 12,
   "metadata": {},
   "outputs": [
    {
     "name": "stdout",
     "output_type": "stream",
     "text": [
      "The value of the variable idx is: 0\n",
      "\n",
      "The value of the variable idx is: 1\n",
      "\n",
      "The value of the variable idx is: 2\n",
      "\n",
      "The value of the variable idx is: 3\n",
      "\n",
      "The value of the variable idx is: 4\n",
      "\n",
      "The value of the variable idx is: 5\n",
      "\n",
      "The value of the variable idx is: 6\n",
      "\n",
      "The value of the variable idx is: 7\n",
      "\n",
      "The value of the variable idx is: 8\n",
      "\n",
      "The value of the variable idx is: 9\n",
      "\n",
      "The value of the variable idx is: 10\n",
      "\n",
      "The value of the variable idx is: 11\n",
      "\n",
      "The value of the variable idx is: 12\n",
      "\n"
     ]
    }
   ],
   "source": [
    "for idx in [0,1,2,3,4,5,6,7,8,9,10,11,12]:\n",
    "    print('The value of the variable idx is: ' + str(idx) + '\\n')"
   ]
  },
  {
   "cell_type": "code",
   "execution_count": 13,
   "metadata": {},
   "outputs": [
    {
     "name": "stdout",
     "output_type": "stream",
     "text": [
      "H\n",
      "e\n",
      "l\n",
      "l\n",
      "o\n",
      ",\n",
      " \n",
      "w\n",
      "o\n",
      "r\n",
      "l\n",
      "d\n",
      "!\n"
     ]
    }
   ],
   "source": [
    "for idx in range(0,13):\n",
    "    print(hello_world[idx])"
   ]
  },
  {
   "cell_type": "markdown",
   "metadata": {},
   "source": [
    "Note that the stop index is 13 instead of 12. This is because **in Python, the element from the start index is included but the one from the end is not** (as we saw last week when using slices)<br><br><br>\n",
    "\n",
    "Python also allows you to use a shortcut, passing the object you want to iterate over directly instead of its indices and it will return all the elements of the object, one by one"
   ]
  },
  {
   "cell_type": "code",
   "execution_count": 14,
   "metadata": {},
   "outputs": [
    {
     "name": "stdout",
     "output_type": "stream",
     "text": [
      "H\n",
      "e\n",
      "l\n",
      "l\n",
      "o\n",
      ",\n",
      " \n",
      "w\n",
      "o\n",
      "r\n",
      "l\n",
      "d\n",
      "!\n"
     ]
    }
   ],
   "source": [
    "for letter in hello_world:\n",
    "    print(letter)"
   ]
  },
  {
   "cell_type": "markdown",
   "metadata": {},
   "source": [
    "<br><br>\n",
    "<font color='#993366'>Iterate over the string you defined in the previous section and print each letter of the string in a new line</font>"
   ]
  },
  {
   "cell_type": "code",
   "execution_count": null,
   "metadata": {},
   "outputs": [],
   "source": []
  },
  {
   "cell_type": "markdown",
   "metadata": {},
   "source": [
    "<br>\n",
    "\n",
    "### 2.2 While loop\n",
    "\n",
    "While the `for` loop iterates over a whole sequence of numbers or over each entry of an object, `while` loops repeat as long as a certain condition is met and when this happens, the loops ends. Its syntax is the following:\n",
    "<br><br>\n",
    "\n",
    "**<font color='#009900'>while</font>** boolean condition **<font color='#009900'>:</font>**\n",
    "\n",
    ">Body<br>\n",
    ">update boolean condition\n",
    "\n",
    "<br>\n",
    "\n",
    "Note that:\n",
    "\n",
    "- Unlike the `for` loop, the `while` loop does not create nor does it update the iterating variable (boolean condition), so you need to take care of that yourself<br><br>\n",
    "- The first line of the `while loop` must end with a colon<br><br>\n",
    "- The `body` of a loop can contain many statements, and it must be indented. **Python uses these indentations to identify which instructions should be executed within the loop**<br><br>"
   ]
  },
  {
   "cell_type": "code",
   "execution_count": 15,
   "metadata": {},
   "outputs": [
    {
     "name": "stdout",
     "output_type": "stream",
     "text": [
      "0\n",
      "1\n",
      "2\n",
      "3\n",
      "4\n"
     ]
    }
   ],
   "source": [
    "i = 0\n",
    "while i<5:\n",
    "    print(i)\n",
    "    i = i+1"
   ]
  },
  {
   "cell_type": "markdown",
   "metadata": {},
   "source": [
    "You have to be careful to update the value evaluated in the boolean condition, otherwise you could create an infinite loop\n",
    "\n",
    "<font color='orange'>**!** The code below is an infinite loop. If you want to try running it you need to uncomment it an you have to kill it by pressing the Stop botton (it's the one with the square, on the right of the Run button)</font>"
   ]
  },
  {
   "cell_type": "code",
   "execution_count": 16,
   "metadata": {},
   "outputs": [
    {
     "name": "stdout",
     "output_type": "stream",
     "text": [
      "0\n",
      "0\n",
      "0\n",
      "0\n",
      "0\n",
      "0\n",
      "0\n",
      "0\n",
      "0\n",
      "0\n",
      "0\n"
     ]
    },
    {
     "ename": "KeyboardInterrupt",
     "evalue": "",
     "output_type": "error",
     "traceback": [
      "\u001b[0;31m---------------------------------------------------------------------------\u001b[0m",
      "\u001b[0;31mKeyboardInterrupt\u001b[0m                         Traceback (most recent call last)",
      "\u001b[0;32m<ipython-input-16-865fef42fa3f>\u001b[0m in \u001b[0;36m<module>\u001b[0;34m()\u001b[0m\n\u001b[1;32m      4\u001b[0m \u001b[0;32mwhile\u001b[0m \u001b[0mi\u001b[0m\u001b[0;34m<\u001b[0m\u001b[0;36m5\u001b[0m\u001b[0;34m:\u001b[0m\u001b[0;34m\u001b[0m\u001b[0;34m\u001b[0m\u001b[0m\n\u001b[1;32m      5\u001b[0m     \u001b[0mprint\u001b[0m\u001b[0;34m(\u001b[0m\u001b[0mi\u001b[0m\u001b[0;34m)\u001b[0m\u001b[0;34m\u001b[0m\u001b[0;34m\u001b[0m\u001b[0m\n\u001b[0;32m----> 6\u001b[0;31m     \u001b[0mtime\u001b[0m\u001b[0;34m.\u001b[0m\u001b[0msleep\u001b[0m\u001b[0;34m(\u001b[0m\u001b[0;36m1\u001b[0m\u001b[0;34m)\u001b[0m\u001b[0;34m\u001b[0m\u001b[0;34m\u001b[0m\u001b[0m\n\u001b[0m",
      "\u001b[0;31mKeyboardInterrupt\u001b[0m: "
     ]
    }
   ],
   "source": [
    "import time\n",
    "\n",
    "i = 0\n",
    "\n",
    "#while i<5:\n",
    "#    print(i)\n",
    "#    time.sleep(1)"
   ]
  }
 ],
 "metadata": {
  "kernelspec": {
   "display_name": "Python 3",
   "language": "python",
   "name": "python3"
  },
  "language_info": {
   "codemirror_mode": {
    "name": "ipython",
    "version": 3
   },
   "file_extension": ".py",
   "mimetype": "text/x-python",
   "name": "python",
   "nbconvert_exporter": "python",
   "pygments_lexer": "ipython3",
   "version": "3.7.3"
  }
 },
 "nbformat": 4,
 "nbformat_minor": 2
}
