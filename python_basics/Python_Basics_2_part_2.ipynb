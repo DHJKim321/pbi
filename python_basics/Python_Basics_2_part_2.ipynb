{
 "cells": [
  {
   "cell_type": "markdown",
   "metadata": {},
   "source": [
    "# Python Basics 2\n",
    "## Notebook 2\n",
    "<br>\n",
    "\n",
    "### In this Notebook we'll cover:<br>\n",
    "\n",
    "3. Python collections<br>\n",
    "    3.1 Lists<br>\n",
    "    3.2 Dictionaries<br><br>\n",
    "\n",
    "***\n",
    "\n",
    "## 3. Python collections\n",
    "\n",
    "<br>\n",
    "\n",
    "Collections are containers that are used to store collections of data. There are four collection data types in Python:\n",
    "\n",
    "- **List**\n",
    "- Tuple\n",
    "- Set\n",
    "- **Dictionary**\n",
    "\n",
    "We are going to review **Lists** and **Dictionaries**\n",
    "<br><br>\n",
    "\n",
    "### 3.1 Lists\n",
    "\n",
    "A list is a collection which is ordered and changeable. In Python, lists are written with square brackets"
   ]
  },
  {
   "cell_type": "code",
   "execution_count": 1,
   "metadata": {},
   "outputs": [
    {
     "name": "stdout",
     "output_type": "stream",
     "text": [
      "<class 'list'>\n",
      "['element 1', 'element 2', 'element 3', 'element 4', 'element 5']\n"
     ]
    }
   ],
   "source": [
    "my_list = ['element 1', 'element 2', 'element 3', 'element 4', 'element 5']\n",
    "\n",
    "print(type(my_list))\n",
    "\n",
    "print(my_list)"
   ]
  },
  {
   "cell_type": "markdown",
   "metadata": {},
   "source": [
    "<br>\n",
    "In Python, lists have a very similar behaviour to strings, so we can use what we already know about strings to manipulate lists as well:\n",
    "\n",
    "- We can **get the number of elements** in the list using the function `len()`<br><br>\n",
    "\n",
    "- We can **access elements** of the list using square brackets and the index of the item we want to extract<br><br>\n",
    "\n",
    "- We can **extract slices** using square brackets including the start and end index of the elements we want to extract (Remember Python does not include the end index)<br><br>\n",
    "\n",
    "- We can **join two lists** using the `+` operator"
   ]
  },
  {
   "cell_type": "code",
   "execution_count": 2,
   "metadata": {},
   "outputs": [
    {
     "name": "stdout",
     "output_type": "stream",
     "text": [
      "The length of this list is: 5\n",
      "\n",
      " The first item is: element 1\n",
      "\n",
      "The first two items are: ['element 1', 'element 2']\n",
      "\n",
      "Joining two lists together: ['element 1', 'element 2', 'element 1', 'element 2']\n"
     ]
    }
   ],
   "source": [
    "print('The length of this list is: ' + str( len(my_list) ))\n",
    "print('\\n The first item is: ' + my_list[0] )\n",
    "print('\\nThe first two items are: ' + str( my_list[0:2] ))\n",
    "print('\\nJoining two lists together: ' + str( my_list[0:2] + my_list[0:2] ))"
   ]
  },
  {
   "cell_type": "markdown",
   "metadata": {},
   "source": [
    "<br><br>\n",
    "You can **change the value** of an item by selecting it and assigning a new value to it"
   ]
  },
  {
   "cell_type": "code",
   "execution_count": 3,
   "metadata": {},
   "outputs": [
    {
     "name": "stdout",
     "output_type": "stream",
     "text": [
      "['element 1', 'element 2', 'element 3', 'new value', 'element 5']\n"
     ]
    }
   ],
   "source": [
    "my_list[3] = 'new value'\n",
    "\n",
    "print(my_list)"
   ]
  },
  {
   "cell_type": "markdown",
   "metadata": {},
   "source": [
    "<br><br>\n",
    "You can **iterate over the elements** of a list in exactly the same way as we did with the string"
   ]
  },
  {
   "cell_type": "code",
   "execution_count": 4,
   "metadata": {},
   "outputs": [
    {
     "name": "stdout",
     "output_type": "stream",
     "text": [
      "element 1\n",
      "element 2\n",
      "element 3\n",
      "new value\n",
      "element 5\n"
     ]
    }
   ],
   "source": [
    "for elem in my_list:\n",
    "    print(elem)"
   ]
  },
  {
   "cell_type": "markdown",
   "metadata": {},
   "source": [
    "<br><br>\n",
    "You can **add new elements** to the list using the `append()` method\n",
    "\n",
    "Notice that since it is a method, the syntax is <font color='#86b300'>**variable**</font><font color='#cc0066'>**.method()**</font>"
   ]
  },
  {
   "cell_type": "code",
   "execution_count": 5,
   "metadata": {},
   "outputs": [
    {
     "name": "stdout",
     "output_type": "stream",
     "text": [
      "['element 1', 'element 2', 'element 3', 'new value', 'element 5', 'appended value']\n"
     ]
    }
   ],
   "source": [
    "my_list.append('appended value')\n",
    "print(my_list)"
   ]
  },
  {
   "cell_type": "markdown",
   "metadata": {},
   "source": [
    "<br><br>\n",
    "You can **remove elements** to the list using the `remove()`"
   ]
  },
  {
   "cell_type": "code",
   "execution_count": 6,
   "metadata": {},
   "outputs": [
    {
     "name": "stdout",
     "output_type": "stream",
     "text": [
      "['element 1', 'element 2', 'element 3', 'new value', 'appended value']\n"
     ]
    }
   ],
   "source": [
    "my_list.remove('element 5')\n",
    "print(my_list)"
   ]
  },
  {
   "cell_type": "markdown",
   "metadata": {},
   "source": [
    "Or the `pop()` method if you want to remove it by its index"
   ]
  },
  {
   "cell_type": "code",
   "execution_count": 7,
   "metadata": {},
   "outputs": [
    {
     "data": {
      "text/plain": [
       "'element 3'"
      ]
     },
     "execution_count": 7,
     "metadata": {},
     "output_type": "execute_result"
    }
   ],
   "source": [
    "my_list.pop(2)"
   ]
  },
  {
   "cell_type": "markdown",
   "metadata": {},
   "source": [
    "<br><br>\n",
    "You can see all of the methods you can use on lists [here](https://docs.python.org/3/tutorial/datastructures.html#more-on-lists)\n",
    "<br><br>"
   ]
  },
  {
   "cell_type": "markdown",
   "metadata": {},
   "source": [
    "<br><br>\n",
    "<font color='#993366'>Create your own list with at least three characters. Add a new element, remove one and iterate over its elements in a `for` loop, printing each element</font>"
   ]
  },
  {
   "cell_type": "code",
   "execution_count": null,
   "metadata": {},
   "outputs": [],
   "source": []
  },
  {
   "cell_type": "markdown",
   "metadata": {},
   "source": [
    "<br><br>\n",
    "\n",
    "### 3.2 Dictionaries\n",
    "\n",
    "A dictionary is a collection which is **unordered**, changeable **and indexed** (this means that each element has a 'name'). In Python dictionaries are written with curly brackets, and they have <font color='#009999'>**keys**</font> (the 'names') and <font color='#cc0066'>**values**</font>"
   ]
  },
  {
   "cell_type": "code",
   "execution_count": 8,
   "metadata": {},
   "outputs": [
    {
     "name": "stdout",
     "output_type": "stream",
     "text": [
      "<class 'dict'>\n",
      "{'key_1': 'val_1', 'key_2': 'val_2', 'key_3': 'val_3'}\n"
     ]
    }
   ],
   "source": [
    "my_dict = {'key_1':'val_1', 'key_2':'val_2', 'key_3': 'val_3'}\n",
    "print(type(my_dict))\n",
    "print(my_dict)"
   ]
  },
  {
   "cell_type": "markdown",
   "metadata": {},
   "source": [
    "<br><br>\n",
    "You can access the items of a dictionary by referring to its key name, inside square brackets"
   ]
  },
  {
   "cell_type": "code",
   "execution_count": 9,
   "metadata": {},
   "outputs": [
    {
     "name": "stdout",
     "output_type": "stream",
     "text": [
      "Dictionary value for entry with key = 'key_2': val_2\n"
     ]
    }
   ],
   "source": [
    "print('Dictionary value for entry with key = \\'key_2\\': ' + my_dict['key_2'])"
   ]
  },
  {
   "cell_type": "markdown",
   "metadata": {},
   "source": [
    "<br><br>\n",
    "You can **change the value** of an item by referring to its <font color='#009999'>**key**</font> name and assigning a new value to it"
   ]
  },
  {
   "cell_type": "code",
   "execution_count": 10,
   "metadata": {},
   "outputs": [
    {
     "name": "stdout",
     "output_type": "stream",
     "text": [
      "{'key_1': 'val_1', 'key_2': 'new_val_2', 'key_3': 'val_3'}\n"
     ]
    }
   ],
   "source": [
    "my_dict['key_2'] = 'new_val_2'\n",
    "print(my_dict)"
   ]
  },
  {
   "cell_type": "markdown",
   "metadata": {},
   "source": [
    "<br><br>\n",
    "You can **iterate over the elements** of a list in the same way as we did with strings and with lists\n",
    "\n",
    "The only difference is that the iterator will only return the <font color='#009999'>**key**</font>, and not the <font color='#cc0066'>**value**</font> of the element"
   ]
  },
  {
   "cell_type": "code",
   "execution_count": 11,
   "metadata": {},
   "outputs": [
    {
     "name": "stdout",
     "output_type": "stream",
     "text": [
      "key_1\n",
      "key_2\n",
      "key_3\n"
     ]
    }
   ],
   "source": [
    "for elem in my_dict:\n",
    "    print(elem)"
   ]
  },
  {
   "cell_type": "markdown",
   "metadata": {},
   "source": [
    "To obtain the value you just need to access it using square brackets"
   ]
  },
  {
   "cell_type": "code",
   "execution_count": 12,
   "metadata": {},
   "outputs": [
    {
     "name": "stdout",
     "output_type": "stream",
     "text": [
      "val_1\n",
      "new_val_2\n",
      "val_3\n"
     ]
    }
   ],
   "source": [
    "for elem in my_dict:\n",
    "    print(my_dict[elem])"
   ]
  },
  {
   "cell_type": "markdown",
   "metadata": {},
   "source": [
    "Or use the method `values()`"
   ]
  },
  {
   "cell_type": "code",
   "execution_count": 13,
   "metadata": {},
   "outputs": [
    {
     "name": "stdout",
     "output_type": "stream",
     "text": [
      "val_1\n",
      "new_val_2\n",
      "val_3\n"
     ]
    }
   ],
   "source": [
    "for vals in my_dict.values():\n",
    "    print(vals)"
   ]
  },
  {
   "cell_type": "markdown",
   "metadata": {},
   "source": [
    "<br><br>\n",
    "You can **add new elements** to the dictionary in the same way as we modified the value of an existing entry, the only difference is that the <font color='#009999'>**key**</font> you are using here must be new"
   ]
  },
  {
   "cell_type": "code",
   "execution_count": 14,
   "metadata": {},
   "outputs": [
    {
     "name": "stdout",
     "output_type": "stream",
     "text": [
      "{'key_1': 'val_1', 'key_2': 'new_val_2', 'key_3': 'val_3', 'new_key': 'new_value'}\n"
     ]
    }
   ],
   "source": [
    "my_dict['new_key'] = 'new_value'\n",
    "print(my_dict)"
   ]
  },
  {
   "cell_type": "markdown",
   "metadata": {},
   "source": [
    "<br><br>\n",
    "You can **remove elements** to the list using the `pop()` method, specifying the <font color='#009999'>**key**</font>"
   ]
  },
  {
   "cell_type": "code",
   "execution_count": 15,
   "metadata": {},
   "outputs": [
    {
     "name": "stdout",
     "output_type": "stream",
     "text": [
      "{'key_1': 'val_1', 'key_2': 'new_val_2', 'key_3': 'val_3'}\n"
     ]
    }
   ],
   "source": [
    "my_dict.pop('new_key')\n",
    "print(my_dict)"
   ]
  },
  {
   "cell_type": "markdown",
   "metadata": {},
   "source": [
    "<br><br>\n",
    "\n",
    "You can see all of the methods you can use on dictionaries [here](https://www.w3schools.com/python/python_dictionaries.asp)\n",
    "\n",
    "<br><br>\n",
    "<font color='#993366'>Create your own dictionary, add a new element, remove one and iterate over its keys, printing its corresponding value on each iteration</font>\n"
   ]
  },
  {
   "cell_type": "code",
   "execution_count": null,
   "metadata": {},
   "outputs": [],
   "source": []
  },
  {
   "cell_type": "markdown",
   "metadata": {},
   "source": [
    "<br><br><br><br>\n",
    "\n",
    "***\n",
    "***\n",
    "\n",
    "# Example\n",
    "\n",
    "Following the example we were working on last week, the following block of code loads the alice.txt file as a string\n",
    "<br><br>\n",
    "\n",
    "**Note:** The way in which these problems are solved is not very efficient, and sometimes there are special Python functions or methods that do the same thing in a simpler way, but we are doing it this way to practice the concepts we have seen so far"
   ]
  },
  {
   "cell_type": "code",
   "execution_count": 16,
   "metadata": {},
   "outputs": [],
   "source": [
    "file = open('alice.txt','r')\n",
    "alice = file.read()\n",
    "file.close()"
   ]
  },
  {
   "cell_type": "markdown",
   "metadata": {},
   "source": [
    "<br><br>\n",
    "We can split the string into a list of chapters using the `split()` method\n",
    "\n",
    "**Note:** We"
   ]
  },
  {
   "cell_type": "code",
   "execution_count": 17,
   "metadata": {},
   "outputs": [
    {
     "name": "stdout",
     "output_type": "stream",
     "text": [
      "The book has 13 chapters\n"
     ]
    }
   ],
   "source": [
    "alice_by_chapter = alice.split('CHAPTER')\n",
    "\n",
    "print('The book has ' + str(len(alice_by_chapter)) + ' chapters')"
   ]
  },
  {
   "cell_type": "markdown",
   "metadata": {},
   "source": [
    "<br><br>\n",
    "If we see the content of the first chapter we see it's not actually a chapter but the title of the book, so let's remove it"
   ]
  },
  {
   "cell_type": "code",
   "execution_count": 18,
   "metadata": {},
   "outputs": [
    {
     "name": "stdout",
     "output_type": "stream",
     "text": [
      "First Chapter: [Alice's Adventures in Wonderland by Lewis Carroll 1865]\n",
      "\n",
      "\n"
     ]
    },
    {
     "data": {
      "text/plain": [
       "\"[Alice's Adventures in Wonderland by Lewis Carroll 1865]\\n\\n\""
      ]
     },
     "execution_count": 18,
     "metadata": {},
     "output_type": "execute_result"
    }
   ],
   "source": [
    "print('First Chapter: ' + alice_by_chapter[0])\n",
    "\n",
    "#  Remove first element of the list\n",
    "alice_by_chapter.pop(0)"
   ]
  },
  {
   "cell_type": "code",
   "execution_count": 19,
   "metadata": {},
   "outputs": [
    {
     "name": "stdout",
     "output_type": "stream",
     "text": [
      "\n",
      "New first Chapter:\n",
      "\n",
      "CHAPTER I. Down the Rabbit-Hole\n",
      "\n",
      "Alice was beginning to get very tired of sitting by her sister on the\n",
      "bank, and of having nothing to do: once or twice she had peeped into the\n",
      "book her sister was reading, but it had no pictures or conversations in\n",
      "it, 'and what is the use of a book,' thought Alice 'without pictures or\n",
      "conversation?'\n",
      "\n",
      "So she was considering in her own mind (as well as she could, for the\n",
      "hot day made her feel very sleepy and stupid), whether the pleasure\n",
      "of making a daisy-chain would be worth the trouble of getting up and\n",
      "picking the daisies, when suddenly a White Rabbit with pink eyes ran\n",
      "close by her.\n",
      "\n",
      "There was nothing so VERY remarkable in that; nor did Alice think it so\n",
      "VERY much out of the way to hear the Rabbit say to itself, 'Oh dear!\n",
      "Oh dear! I shall be late!' (when she thought it over afterwards, it\n",
      "occurred to her that she ought to have wondered at this, but at the time\n",
      "it all seemed quite natural); but when the Rabbit actually TOOK A WATCH\n",
      "OUT OF ITS WAISTCOAT-POCKET, and looked at it, and then hurried on,\n",
      "Alice started to her feet, for it flashed across her mind that she had\n",
      "never before seen a rabbit with either a waistcoat-pocket, or a watch\n",
      "to take out of it, and burning with curiosity, she ran across the field\n",
      "after it, and fortunately was just in time to see it pop down a large\n",
      "rabbit-hole under the hedge.\n",
      "\n",
      "In another moment down went Alice after it, never once considering how\n",
      "in the world she was to get out again.\n",
      "\n",
      "The rabbit-hole went straight on like a tunnel for some way, and then\n",
      "dipped suddenly down, so suddenly that Alice had not a moment to think\n",
      "about stopping herself before she found herself falling down a very deep\n",
      "well.\n",
      "\n",
      "Either the well was very deep, or she fell very slowly, for she had\n",
      "plenty of time as she went down to look about her and to wonder what was\n",
      "going to happen next. First, she tried to look down and make out what\n",
      "she was coming to, but it was too dark to see anything; then she\n",
      "looked at the sides of the well, and noticed that they were filled with\n",
      "cupboards and book-shelves; here and there she saw maps and pictures\n",
      "hung upon pegs. She took down a jar from one of the shelves as\n",
      "she passed; it was labelled 'ORANGE MARMALADE', but to her great\n",
      "disappointment it was empty: she did not like to drop the jar for fear\n",
      "of killing somebody, so managed to put it into one of the cupboards as\n",
      "she fell past it.\n",
      "\n",
      "'Well!' thought Alice to herself, 'after such a fall as this, I shall\n",
      "think nothing of tumbling down stairs! How brave they'll all think me at\n",
      "home! Why, I wouldn't say anything about it, even if I fell off the top\n",
      "of the house!' (Which was very likely true.)\n",
      "\n",
      "Down, down, down. Would the fall NEVER come to an end! 'I wonder how\n",
      "many miles I've fallen by this time?' she said aloud. 'I must be getting\n",
      "somewhere near the centre of the earth. Let me see: that would be four\n",
      "thousand miles down, I think--' (for, you see, Alice had learnt several\n",
      "things of this sort in her lessons in the schoolroom, and though this\n",
      "was not a VERY good opportunity for showing off her knowledge, as there\n",
      "was no one to listen to her, still it was good practice to say it over)\n",
      "'--yes, that's about the right distance--but then I wonder what Latitude\n",
      "or Longitude I've got to?' (Alice had no idea what Latitude was, or\n",
      "Longitude either, but thought they were nice grand words to say.)\n",
      "\n",
      "Presently she began again. 'I wonder if I shall fall right THROUGH the\n",
      "earth! How funny it'll seem to come out among the people that walk with\n",
      "their heads downward! The Antipathies, I think--' (she was rather glad\n",
      "there WAS no one listening, this time, as it didn't sound at all the\n",
      "right word) '--but I shall have to ask them what the name of the country\n",
      "is, you know. Please, Ma'am, is this New Zealand or Australia?' (and\n",
      "she tried to curtsey as she spoke--fancy CURTSEYING as you're falling\n",
      "through the air! Do you think you could manage it?) 'And what an\n",
      "ignorant little girl she'll think me for asking! No, it'll never do to\n",
      "ask: perhaps I shall see it written up somewhere.'\n",
      "\n",
      "Down, down, down. There was nothing else to do, so Alice soon began\n",
      "talking again. 'Dinah'll miss me very much to-night, I should think!'\n",
      "(Dinah was the cat.) 'I hope they'll remember her saucer of milk at\n",
      "tea-time. Dinah my dear! I wish you were down here with me! There are no\n",
      "mice in the air, I'm afraid, but you might catch a bat, and that's very\n",
      "like a mouse, you know. But do cats eat bats, I wonder?' And here Alice\n",
      "began to get rather sleepy, and went on saying to herself, in a dreamy\n",
      "sort of way, 'Do cats eat bats? Do cats eat bats?' and sometimes, 'Do\n",
      "bats eat cats?' for, you see, as she couldn't answer either question,\n",
      "it didn't much matter which way she put it. She felt that she was dozing\n",
      "off, and had just begun to dream that she was walking hand in hand with\n",
      "Dinah, and saying to her very earnestly, 'Now, Dinah, tell me the truth:\n",
      "did you ever eat a bat?' when suddenly, thump! thump! down she came upon\n",
      "a heap of sticks and dry leaves, and the fall was over.\n",
      "\n",
      "Alice was not a bit hurt, and she jumped up on to her feet in a moment:\n",
      "she looked up, but it was all dark overhead; before her was another\n",
      "long passage, and the White Rabbit was still in sight, hurrying down it.\n",
      "There was not a moment to be lost: away went Alice like the wind, and\n",
      "was just in time to hear it say, as it turned a corner, 'Oh my ears\n",
      "and whiskers, how late it's getting!' She was close behind it when she\n",
      "turned the corner, but the Rabbit was no longer to be seen: she found\n",
      "herself in a long, low hall, which was lit up by a row of lamps hanging\n",
      "from the roof.\n",
      "\n",
      "There were doors all round the hall, but they were all locked; and when\n",
      "Alice had been all the way down one side and up the other, trying every\n",
      "door, she walked sadly down the middle, wondering how she was ever to\n",
      "get out again.\n",
      "\n",
      "Suddenly she came upon a little three-legged table, all made of solid\n",
      "glass; there was nothing on it except a tiny golden key, and Alice's\n",
      "first thought was that it might belong to one of the doors of the hall;\n",
      "but, alas! either the locks were too large, or the key was too small,\n",
      "but at any rate it would not open any of them. However, on the second\n",
      "time round, she came upon a low curtain she had not noticed before, and\n",
      "behind it was a little door about fifteen inches high: she tried the\n",
      "little golden key in the lock, and to her great delight it fitted!\n",
      "\n",
      "Alice opened the door and found that it led into a small passage, not\n",
      "much larger than a rat-hole: she knelt down and looked along the passage\n",
      "into the loveliest garden you ever saw. How she longed to get out of\n",
      "that dark hall, and wander about among those beds of bright flowers and\n",
      "those cool fountains, but she could not even get her head through the\n",
      "doorway; 'and even if my head would go through,' thought poor Alice, 'it\n",
      "would be of very little use without my shoulders. Oh, how I wish I could\n",
      "shut up like a telescope! I think I could, if I only know how to begin.'\n",
      "For, you see, so many out-of-the-way things had happened lately,\n",
      "that Alice had begun to think that very few things indeed were really\n",
      "impossible.\n",
      "\n",
      "There seemed to be no use in waiting by the little door, so she went\n",
      "back to the table, half hoping she might find another key on it, or at\n",
      "any rate a book of rules for shutting people up like telescopes: this\n",
      "time she found a little bottle on it, ('which certainly was not here\n",
      "before,' said Alice,) and round the neck of the bottle was a paper\n",
      "label, with the words 'DRINK ME' beautifully printed on it in large\n",
      "letters.\n",
      "\n",
      "It was all very well to say 'Drink me,' but the wise little Alice was\n",
      "not going to do THAT in a hurry. 'No, I'll look first,' she said, 'and\n",
      "see whether it's marked \"poison\" or not'; for she had read several nice\n",
      "little histories about children who had got burnt, and eaten up by wild\n",
      "beasts and other unpleasant things, all because they WOULD not remember\n",
      "the simple rules their friends had taught them: such as, that a red-hot\n",
      "poker will burn you if you hold it too long; and that if you cut your\n",
      "finger VERY deeply with a knife, it usually bleeds; and she had never\n",
      "forgotten that, if you drink much from a bottle marked 'poison,' it is\n",
      "almost certain to disagree with you, sooner or later.\n",
      "\n",
      "However, this bottle was NOT marked 'poison,' so Alice ventured to taste\n",
      "it, and finding it very nice, (it had, in fact, a sort of mixed flavour\n",
      "of cherry-tart, custard, pine-apple, roast turkey, toffee, and hot\n",
      "buttered toast,) she very soon finished it off.\n",
      "\n",
      "  *    *    *    *    *    *    *\n",
      "\n",
      "    *    *    *    *    *    *\n",
      "\n",
      "  *    *    *    *    *    *    *\n",
      "\n",
      "'What a curious feeling!' said Alice; 'I must be shutting up like a\n",
      "telescope.'\n",
      "\n",
      "And so it was indeed: she was now only ten inches high, and her face\n",
      "brightened up at the thought that she was now the right size for going\n",
      "through the little door into that lovely garden. First, however, she\n",
      "waited for a few minutes to see if she was going to shrink any further:\n",
      "she felt a little nervous about this; 'for it might end, you know,' said\n",
      "Alice to herself, 'in my going out altogether, like a candle. I wonder\n",
      "what I should be like then?' And she tried to fancy what the flame of a\n",
      "candle is like after the candle is blown out, for she could not remember\n",
      "ever having seen such a thing.\n",
      "\n",
      "After a while, finding that nothing more happened, she decided on going\n",
      "into the garden at once; but, alas for poor Alice! when she got to the\n",
      "door, she found she had forgotten the little golden key, and when she\n",
      "went back to the table for it, she found she could not possibly reach\n",
      "it: she could see it quite plainly through the glass, and she tried her\n",
      "best to climb up one of the legs of the table, but it was too slippery;\n",
      "and when she had tired herself out with trying, the poor little thing\n",
      "sat down and cried.\n",
      "\n",
      "'Come, there's no use in crying like that!' said Alice to herself,\n",
      "rather sharply; 'I advise you to leave off this minute!' She generally\n",
      "gave herself very good advice, (though she very seldom followed it),\n",
      "and sometimes she scolded herself so severely as to bring tears into\n",
      "her eyes; and once she remembered trying to box her own ears for having\n",
      "cheated herself in a game of croquet she was playing against herself,\n",
      "for this curious child was very fond of pretending to be two people.\n",
      "'But it's no use now,' thought poor Alice, 'to pretend to be two people!\n",
      "Why, there's hardly enough of me left to make ONE respectable person!'\n",
      "\n",
      "Soon her eye fell on a little glass box that was lying under the table:\n",
      "she opened it, and found in it a very small cake, on which the words\n",
      "'EAT ME' were beautifully marked in currants. 'Well, I'll eat it,' said\n",
      "Alice, 'and if it makes me grow larger, I can reach the key; and if it\n",
      "makes me grow smaller, I can creep under the door; so either way I'll\n",
      "get into the garden, and I don't care which happens!'\n",
      "\n",
      "She ate a little bit, and said anxiously to herself, 'Which way? Which\n",
      "way?', holding her hand on the top of her head to feel which way it was\n",
      "growing, and she was quite surprised to find that she remained the same\n",
      "size: to be sure, this generally happens when one eats cake, but Alice\n",
      "had got so much into the way of expecting nothing but out-of-the-way\n",
      "things to happen, that it seemed quite dull and stupid for life to go on\n",
      "in the common way.\n",
      "\n",
      "So she set to work, and very soon finished off the cake.\n",
      "\n",
      "  *    *    *    *    *    *    *\n",
      "\n",
      "    *    *    *    *    *    *\n",
      "\n",
      "  *    *    *    *    *    *    *\n",
      "\n",
      "\n",
      "\n",
      "\n",
      "\n"
     ]
    }
   ],
   "source": [
    "print('\\nNew first Chapter:\\n\\nCHAPTER' + alice_by_chapter[0])"
   ]
  },
  {
   "cell_type": "markdown",
   "metadata": {},
   "source": [
    "<br><br>\n",
    "Let's create a new string variable with the first chapter of the book, divide it by paragraphs and remove the first one because it's the title of the chapter and not an actual paragraph, and count the number of paragraphs it contains"
   ]
  },
  {
   "cell_type": "code",
   "execution_count": 20,
   "metadata": {},
   "outputs": [
    {
     "name": "stdout",
     "output_type": "stream",
     "text": [
      "\n",
      "First paragraph of the first chapter:\n",
      "\n",
      "Alice was beginning to get very tired of sitting by her sister on the\n",
      "bank, and of having nothing to do: once or twice she had peeped into the\n",
      "book her sister was reading, but it had no pictures or conversations in\n",
      "it, 'and what is the use of a book,' thought Alice 'without pictures or\n",
      "conversation?'\n",
      "\n",
      "The first chapter has 32 paragraphs\n"
     ]
    }
   ],
   "source": [
    "# Select first chapter\n",
    "ch_1 = alice_by_chapter[0]\n",
    "\n",
    "# Split the string by paragraphs (double line breaks)\n",
    "ch_1_by_paragraph = ch_1.split('\\n\\n')\n",
    "\n",
    "# Remove the first element of the list\n",
    "ch_1_by_paragraph.pop(0)\n",
    "\n",
    "\n",
    "print('\\nFirst paragraph of the first chapter:\\n\\n' + ch_1_by_paragraph[0])\n",
    "\n",
    "print('\\nThe first chapter has ' + str(len(ch_1_by_paragraph)) + ' paragraphs')"
   ]
  },
  {
   "cell_type": "markdown",
   "metadata": {},
   "source": [
    "<br>\n",
    "\n",
    "***\n",
    "\n",
    "Let's now divide the whole book into paragraphs and print only the paragraphs that mention the character The Dodo.\n",
    "\n",
    "First we need to create our new list, removing the title of the book and ignoring (for now) the paragraphs that contain the title of the chapters"
   ]
  },
  {
   "cell_type": "code",
   "execution_count": 21,
   "metadata": {},
   "outputs": [
    {
     "data": {
      "text/plain": [
       "\"[Alice's Adventures in Wonderland by Lewis Carroll 1865]\""
      ]
     },
     "execution_count": 21,
     "metadata": {},
     "output_type": "execute_result"
    }
   ],
   "source": [
    "# 1. Split the string by double line breaks\n",
    "alice_by_paragraphs = alice.split('\\n\\n')\n",
    "\n",
    "# 2. Drop the first element (because it contains the title)\n",
    "alice_by_paragraphs.pop(0)"
   ]
  },
  {
   "cell_type": "markdown",
   "metadata": {},
   "source": [
    "To print the paragraphs where The Dodo is mentioned, let's use a `for` loop with an `if` statement inside using the method `count()` that we saw last week to count substring ocurrences to know if this character is mentioned or not"
   ]
  },
  {
   "cell_type": "code",
   "execution_count": 22,
   "metadata": {},
   "outputs": [
    {
     "name": "stdout",
     "output_type": "stream",
     "text": [
      "It was high time to go, for the pool was getting quite crowded with the\n",
      "birds and animals that had fallen into it: there were a Duck and a Dodo,\n",
      "a Lory and an Eaglet, and several other curious creatures. Alice led the\n",
      "way, and the whole party swam to the shore.\n",
      "\n",
      "'In that case,' said the Dodo solemnly, rising to its feet, 'I move\n",
      "that the meeting adjourn, for the immediate adoption of more energetic\n",
      "remedies--'\n",
      "\n",
      "'What I was going to say,' said the Dodo in an offended tone, 'was, that\n",
      "the best thing to get us dry would be a Caucus-race.'\n",
      "\n",
      "'What IS a Caucus-race?' said Alice; not that she wanted much to know,\n",
      "but the Dodo had paused as if it thought that SOMEBODY ought to speak,\n",
      "and no one else seemed inclined to say anything.\n",
      "\n",
      "'Why,' said the Dodo, 'the best way to explain it is to do it.' (And, as\n",
      "you might like to try the thing yourself, some winter day, I will tell\n",
      "you how the Dodo managed it.)\n",
      "\n",
      "First it marked out a race-course, in a sort of circle, ('the exact\n",
      "shape doesn't matter,' it said,) and then all the party were placed\n",
      "along the course, here and there. There was no 'One, two, three, and\n",
      "away,' but they began running when they liked, and left off when they\n",
      "liked, so that it was not easy to know when the race was over. However,\n",
      "when they had been running half an hour or so, and were quite dry again,\n",
      "the Dodo suddenly called out 'The race is over!' and they all crowded\n",
      "round it, panting, and asking, 'But who has won?'\n",
      "\n",
      "This question the Dodo could not answer without a great deal of thought,\n",
      "and it sat for a long time with one finger pressed upon its forehead\n",
      "(the position in which you usually see Shakespeare, in the pictures\n",
      "of him), while the rest waited in silence. At last the Dodo said,\n",
      "'EVERYBODY has won, and all must have prizes.'\n",
      "\n",
      "'Why, SHE, of course,' said the Dodo, pointing to Alice with one finger;\n",
      "and the whole party at once crowded round her, calling out in a confused\n",
      "way, 'Prizes! Prizes!'\n",
      "\n",
      "'Of course,' the Dodo replied very gravely. 'What else have you got in\n",
      "your pocket?' he went on, turning to Alice.\n",
      "\n",
      "'Hand it over here,' said the Dodo.\n",
      "\n",
      "Then they all crowded round her once more, while the Dodo solemnly\n",
      "presented the thimble, saying 'We beg your acceptance of this elegant\n",
      "thimble'; and, when it had finished this short speech, they all cheered.\n",
      "\n"
     ]
    }
   ],
   "source": [
    "# Iterate over each paragraph in the list\n",
    "for paragraph in alice_by_paragraphs:\n",
    "    \n",
    "    # If statement checking if the word \"Rabbit\" is in the string\n",
    "    if paragraph.count('Dodo')>0:\n",
    "        \n",
    "        # Body of the if statement\n",
    "        print(paragraph + '\\n')"
   ]
  },
  {
   "cell_type": "markdown",
   "metadata": {},
   "source": [
    "<br><br>\n",
    "Now, let's print the first paragraph where the Queen of Hearts is mentioned\n",
    "\n",
    "For this, it's better to use a `while` loop because we don't need to iterate over all the list, just until the first appearance"
   ]
  },
  {
   "cell_type": "code",
   "execution_count": 23,
   "metadata": {},
   "outputs": [
    {
     "name": "stdout",
     "output_type": "stream",
     "text": [
      "\n",
      "The Queen of Hearts first appears on paragraph 365:\n",
      "\n",
      "The Hatter shook his head mournfully. 'Not I!' he replied. 'We\n",
      "quarrelled last March--just before HE went mad, you know--' (pointing\n",
      "with his tea spoon at the March Hare,) '--it was at the great concert\n",
      "given by the Queen of Hearts, and I had to sing\n"
     ]
    }
   ],
   "source": [
    "# Boolean indicating if the queen has appeared\n",
    "continue_iterating = True\n",
    "\n",
    "# Integer keeping track of the paragraph number\n",
    "idx = 0\n",
    "\n",
    "# While loop. This will continue iterating until the variable continue_iterating is set to FALSE\n",
    "while continue_iterating:\n",
    "\n",
    "    # Get corresponding paragraph\n",
    "    paragraph = alice_by_paragraphs[idx]\n",
    "    \n",
    "    # Check if the Queen of Hearts is mentioned\n",
    "    if paragraph.count('Queen of Hearts')>0:\n",
    "        # The Queen of Hearts has been mentioned. We need to stop the loop\n",
    "        continue_iterating = False\n",
    "    else:\n",
    "        # Update index to move to the next chapter\n",
    "        idx = idx+1\n",
    "        \n",
    "print('\\nThe Queen of Hearts first appears on paragraph ' + str(idx) + ':\\n')\n",
    "\n",
    "print(alice_by_paragraphs[idx])"
   ]
  },
  {
   "cell_type": "markdown",
   "metadata": {},
   "source": [
    "<br><br>\n",
    "***\n",
    "Let's count all the occurrences in the book of the main characters:\n",
    "\n",
    "- Alice\n",
    "- The White Rabbit\n",
    "- The Queen of Hearts\n",
    "- The Cheshire Cat\n",
    "- The Caterpillar\n",
    "- The Mad Hatter\n",
    "- The March Hare\n",
    "- The Dormouse\n",
    "- The Gryphon\n",
    "- The Mock Turtle\n",
    "- The Knave of Hearts\n",
    "- The Mouse\n",
    "- The Dodo\n",
    "\n",
    "A good way to store this information is in a dictionary, because we can use the character's name to identify each occurence count and later on extract the counts using the character's name, without having to iterate"
   ]
  },
  {
   "cell_type": "code",
   "execution_count": 24,
   "metadata": {},
   "outputs": [],
   "source": [
    "# Define list of all the Characters\n",
    "list_of_characters = ['Alice', 'White Rabbit', 'Queen of Hearts', 'Cheshire Cat', 'Caterpillar',\n",
    "                      'Hatter', 'March Hare', 'Dormouse', 'Gryphon', 'Mock Turtle',\n",
    "                      'Knave of Hearts', 'Mouse', 'Dodo']\n",
    "\n",
    "# Create dictionary where we will store the mentions\n",
    "characters_mentions = {}\n",
    "\n",
    "# Iterate over every character\n",
    "for character in list_of_characters:\n",
    "    \n",
    "    # Count number of mentions in the whole book\n",
    "    mentions = alice.count(character)\n",
    "    \n",
    "    # Save the number of mentions in the dictionary using the name as key\n",
    "    characters_mentions[character] = mentions"
   ]
  },
  {
   "cell_type": "markdown",
   "metadata": {},
   "source": [
    "<br><br>\n",
    "How many times is the Caterpillar mentioned in the book?"
   ]
  },
  {
   "cell_type": "code",
   "execution_count": 25,
   "metadata": {},
   "outputs": [
    {
     "name": "stdout",
     "output_type": "stream",
     "text": [
      "The Caterpillar is mentioned 13 times\n"
     ]
    }
   ],
   "source": [
    "print('The Caterpillar is mentioned ' + str(characters_mentions[character]) + ' times')"
   ]
  },
  {
   "cell_type": "markdown",
   "metadata": {},
   "source": [
    "<br><br>\n",
    "Which is the most mentioned character and how many times are they mentioned?"
   ]
  },
  {
   "cell_type": "code",
   "execution_count": 26,
   "metadata": {},
   "outputs": [
    {
     "name": "stdout",
     "output_type": "stream",
     "text": [
      "The character with most mentions is Alice with 396 mentions\n"
     ]
    }
   ],
   "source": [
    "# Set initial values for the maximum number of mentions found so far and the character it belongs to\n",
    "most_mentions = 0\n",
    "character_with_most_mentions = 'No character'\n",
    "\n",
    "# Iterate over each key of the dictionary\n",
    "for character in list_of_characters:\n",
    "    \n",
    "    # Get appearance count\n",
    "    mentions = characters_mentions[character]\n",
    "    \n",
    "    # Check if it's the largest number of mentions seen so far\n",
    "    if mentions > most_mentions:\n",
    "        # This is the largest number of mentions, we need to update our variables\n",
    "        most_mentions = mentions\n",
    "        character_with_most_mentions = character\n",
    "\n",
    "print('The character with most mentions is ' + character_with_most_mentions + ' with ' + \n",
    "      str(most_mentions) + ' mentions')"
   ]
  }
 ],
 "metadata": {
  "kernelspec": {
   "display_name": "Python 3",
   "language": "python",
   "name": "python3"
  },
  "language_info": {
   "codemirror_mode": {
    "name": "ipython",
    "version": 3
   },
   "file_extension": ".py",
   "mimetype": "text/x-python",
   "name": "python",
   "nbconvert_exporter": "python",
   "pygments_lexer": "ipython3",
   "version": "3.7.3"
  }
 },
 "nbformat": 4,
 "nbformat_minor": 2
}
