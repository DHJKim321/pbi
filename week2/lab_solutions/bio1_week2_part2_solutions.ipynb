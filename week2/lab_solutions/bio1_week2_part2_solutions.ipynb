{
 "cells": [
  {
   "cell_type": "markdown",
   "metadata": {},
   "source": [
    "# Accessing & Working with DNA, RNA & Protein Sequences"
   ]
  },
  {
   "cell_type": "markdown",
   "metadata": {},
   "source": [
    "In this notebook we will start working with biological sequences by retreiving records, looking at their structure and the information that is associated with them. We will also start manipulating the sequences and performing some basic analysis to become more familiar with the sorts of operations and processes we can perform.\n",
    "\n",
    "We have included web links were appropriate to additional information and web based resrouces that can be used to either replace or complement working in the Python environment. It is absolutely fine to use web based tools to perform Bioinformatic work, but those tools are often limited in their functionality in ways that eventually become problematic in real-life anaysis situations. This is why, if you would like to pursue further study and/or research in Bioinformatics and related disciplines it is a good plan to begin learning the two core programming languages that are in common use, namely [Python](https://www.learnpython.org) and the Statistical programming language [R](https://cran.r-project.org)."
   ]
  },
  {
   "cell_type": "code",
   "execution_count": null,
   "metadata": {
    "tags": []
   },
   "outputs": [],
   "source": [
    "# install and/or load BioPython\n",
    "!pip install biopython"
   ]
  },
  {
   "cell_type": "markdown",
   "metadata": {},
   "source": [
    "First we load the Entrez module from BioPython.\n",
    "\n",
    "You can read the description of this module [here](https://biopython.org/DIST/docs/api/Bio.Entrez-module.html)"
   ]
  },
  {
   "cell_type": "code",
   "execution_count": null,
   "metadata": {
    "tags": []
   },
   "outputs": [],
   "source": [
    "from Bio import Entrez\n",
    "\n",
    "Entrez.email = \"A.N.Other@example.com\" # You should replace this with your e-mail address \n",
    "\n",
    "# note the egquery function provides Entrez database counts from a global search.\n",
    "handle = Entrez.egquery(term=\"Cypripedioideae\")\n",
    "record = Entrez.read(handle)\n",
    "handle.close()\n",
    "\n",
    "print(type(record))\n",
    "\n",
    "# Look at what is inside the record object\n",
    "print(record.keys())\n",
    "\n",
    "# The first contains the search term\n",
    "print(record['Term'])\n",
    "\n",
    "# The second contains a list of results from different Entrez Databases\n",
    "for row in record['eGQueryResult']:\n",
    "    print(row)\n",
    "\n",
    "# we can iterate through the record and only return the 'nucleotide' result\n",
    "for row in record[\"eGQueryResult\"]:\n",
    "    if row[\"DbName\"]==\"nuccore\":\n",
    "        print('***',row)\n",
    "        # print just how many nucleotide entries there are\n",
    "        print(row[\"Count\"])"
   ]
  },
  {
   "cell_type": "markdown",
   "metadata": {},
   "source": [
    "Note the number of nucleotide sequences returned and compare it to the result you get if you seach for \"Cypripedioideae\" using the [Entrez Search Webpage](https://www.ncbi.nlm.nih.gov/search/). For interest, these are a sub-family of Orchid (one member is the [Lady's Slipper Orchid](https://en.wikipedia.org/wiki/Cypripedium_calceolus))\n",
    "\n",
    "Lets now select a particular sequence and download it for further analysis."
   ]
  },
  {
   "cell_type": "code",
   "execution_count": null,
   "metadata": {
    "tags": []
   },
   "outputs": [],
   "source": [
    "from Bio import Entrez\n",
    "\n",
    "Entrez.email = \"A.N.Other@example.com\" # You should replace this with your e-mail address \n",
    "\n",
    "# we're going to search for up to 1000 sequences and we're going to ask for the accession number for each\n",
    "\n",
    "# note the Entrez esearch function searches and returns a handle to the results.\n",
    "handle = Entrez.esearch(db='nucleotide',term=\"Cypripedioideae\",retmax=1000,idtype='acc')\n",
    "record = Entrez.read(handle)\n",
    "handle.close()\n",
    "\n",
    "#look at the first 10 ids\n",
    "print(record['IdList'][:10])"
   ]
  },
  {
   "cell_type": "code",
   "execution_count": null,
   "metadata": {
    "tags": []
   },
   "outputs": [],
   "source": [
    "#lets fetch one\n",
    "accession = record['IdList'][500]\n",
    "\n",
    "handle = Entrez.efetch(db=\"nucleotide\", id=accession, retmode=\"xml\")\n",
    "entry = Entrez.read(handle)\n",
    "handle.close()\n",
    "\n",
    "#print the whole entry (this is a GenBank record in XML format)\n",
    "print(entry)"
   ]
  },
  {
   "cell_type": "code",
   "execution_count": null,
   "metadata": {
    "tags": []
   },
   "outputs": [],
   "source": [
    "print(entry[0]['GBSeq_definition'])\n",
    "print(entry[0]['GBSeq_organism'])"
   ]
  },
  {
   "cell_type": "markdown",
   "metadata": {},
   "source": [
    "We can retreive the record in a more user-friendly format"
   ]
  },
  {
   "cell_type": "code",
   "execution_count": null,
   "metadata": {
    "tags": []
   },
   "outputs": [],
   "source": [
    "handle = Entrez.efetch(db=\"nuccore\", id=accession, rettype=\"gb\", retmode=\"text\")\n",
    "print(handle.read())"
   ]
  },
  {
   "cell_type": "code",
   "execution_count": null,
   "metadata": {},
   "outputs": [],
   "source": []
  },
  {
   "cell_type": "markdown",
   "metadata": {},
   "source": [
    "We can use the Bio.SeqIO module which handles groups of records to capture the search and create a Bio.Seq.Seq sequence object"
   ]
  },
  {
   "cell_type": "code",
   "execution_count": null,
   "metadata": {
    "tags": []
   },
   "outputs": [],
   "source": [
    "from Bio import SeqIO\n",
    "handle = Entrez.efetch(db=\"nuccore\", id=accession, rettype=\"gb\", retmode=\"text\")\n",
    "records = SeqIO.parse(handle, \"gb\")\n",
    "\n",
    "for entry in records:\n",
    "    sequence = entry.seq\n",
    "    print(sequence)\n",
    "    print(type(sequence))\n",
    "    \n",
    "print('complement',sequence.complement())\n",
    "print('reverse_complement',sequence.reverse_complement())"
   ]
  },
  {
   "cell_type": "markdown",
   "metadata": {},
   "source": [
    "The real power of this system comes when you want to search and work with a lot of sequences.\n",
    "\n",
    "Lets say we want to search for Gene entries for Pax6"
   ]
  },
  {
   "cell_type": "code",
   "execution_count": null,
   "metadata": {
    "tags": []
   },
   "outputs": [],
   "source": [
    "#search for\n",
    "\n",
    "from Bio import Entrez\n",
    "\n",
    "Entrez.email = \"A.N.Other@example.com\" # You should replace this with your e-mail address \n",
    "\n",
    "# we're going to limit this to 100 sequences and we're going to ask for the accession number for each\n",
    "\n",
    "# note the Entrez esearch function searches and returns a handle to the results.\n",
    "handle = Entrez.esearch(db='nucleotide',term=\"Pax6[Gene]\",retmax=100)\n",
    "record = Entrez.read(handle)\n",
    "handle.close()\n",
    "\n",
    "#look at the first 10 ids\n",
    "print(record['IdList'][:10])"
   ]
  },
  {
   "cell_type": "code",
   "execution_count": null,
   "metadata": {
    "tags": []
   },
   "outputs": [],
   "source": [
    "# now lets fetch them all, to do this we extract the accession id list\n",
    "\n",
    "gi_list = record['IdList'][:10]\n",
    "\n",
    "#then turn it into a comma-separated string\n",
    "\n",
    "gi_str = \",\".join(gi_list)\n",
    "\n",
    "handle = Entrez.efetch(db=\"nucleotide\", id=gi_str, rettype=\"gb\", retmode=\"text\")\n",
    "records = SeqIO.parse(handle, \"gb\")\n",
    "\n",
    "for record in records:\n",
    "    print(\"%s, length %i, from organism %s\" % (record.name, len(record), record.description))"
   ]
  },
  {
   "cell_type": "markdown",
   "metadata": {},
   "source": [
    "Now we're going to pull a full gene entry for human Pax6 from Genbank and look at it, we can also do this online by clicking [here](https://www.ncbi.nlm.nih.gov/nuccore/208879460)."
   ]
  },
  {
   "cell_type": "code",
   "execution_count": null,
   "metadata": {
    "tags": [
     "outputPrepend"
    ]
   },
   "outputs": [],
   "source": [
    "from Bio import Entrez\n",
    "\n",
    "Entrez.email = \"A.N.Other@example.com\"  # Always tell NCBI who you are\n",
    "handle = Entrez.efetch(db=\"nucleotide\", id=\"208879460\", rettype=\"gb\", retmode=\"text\")\n",
    "gb_entry = handle.read()\n",
    "handle.close()\n",
    "\n",
    "#NB this is just a straight string at this point (as we just read() it straight into a string object)\n",
    "print(gb_entry)"
   ]
  },
  {
   "cell_type": "markdown",
   "metadata": {},
   "source": [
    "Now we're going to extract the coding sequence from this entry and translate it into protein"
   ]
  },
  {
   "cell_type": "code",
   "execution_count": null,
   "metadata": {
    "tags": []
   },
   "outputs": [],
   "source": [
    "from Bio import SeqIO\n",
    "from Bio import Entrez\n",
    "\n",
    "Entrez.email = \"A.N.Other@example.com\"  # Always tell NCBI who you are\n",
    "handle = Entrez.efetch(db=\"nucleotide\", id=\"208879460\", rettype=\"gb\", retmode=\"text\")\n",
    "record = SeqIO.read(handle, \"genbank\")\n",
    "\n",
    "if record.features:\n",
    "    for feature in record.features:\n",
    "        #this tag identifies the CoDingSequences from the record\n",
    "        if feature.type == \"CDS\":\n",
    "            print(feature.qualifiers[\"protein_id\"])\n",
    "            print(feature.location,'\\n')\n",
    "            current_sequence = feature.location.extract(record).seq\n",
    "            print('Nucleotide Sequence')\n",
    "            print(current_sequence,'\\n')\n",
    "            #translate the current sequence into protein\n",
    "            print('Protein Sequence')\n",
    "            print(current_sequence.translate(),'\\n')\n"
   ]
  },
  {
   "cell_type": "code",
   "execution_count": null,
   "metadata": {
    "tags": [
     "outputPrepend"
    ]
   },
   "outputs": [],
   "source": [
    "from Bio import Entrez\n",
    "\n",
    "Entrez.email = \"ian.simpson@ed.ac.uk\" \n",
    "\n",
    "# note the Entrez esearch function searches and returns a handle to the results.\n",
    "handle = Entrez.esearch(db='gene',term=\"Nrg1[Gene] AND human\",retmax=100)\n",
    "record = Entrez.read(handle)\n",
    "handle.close()\n",
    "\n",
    "#look at the first 10 ids\n",
    "print(record['IdList'][:10])\n",
    "\n",
    "handle = Entrez.efetch(db=\"gene\", id=record['IdList'][:1],retmode='xml')\n",
    "gb_entry = handle\n",
    "handle.close()\n",
    "\n",
    "#NB this is just a straight string at this point (as we just read() it straight into a string object)\n",
    "print(type(gb_entry))\n",
    "\n",
    "print(gb_entry)"
   ]
  },
  {
   "cell_type": "markdown",
   "metadata": {},
   "source": [
    "### Challenge 1 - Finding Genes with NCBI-Entrez\n",
    "Using either the Entrez website to search and/or using what you've learned about BioPython's abilities to query NCBI services retreive entries for a gene called Nrg1.\n",
    "- How many different gene entries are there for this gene in NCBI databases?\n",
    "- What is the full name of this gene?\n",
    "- What kind of protein does this gene encode?"
   ]
  },
  {
   "cell_type": "code",
   "execution_count": null,
   "metadata": {
    "tags": []
   },
   "outputs": [],
   "source": [
    "from Bio import Entrez\n",
    "\n",
    "Entrez.email = \"anybody.else@internet.com\" # You should replace this with your e-mail address\n",
    "\n",
    "\n",
    "#find out how many gene entries there are for Nrg1\n",
    "handle = Entrez.egquery(term=\"Nrg1\")\n",
    "record = Entrez.read(handle)\n",
    "handle.close()\n",
    "\n",
    "# we can iterate through the record and only return the 'nucleotide' result\n",
    "for row in record[\"eGQueryResult\"]:\n",
    "    if row[\"DbName\"]==\"gene\":\n",
    "        # print how many gene entries there are\n",
    "        print(\"There are \"+row[\"Count\"]+\" gene entries for the gene Nrg1\")\n",
    "\n",
    "# you might notice this is different to the web page result. if you click the gene link you will notice on\n",
    "# the side box that details the query another term has been added to make sure the returned gene entries are\n",
    "# live in the database. this excludes retired and/or redirected links and gives the true value\n",
    "handle = Entrez.egquery(term=\"Nrg1 AND alive[prop]\")\n",
    "record = Entrez.read(handle)\n",
    "handle.close()\n",
    "\n",
    "# we can iterate through the record and only return the 'nucleotide' result\n",
    "for row in record[\"eGQueryResult\"]:\n",
    "    if row[\"DbName\"]==\"gene\":\n",
    "        # print how many alive gene entries there are\n",
    "        print(\"There are \"+row[\"Count\"]+\" live gene entries for the gene Nrg1\")"
   ]
  },
  {
   "cell_type": "code",
   "execution_count": 124,
   "metadata": {},
   "outputs": [
    {
     "name": "stdout",
     "output_type": "stream",
     "text": [
      "human gene id ['3084']\n",
      "\n",
      "1. NRG1\n",
      "Official Symbol: NRG1 and Name: neuregulin 1 [Homo sapiens (human)]\n",
      "Other Aliases: ARIA, GGF, GGF2, HGL, HRG, HRG1, HRGA, MST131, MSTP131, NDF-IT2, SMDF, NRG1\n",
      "Other Designations: pro-neuregulin-1, membrane-bound isoform; acetylcholine receptor-inducing activity; glial growth factor 2; heregulin, alpha (45kD, ERBB2 p185-activator); neu differentiation factor; pro-NRG1; sensory and motor neuron derived factor\n",
      "Chromosome: 8; Location: 8p12\n",
      "Annotation: Chromosome 8 NC_000008.11 (31639245..32774046)\n",
      "MIM: 142445\n",
      "ID: 3084\n",
      "\n",
      "\n",
      "GO annotations for the Gene\n",
      "\n",
      "ErbB-2 class receptor binding\n",
      "ErbB-3 class receptor binding\n",
      "chemorepellent activity\n",
      "cytokine activity\n",
      "growth factor activity\n",
      "integrin binding\n",
      "protein tyrosine kinase activator activity\n",
      "receptor tyrosine kinase binding\n",
      "signaling receptor binding\n",
      "transcription coregulator activity\n",
      "transmembrane receptor protein tyrosine kinase activator activity\n",
      "ERBB signaling pathway\n",
      "ERBB signaling pathway\n",
      "ERBB3 signaling pathway\n",
      "MAPK cascade\n",
      "activation of protein kinase B activity\n",
      "activation of transmembrane receptor protein tyrosine kinase activity\n",
      "animal organ development\n",
      "cardiac conduction system development\n",
      "cardiac muscle cell differentiation\n",
      "cardiac muscle cell myoblast differentiation\n",
      "cell communication\n",
      "cell differentiation\n",
      "cell morphogenesis\n",
      "chemorepulsion involved in interneuron migration from the subpallium to the cortex\n",
      "endocardial cell differentiation\n",
      "glial cell fate commitment\n",
      "intracellular signal transduction\n",
      "locomotory behavior\n",
      "mammary gland development\n",
      "myelination in peripheral nervous system\n",
      "negative regulation of neuron migration\n",
      "negative regulation of protein catabolic process\n",
      "negative regulation of secretion\n",
      "negative regulation of transcription, DNA-templated\n",
      "nervous system development\n",
      "nervous system development\n",
      "neural crest cell development\n",
      "neuron fate commitment\n",
      "neurotransmitter receptor metabolic process\n",
      "oligodendrocyte differentiation\n",
      "positive regulation of ERK1 and ERK2 cascade\n",
      "positive regulation of Ras protein signal transduction\n",
      "positive regulation of calcineurin-NFAT signaling cascade\n",
      "positive regulation of cell population proliferation\n",
      "positive regulation of gene expression\n",
      "positive regulation of protein kinase B signaling\n",
      "positive regulation of protein tyrosine kinase activity\n",
      "positive regulation of protein-containing complex assembly\n",
      "positive regulation of protein-containing complex assembly\n",
      "positive regulation of striated muscle cell differentiation\n",
      "postsynapse to nucleus signaling pathway\n",
      "synapse assembly\n",
      "ventricular trabecula myocardium morphogenesis\n",
      "wound healing\n",
      "GABA-ergic synapse\n",
      "axon\n",
      "cytoplasm\n",
      "extracellular region\n",
      "extracellular region\n",
      "extracellular space\n",
      "glutamatergic synapse\n",
      "integral component of plasma membrane\n",
      "membrane\n",
      "neuromuscular junction\n",
      "nucleoplasm\n"
     ]
    }
   ],
   "source": [
    "#search for the gene accessions\n",
    "handle = Entrez.esearch(db='gene',term=\"Nrg1[Gene] AND human[Organism]\")\n",
    "human_gene_ids = Entrez.read(handle)['IdList']\n",
    "handle.close()\n",
    "\n",
    "# #fetch the first gene entry - this is the summary you've found already\n",
    "print(\"human gene id\",human_gene_ids)\n",
    "handle = Entrez.efetch(db='gene',id=human_gene_ids[0],retmode='text')\n",
    "print(handle.read())\n",
    "handle.close()\n",
    "\n",
    "#OK so this is the XML data which is the full record as you've seen\n",
    "handle = Entrez.efetch(db='gene',id=human_gene_ids,rettype='gb',retmode='xml')\n",
    "\n",
    "#I'm going to use ElementTree to parse the XML, this is PAINFUL!\n",
    "#You need to examine the structure of the XML to work out which element tags to use, I'm not sure there's an easier way!\n",
    "import xml.etree.ElementTree as ET\n",
    "tree = ET.parse(handle)\n",
    "all_name_elements = tree.findall('.//Other-source')\n",
    "\n",
    "print(\"GO annotations for the Gene\\n\")\n",
    "for source in all_name_elements:\n",
    "    source_ids = source.findall('.//Dbtag_db')\n",
    "    for source_id in source_ids:\n",
    "        if source_id.text == 'GO':\n",
    "            GO_terms = source.findall('Other-source_anchor')\n",
    "            for GO_term in GO_terms:\n",
    "                print(GO_term.text)\n",
    "            # print(ET.tostring(source))\n",
    "        else:\n",
    "            pass\n",
    "\n",
    "handle.close()\n"
   ]
  },
  {
   "cell_type": "code",
   "execution_count": null,
   "metadata": {},
   "outputs": [],
   "source": []
  },
  {
   "cell_type": "markdown",
   "metadata": {},
   "source": [
    "### Challenge 2 - Human and Mouse Nrg1 Genes\n",
    "Using either the Entrez website to search and/or using what you've learned about BioPython's abilities to query NCBI services retreive full-length human and mouse (RefSeq) gene entries for Nrg1.\n",
    "- What are the accession numbers / ids of the Genbank records?\n",
    "- How long are the Human and Mouse NRG1, Nrg1 proteins?\n",
    "- How many nucleotide sequence differences are there between their longest CDs?\n",
    "- How many protein sequence differences are there between their longest proteins?"
   ]
  },
  {
   "cell_type": "code",
   "execution_count": null,
   "metadata": {
    "tags": []
   },
   "outputs": [],
   "source": [
    "from Bio import SeqIO\n",
    "\n",
    "#From above we can find the human and mouse versions the accession ids\n",
    "handle = Entrez.esearch(db='gene',term=\"Nrg1[Gene] AND human[Organism]\")\n",
    "human_gene_ids = Entrez.read(handle)['IdList']\n",
    "handle = Entrez.esearch(db='gene',term=\"Nrg1[Gene] AND mouse[Organism]\")\n",
    "mouse_gene_ids = Entrez.read(handle)['IdList']\n",
    "handle.close()\n",
    "\n",
    "#Accession Numbers of Gene Entries\n",
    "print(\"human gene id\",human_gene_ids)\n",
    "print(\"mouse gene ids\",mouse_gene_ids)\n",
    "\n",
    "#convenience function to find the genomic sequence entries from a gene_id\n",
    "def find_gene_sequence(gene_id):\n",
    "    handle = Entrez.efetch(db='gene',id=gene_id,rettype='gb',retmode='xml')\n",
    "    gene_entry = Entrez.read(handle)\n",
    "\n",
    "    #Get the accession, start and stop locations from the genbank XML file\n",
    "    accession = gene_entry[0]['Entrezgene_locus'][0]['Gene-commentary_accession']\n",
    "    start = gene_entry[0]['Entrezgene_locus'][0]['Gene-commentary_seqs'][0]['Seq-loc_int']['Seq-interval']['Seq-interval_from']\n",
    "    stop = gene_entry[0]['Entrezgene_locus'][0]['Gene-commentary_seqs'][0]['Seq-loc_int']['Seq-interval']['Seq-interval_to']\n",
    "\n",
    "    #Retreive the annotated sequence and parse it for protein features\n",
    "    handle = Entrez.efetch(db='nuccore',id=accession, seq_start=start, seq_stop=stop, rettype='gb', retmode='text')\n",
    "    record = SeqIO.read(handle, \"genbank\")\n",
    "    return(record)\n",
    "\n",
    "#Get the gene records\n",
    "human_record = find_gene_sequence(human_gene_ids[0])\n",
    "mouse_record = find_gene_sequence(mouse_gene_ids[0])\n",
    "\n",
    "# for convenience I've defined a function that allows me to pass any suitable record and find the longest\n",
    "# protein sequence\n",
    "def find_longest_protein(record):\n",
    "    longest_protein_length = 0\n",
    "    longest_cds = ''\n",
    "\n",
    "    if record.features:\n",
    "        for feature in record.features:\n",
    "            #this tag identifies the CoDingSequences from the record\n",
    "            if feature.type == \"CDS\":\n",
    "                current_sequence = feature.location.extract(record).seq\n",
    "                #translate the current sequence into protein\n",
    "                translation = current_sequence.translate()\n",
    "                if len(translation) > longest_protein_length:\n",
    "                    longest_protein_length = len(translation)\n",
    "                    longest_cds = current_sequence\n",
    "    #             print(feature.qualifiers[\"gene\"],feature.qualifiers[\"protein_id\"],len(translation))\n",
    "\n",
    "    print(\"Longest Protein -\",longest_protein_length,\"amino acids\\nCDS -\",longest_cds,\"\\nProtein -\",longest_cds.translate())\n",
    "    handle.close()\n",
    "    return(longest_cds)\n",
    "\n",
    "# call the function to find the longest proteins for these genes\n",
    "print(\"Human\")\n",
    "human_cd = find_longest_protein(human_record)\n",
    "print(\"Mouse\")\n",
    "mouse_cd = find_longest_protein(mouse_record)\n",
    "\n",
    "# The last two questions can be done online, but in order to do them programatically you need to be able to perform\n",
    "# pairwise sequence alignment using python"
   ]
  },
  {
   "cell_type": "code",
   "execution_count": null,
   "metadata": {
    "tags": []
   },
   "outputs": [],
   "source": [
    "from Bio import pairwise2\n",
    "\n",
    "#CDS\n",
    "alignment = pairwise2.align.globalxx(human_cd,mouse_cd)\n",
    "\n",
    "#the number of identical matches in the CDS alignment\n",
    "aligned = alignment[0][2]\n",
    "\n",
    "#work out the non-identical matches per sequence\n",
    "print(\"Nucleotide\")\n",
    "print(\"Non-aligned human bases\",int(len(human_cd)-aligned))\n",
    "print(\"Non-aligned mouse bases\",int(len(mouse_cd)-aligned))\n",
    "\n",
    "\n",
    "#Proteins\n",
    "alignment = pairwise2.align.globalxx(human_cd.translate(),mouse_cd.translate())\n",
    "\n",
    "#the number of identical matches in the protein lignment\n",
    "aligned = alignment[0][2]\n",
    "\n",
    "#work out the non-identical matches per sequence\n",
    "print(\"\\nProtein\")\n",
    "print(\"Non-aligned human amino acids\",int(len(human_cd.translate())-aligned))\n",
    "print(\"Non-aligned mouse amino acids\",int(len(mouse_cd.translate())-aligned))"
   ]
  },
  {
   "cell_type": "code",
   "execution_count": null,
   "metadata": {},
   "outputs": [],
   "source": []
  }
 ],
 "metadata": {
  "interpreter": {
   "hash": "dca0ade3e726a953b501b15e8e990130d2b7799f14cfd9f4271676035ebe5511"
  },
  "kernelspec": {
   "display_name": "Python 3.8.8 64-bit ('base': conda)",
   "name": "python3"
  },
  "language_info": {
   "codemirror_mode": {
    "name": "ipython",
    "version": 3
   },
   "file_extension": ".py",
   "mimetype": "text/x-python",
   "name": "python",
   "nbconvert_exporter": "python",
   "pygments_lexer": "ipython3",
   "version": "3.8.8"
  }
 },
 "nbformat": 4,
 "nbformat_minor": 1
}
