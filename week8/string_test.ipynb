{
 "cells": [
  {
   "cell_type": "code",
   "execution_count": 19,
   "metadata": {},
   "outputs": [],
   "source": [
    "import networkx as nx\n",
    "import pandas as pd\n",
    "import numpy as np\n",
    "import matplotlib.pyplot as plt\n",
    "\n",
    "import urllib as ul"
   ]
  },
  {
   "cell_type": "code",
   "execution_count": 31,
   "metadata": {},
   "outputs": [
    {
     "name": "stdout",
     "output_type": "stream",
     "text": [
      "9606.ENSP00000370571\n",
      "9606.ENSP00000403644\n",
      "9606.ENSP00000387549\n",
      "9606.ENSP00000298472\n",
      "9606.ENSP00000377353\n",
      "9606.ENSP00000306129\n",
      "9606.ENSP00000252939\n",
      "9606.ENSP00000286548\n",
      "9606.ENSP00000338185\n",
      "9606.ENSP00000260402\n"
     ]
    }
   ],
   "source": [
    "#read in the dop_geneids file.\n",
    "\n",
    "entrezGeneIDs = pd.read_csv('./dop_geneids.txt',header=None, names=['entrezID'])\n",
    "\n",
    "entrezIDs = entrezGeneIDs['entrezID'].to_list()\n",
    "\n",
    "for entrezID in entrezIDs[:10]:\n",
    "    query_url = 'https://string-db.org/api/tsv-no-header/resolve?identifier='+str(entrezID)+'&format=only-ids'\n",
    "    result = ul.request.urlopen(query_url)\n",
    "    result2 = result.read().decode('utf-8').strip()\n",
    "    print(result2)\n",
    "\n",
    "#how to request list of resovled IDs\n",
    "https://string-db.org/api/tsv-no-header/resolveList?identifiers=1%0D2\n",
    "\n",
    "#how to request interactions from list of IDs\n",
    "https://string-db.org/api/tsv-no-header/interactionsList?identifiers=9606.ENSP0000037057127%0D9606.ENSP00000403644%0D9606.ENSP00000387549%0D9606.ENSP00000298472&required_score=100\n",
    "\n"
   ]
  }
 ],
 "metadata": {
  "kernelspec": {
   "display_name": "Python 3.8.13 ('base')",
   "language": "python",
   "name": "python3"
  },
  "language_info": {
   "codemirror_mode": {
    "name": "ipython",
    "version": 3
   },
   "file_extension": ".py",
   "mimetype": "text/x-python",
   "name": "python",
   "nbconvert_exporter": "python",
   "pygments_lexer": "ipython3",
   "version": "3.8.13"
  },
  "orig_nbformat": 4,
  "vscode": {
   "interpreter": {
    "hash": "40d3a090f54c6569ab1632332b64b2c03c39dcf918b08424e98f38b5ae0af88f"
   }
  }
 },
 "nbformat": 4,
 "nbformat_minor": 2
}
