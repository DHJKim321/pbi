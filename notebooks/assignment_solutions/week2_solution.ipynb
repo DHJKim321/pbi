{
 "cells": [
  {
   "cell_type": "markdown",
   "metadata": {},
   "source": [
    "### Programming for Biomedical Informatics\n",
    "#### Week 2 Assignment Solution - Finding & Retreiving Data\n",
    "\n",
    "In this weekly mini assignment you will practice retreiving data using FTP download and using an API and do some very basic summarisation."
   ]
  },
  {
   "cell_type": "markdown",
   "metadata": {},
   "source": [
    "#### Bulk Download by FTP"
   ]
  },
  {
   "cell_type": "code",
   "execution_count": null,
   "metadata": {},
   "outputs": [],
   "source": [
    "'''Many of the data repositories we introduced in this week's lecture make bulk data available for download\n",
    "the benefit is that you can get a local copy to use for many different purposes. It also provides you with a\n",
    "time-stamped version of the data that you can refer back to if the data changes on the website. The downside \n",
    "is that tyou may end up downloading much more data than you need, need to understand and parse it, it also will\n",
    "likely fall out of date.\n",
    "\n",
    "We first present some example code to download a file from an FTP repository at the NCBI NLM'''\n",
    "\n",
    "# Importing the required libraries\n",
    "import urllib.request\n",
    "\n",
    "# Function to download a file from an FTP server\n",
    "def download_file_from_ftp(url, output_filename):\n",
    "    # Trying to download the file (the try, excpet block is used to catch exceptions i.e. when the file is not found or the URL is invalid)\n",
    "    try:\n",
    "        # Open the URL\n",
    "        # The with statement here will automatically close the connection when the block is exited\n",
    "        with urllib.request.urlopen(url) as response:\n",
    "            # Read the data from the URL\n",
    "            data = response.read()\n",
    "        \n",
    "            # Writing the data to a file\n",
    "            with open(output_filename, 'wb') as file:\n",
    "                file.write(data)\n",
    "                \n",
    "        print(\"File downloaded successfully!\")\n",
    "    # Catching exceptions\n",
    "    except Exception as e:\n",
    "        print(f\"An error occurred: {e}\")\n",
    "\n",
    "'''Now that we have defined a function we can use this to download a file from anny public FTP server.'''\n",
    "\n",
    "# Let's download the gene information file just for the human genome note from the file extension that this file is gzipped\n",
    "url = \"https://ftp.ncbi.nlm.nih.gov/gene/DATA/GENE_INFO/Mammalia/Homo_sapiens.gene_info.gz\"\n",
    "\n",
    "# Local file path where you want to save the downloaded file\n",
    "output_filename = \"human_genes.gz\"\n",
    "\n",
    "# Calling the download function\n",
    "download_file_from_ftp(url, output_filename)"
   ]
  },
  {
   "cell_type": "code",
   "execution_count": null,
   "metadata": {},
   "outputs": [],
   "source": [
    "'''The pandas python library is extremely flexible for reading in and manipulating files, rather nicely it can direclty\n",
    "handle gzipped files'''\n",
    "\n",
    "'''Note that you don't know how the file we just downloaded is structured  - I'll help you by telling you that the data is tab-delimited\n",
    "and has a single line header containing the field names'''\n",
    "\n",
    "# import pandas\n",
    "import pandas as pd\n",
    "\n",
    "'''###YOUR CODE HERE###'''\n",
    "# pseudocode step 1 - load the gzipped file directly into a pandas DataFrame\n",
    "df = pd.read_csv('human_genes.gz', compression='gzip',sep='\\t')\n",
    "\n",
    "# pseudocode step2 - display the DataFrame so you can inspect the structure of the data\n",
    "df.head()"
   ]
  },
  {
   "cell_type": "code",
   "execution_count": null,
   "metadata": {},
   "outputs": [],
   "source": [
    "'''You will notice that there is a column named 'type_of_gene'. Create a table to count the number of genes in each category\n",
    "found in this column. Your output should have two columns - in column 1 the title \"Type of Gene\" and in column 2 \"Number of Genes\". \n",
    "Sort the table by the second column in descending order and show the top 10 rows only in your output'''\n",
    "\n",
    "'''###YOUR CODE HERE###'''\n",
    "# pseudocode step 3 - create a table to count the number of genes in each category\n",
    "df['type_of_gene'].value_counts()\n",
    "\n",
    "# pseudocode step 4 - sort the table by the second column in descending order\n",
    "df['type_of_gene'].value_counts().sort_values(ascending=False)\n",
    "\n",
    "# pseudocode step 5 - show the top 10 rows only in your output\n",
    "df['type_of_gene'].value_counts().sort_values(ascending=False).head(10)"
   ]
  },
  {
   "cell_type": "markdown",
   "metadata": {},
   "source": [
    "QUESTION - \"what is the most common type of gene?\" (add the exact string for the gene type below this line)\n",
    "\n",
    "OPTIONAL - by looking at the FTP directory here https://ftp.ncbi.nlm.nih.gov/gene/DATA/ can you use the approach above to find the top3 genes with the most PubMed citations?."
   ]
  },
  {
   "cell_type": "markdown",
   "metadata": {},
   "source": [
    "#### Request by API"
   ]
  },
  {
   "cell_type": "code",
   "execution_count": null,
   "metadata": {},
   "outputs": [],
   "source": [
    "'''We first present some example code to download a file from the KEGG repository using their API endpoint\n",
    "The manual documenting the KEGG API is here https://www.kegg.jp/kegg/rest/keggapi.html'''\n",
    "\n",
    "# Importing the required libraries\n",
    "import requests\n",
    "\n",
    "# Function to download KEGG pathway data\n",
    "def download_kegg_pathway_genes(pathway_id):\n",
    "    # URL for the pathway data\n",
    "    data_url = f\"http://rest.kegg.jp/link/hsa/{pathway_id}\"\n",
    "    \n",
    "    # Make the HTTP request for the pathway data\n",
    "    response = requests.get(data_url)\n",
    "    \n",
    "    # Check if the request was successful\n",
    "    if response.status_code == 200:\n",
    "        # Write the data content to a file\n",
    "        with open(f\"{pathway_id}.txt\", 'w') as file:\n",
    "            file.write(response.text)\n",
    "        print(f\"Pathway data saved as {pathway_id}.txt\")\n",
    "    else:\n",
    "        print(\"Failed to retrieve pathway data. Status code:\", response.status_code)\n",
    "\n",
    "# Example pathway ID for MAPK signalling\n",
    "pathway_id = \"hsa04010\"\n",
    "\n",
    "# Call the functions to download the pathway image and data\n",
    "download_kegg_pathway_genes(pathway_id)\n",
    "\n",
    "#look at the file you just downloaded\n",
    "with open('hsa04010.txt') as file:\n",
    "    print(file.read())\n",
    "\n",
    "'''Ah, this contains internal identifiers for the genes in the pathway. We can use the KEGG API to get the gene names'''"
   ]
  },
  {
   "cell_type": "code",
   "execution_count": 8,
   "metadata": {},
   "outputs": [
    {
     "name": "stdout",
     "output_type": "stream",
     "text": [
      "hsa:10000\tAKT3, MPPH, MPPH2, PKB-GAMMA, PKBG, PRKBG, RAC-PK-gamma, RAC-gamma, STK-2; AKT serine/threonine kinase 3\n",
      "hsa:100137049\tPLA2G4B, HsT16992, cPLA2-beta; phospholipase A2 group IVB\n",
      "hsa:10125\tRASGRP1, CALDAG-GEFI, CALDAG-GEFII, IMD64, RASGRP; RAS guanyl releasing protein 1\n",
      "hsa:10235\tRASGRP2, CALDAG-GEFI, CDC25L; RAS guanyl releasing protein 2\n",
      "hsa:10368\tCACNG3; calcium voltage-gated channel auxiliary subunit gamma 3\n"
     ]
    }
   ],
   "source": [
    "'''Fetch the gene names from the data we found above'''\n",
    "\n",
    "#read the pathway gene file\n",
    "df = pd.read_csv('hsa04010.txt', sep='\\t', header=None)\n",
    "\n",
    "# the second column contians the gene ids, use the first 5 (for speed) to fetch the gene details\n",
    "gene_ids = df.iloc[:5, 1]\n",
    "\n",
    "# Function to fetch gene details\n",
    "def fetch_gene_details(gene_ids):\n",
    "    for gene_id in gene_ids:\n",
    "        # URL for the pathway data\n",
    "        data_url = f\"http://rest.kegg.jp/list/{gene_id}\"\n",
    "        \n",
    "        # Make the HTTP request for the pathway data\n",
    "        response = requests.get(data_url)\n",
    "        \n",
    "        # Check if the request was successful\n",
    "        if response.status_code == 200:\n",
    "            #strip the newline character from the response text\n",
    "            response = response.text.strip()\n",
    "            print(response)\n",
    "        else:\n",
    "            print(\"Failed to retrieve gene data. Status code:\", response.status_code)\n",
    "\n",
    "# Call the function to fetch gene details\n",
    "fetch_gene_details(gene_ids)\n",
    "\n",
    "# the second column contians the gene ids, use the first 5 (for speed) to fetch the gene details\n",
    "gene_ids = df.iloc[:5, 1]\n"
   ]
  },
  {
   "cell_type": "code",
   "execution_count": 9,
   "metadata": {},
   "outputs": [
    {
     "name": "stdout",
     "output_type": "stream",
     "text": [
      "Pathway data saved as hsa05010.txt\n",
      "hsa:10000\tAKT3, MPPH, MPPH2, PKB-GAMMA, PKBG, PRKBG, RAC-PK-gamma, RAC-gamma, STK-2; AKT serine/threonine kinase 3\n",
      "hsa:10023\tFRAT1; FRAT regulator of WNT signaling pathway 1\n",
      "hsa:100506742\tCASP12, CASP-12, CASP12P1; caspase 12 (gene/pseudogene)\n",
      "hsa:100532726\tNDUFC2-KCTD14; NDUFC2-KCTD14 readthrough\n",
      "hsa:10105\tPPIF, CYP3, CyP-M, Cyp-D, CypD; peptidylprolyl isomerase F\n"
     ]
    }
   ],
   "source": [
    "'''Now try finding the pathway id (like the hsa04010 number above) for Alzheimer's Disease\n",
    "You will probably find it easier to find this using the web browser but it is possible to use the API directly. Once you've found this use code\n",
    "similar to the above to download the gene data for this pathway and then fetch the gene details and list the details for the first 5 genes'''\n",
    "\n",
    "\n",
    "# pseudocode 1 - find the pathway id for Alzheimer's Disease\n",
    "'''you could use the search feature of the API to find the pathway id for Alzheimer's Disease, but for this example just quicker to lookup in the browser'''\n",
    "pathway_id = \"hsa05010\"\n",
    "\n",
    "# pseudocode 2 - download the pathway gene data\n",
    "download_kegg_pathway_genes(pathway_id)\n",
    "\n",
    "# pseudocode 3 - fetch the gene details themselves\n",
    "df = pd.read_csv('hsa05010.txt', sep='\\t', header=None)\n",
    "\n",
    "# the second column contians the gene ids, use the first 5 (for speed) to fetch the gene details\n",
    "gene_ids = df.iloc[:5, 1]\n",
    "\n",
    "# Function to fetch gene details\n",
    "def fetch_gene_details(gene_ids):\n",
    "    for gene_id in gene_ids:\n",
    "        # URL for the pathway data\n",
    "        data_url = f\"http://rest.kegg.jp/list/{gene_id}\"\n",
    "        \n",
    "        # Make the HTTP request for the pathway data\n",
    "        response = requests.get(data_url)\n",
    "        \n",
    "        # Check if the request was successful\n",
    "        if response.status_code == 200:\n",
    "            #strip the newline character from the response text\n",
    "            response = response.text.strip()\n",
    "            print(response)\n",
    "        else:\n",
    "            print(\"Failed to retrieve gene data. Status code:\", response.status_code)\n",
    "\n",
    "# Call the function to fetch gene details\n",
    "fetch_gene_details(gene_ids)\n",
    "\n",
    "# the second column contians the gene ids, use the first 5 (for speed) to fetch the gene details\n",
    "gene_ids = df.iloc[:5, 1]"
   ]
  }
 ],
 "metadata": {
  "kernelspec": {
   "display_name": "pbi_dev",
   "language": "python",
   "name": "python3"
  },
  "language_info": {
   "codemirror_mode": {
    "name": "ipython",
    "version": 3
   },
   "file_extension": ".py",
   "mimetype": "text/x-python",
   "name": "python",
   "nbconvert_exporter": "python",
   "pygments_lexer": "ipython3",
   "version": "3.11.5"
  }
 },
 "nbformat": 4,
 "nbformat_minor": 2
}
