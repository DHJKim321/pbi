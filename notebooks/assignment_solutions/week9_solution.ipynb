{
 "cells": [
  {
   "cell_type": "markdown",
   "id": "964db908",
   "metadata": {},
   "source": [
    "### Programming for Biomedical Informatics\n",
    "#### Week 9 Assignment - \n",
    "\n",
    "In this weekly mini assignment you will use [`pronto`](https://pypi.org/project/pronto/) to find the term name associated with an ontology term id and use it to create a summary data based on data from the GenCC (that we worked with earlier in the course).\n",
    "\n",
    "The GenCC schema uses CURIEs (compact URIs) which have the form prefix:identifier, for example `HGNC:10896` which is a Human Genome Nomenclature Committee (HGNC) gene identifier. We are going to extract information about the mode of inheritance (MOI) for the diseases in GenCC and use ontologies to add information to our analyses. In this case the MOI accessions are actually terms from the human phenotype ontology (HPO).\n",
    "\n",
    "- link to the current HPO OBO file download - http://purl.obolibrary.org/obo/hp.obo\n",
    "- [HPO homepage at BioPortal](https://bioportal.bioontology.org/ontologies/HP)\n",
    "\n",
    "We did something similar in the snippet this week."
   ]
  },
  {
   "cell_type": "code",
   "execution_count": null,
   "metadata": {},
   "outputs": [],
   "source": [
    "# You may need to install these packages first\n",
    "# %pip install pronto\n",
    "\n",
    "# handling www based requests (like APIs)\n",
    "import urllib as ul\n",
    "\n",
    "# ontology handling\n",
    "import pronto\n",
    "# standard Python data handling modules\n",
    "import pandas as pd\n",
    "import numpy as np\n",
    "# working with nicer tables\n",
    "import prettytable as PrettyTable"
   ]
  },
  {
   "cell_type": "code",
   "execution_count": null,
   "metadata": {},
   "outputs": [],
   "source": [
    "# fetch the Human Phenotype Onology OBO file and parse it with pronto\n",
    "\n",
    "# download the GO ontology OBO file\n",
    "import urllib.request\n",
    "\n",
    "current_hpo_url = 'http://purl.obolibrary.org/obo/hp.obo'\n",
    "\n",
    "# download the file\n",
    "urllib.request.urlretrieve(current_hpo_url,'hpo.obo');\n",
    "\n",
    "# parse the file\n",
    "go = pronto.Ontology('hpo.obo')"
   ]
  },
  {
   "cell_type": "code",
   "execution_count": null,
   "id": "d365b8e2",
   "metadata": {},
   "outputs": [],
   "source": [
    "# load the GenCC data\n",
    "gencc = pd.read_csv('gencc-submissions.tsv', sep='\\t')\n",
    "gencc.head()"
   ]
  },
  {
   "cell_type": "code",
   "execution_count": null,
   "id": "3c9a8a03",
   "metadata": {},
   "outputs": [],
   "source": [
    "# find the unique MOI CURIEs\n",
    "moi_curies = gencc['moi_curie'].unique()\n",
    "\n",
    "# use pronto to find the MOI terms\n",
    "moi_terms = [go[m] for m in moi_curies]"
   ]
  },
  {
   "cell_type": "code",
   "execution_count": null,
   "id": "0a081c30",
   "metadata": {},
   "outputs": [],
   "source": [
    "# print the terms using PrettyTable with the ID and name\n",
    "t = PrettyTable.PrettyTable(['ID','Name'])\n",
    "for term in moi_terms:\n",
    "    t.add_row([term.id,term.name])\n",
    "print(t)"
   ]
  },
  {
   "cell_type": "code",
   "execution_count": null,
   "id": "922093af",
   "metadata": {},
   "outputs": [],
   "source": [
    "# we now want to create a table with a count of the number of entries associated with each MOI term\n",
    "# create a table where the columns are 'Mode of Inheritance Name', 'TermID', and 'Number of Entries'\n",
    "moi_count = pd.DataFrame(columns=['Mode of Inheritance Name', 'TermID', 'Number of Entries'])\n",
    "\n",
    "# loop over the MOI terms\n",
    "for term in moi_terms:\n",
    "    # get the number of entries associated with the term\n",
    "    n_entries = len(gencc[gencc['moi_curie'] == term.id])\n",
    "    # add a row to the table using concat\n",
    "    moi_count = pd.concat([moi_count, pd.DataFrame([[term.name, term.id, n_entries]], columns=['Mode of Inheritance Name', 'TermID', 'Number of Entries'])])\n",
    "\n",
    "# sort the table by the number of entries in descending order\n",
    "moi_count = moi_count.sort_values(by='Number of Entries', ascending=False)\n",
    "\n",
    "# print the table using PrettyTable\n",
    "t = PrettyTable.PrettyTable(['Mode of Inheritance Name', 'TermID', 'Number of Entries'])\n",
    "\n",
    "for index, row in moi_count.iterrows():\n",
    "    t.add_row([row['Mode of Inheritance Name'], row['TermID'], row['Number of Entries']])\n",
    "print(t)"
   ]
  },
  {
   "cell_type": "code",
   "execution_count": null,
   "id": "3637e009",
   "metadata": {},
   "outputs": [],
   "source": [
    "# plot the table as a barplot using seaborn\n",
    "import seaborn as sns\n",
    "sns.barplot(x='Number of Entries', y='Mode of Inheritance Name', data=moi_count);"
   ]
  }
 ],
 "metadata": {
  "kernelspec": {
   "display_name": "networks",
   "language": "python",
   "name": "python3"
  },
  "language_info": {
   "codemirror_mode": {
    "name": "ipython",
    "version": 3
   },
   "file_extension": ".py",
   "mimetype": "text/x-python",
   "name": "python",
   "nbconvert_exporter": "python",
   "pygments_lexer": "ipython3",
   "version": "3.12.7"
  }
 },
 "nbformat": 4,
 "nbformat_minor": 5
}
