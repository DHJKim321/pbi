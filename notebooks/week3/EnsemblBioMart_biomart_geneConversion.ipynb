{
 "cells": [
  {
   "cell_type": "code",
   "execution_count": null,
   "metadata": {},
   "outputs": [],
   "source": [
    "from biomart import BiomartServer\n",
    "\n",
    "def get_ncbi_gene_ids(gene_symbols, dataset=\"hsapiens_gene_ensembl\"):\n",
    "    \"\"\"\n",
    "    Convert a list of gene symbols into NCBI Gene IDs using Ensembl BioMart.\n",
    "\n",
    "    Parameters:\n",
    "    gene_symbols (list): List of gene symbols to search for.\n",
    "    dataset (str): Ensembl BioMart dataset (default is \"hsapiens_gene_ensembl\" for Homo sapiens).\n",
    "\n",
    "    Returns:\n",
    "    dict: A dictionary mapping gene symbols to NCBI Gene IDs.\n",
    "    \"\"\"\n",
    "    # Connect to the BioMart server\n",
    "    server = BiomartServer(\"http://www.ensembl.org/biomart\")\n",
    "    server.verbose = False\n",
    "\n",
    "    # Access the dataset\n",
    "    mart = server.datasets[dataset]\n",
    "\n",
    "    # Query the dataset\n",
    "    response = mart.search({\n",
    "        'filters': {\n",
    "            'hgnc_symbol': gene_symbols\n",
    "        },\n",
    "        'attributes': [\n",
    "            'hgnc_symbol', 'entrezgene_id'\n",
    "        ]\n",
    "    })\n",
    "\n",
    "    # Parse the response\n",
    "    gene_ids = {}\n",
    "    for line in response.iter_lines():\n",
    "        symbol, gene_id = line.decode().split(\"\\t\")\n",
    "        gene_ids[symbol] = gene_id if gene_id != \"\" else None\n",
    "\n",
    "    return gene_ids\n",
    "\n",
    "# Example usage\n",
    "gene_symbols = [\"BRCA1\", \"TP53\", \"EGFR\", \"APOE\", \"TNF\", \"ESR1\", \"IL6\", \"VEGFA\", \"MTHFR\", \"FTO\"]\n",
    "gene_ids = get_ncbi_gene_ids(gene_symbols)\n",
    "\n",
    "# Print the gene symbol to NCBI Gene ID mapping\n",
    "for symbol, gene_id in gene_ids.items():\n",
    "    print(f\"Gene Symbol: {symbol}, NCBI Gene ID: {gene_id}\")"
   ]
  }
 ],
 "metadata": {
  "kernelspec": {
   "display_name": "pbi_dev",
   "language": "python",
   "name": "python3"
  },
  "language_info": {
   "codemirror_mode": {
    "name": "ipython",
    "version": 3
   },
   "file_extension": ".py",
   "mimetype": "text/x-python",
   "name": "python",
   "nbconvert_exporter": "python",
   "pygments_lexer": "ipython3",
   "version": "3.10.13"
  }
 },
 "nbformat": 4,
 "nbformat_minor": 2
}
