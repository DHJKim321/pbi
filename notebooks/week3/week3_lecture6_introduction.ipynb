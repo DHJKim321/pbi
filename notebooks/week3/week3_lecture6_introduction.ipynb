{
 "cells": [
  {
   "cell_type": "markdown",
   "metadata": {},
   "source": [
    "### Programming for Biomedical Informatics\n",
    "#### Week 3 - Numpy Quick Tour\n",
    "\n",
    "Here we run quickly through some key functionality for Numpy. It is a hugely rich library which has excellent documentation. Please go here for the official documentation - https://numpy.org"
   ]
  },
  {
   "cell_type": "code",
   "execution_count": null,
   "metadata": {},
   "outputs": [],
   "source": [
    "import numpy as np"
   ]
  },
  {
   "cell_type": "code",
   "execution_count": null,
   "metadata": {},
   "outputs": [],
   "source": [
    "##Creating Arrays\n",
    "\n",
    "# 1D array\n",
    "a = np.array([1, 2, 3, 4])\n",
    "print(a)\n",
    "print(\"\")\n",
    "\n",
    "# 2D array\n",
    "b = np.array([[1, 2], [3, 4]])\n",
    "print(b)\n",
    "print(\"\")\n",
    "\n",
    "# 3D array\n",
    "c = np.array([[[1, 2], [3, 4]], [[5, 6], [7, 8]]])\n",
    "print(c)\n",
    "print(\"\")\n",
    "\n",
    "# Create an array of zeros\n",
    "zeros = np.zeros((3, 3))\n",
    "print(zeros)\n",
    "print(\"\")\n",
    "\n",
    "# Create an array of ones\n",
    "ones = np.ones((2, 4))\n",
    "print(ones)\n",
    "print(\"\")\n",
    "\n",
    "# Create an array with a range of values\n",
    "arange = np.arange(0, 10, 2)  # [0, 2, 4, 6, 8]\n",
    "print(arange)\n",
    "print(\"\")\n",
    "\n",
    "# Create a linearly spaced array\n",
    "linspace = np.linspace(0, 1, 5)  # [0, 0.25, 0.5, 0.75, 1]\n",
    "print(linspace)\n",
    "print(\"\")"
   ]
  },
  {
   "cell_type": "code",
   "execution_count": null,
   "metadata": {},
   "outputs": [],
   "source": [
    "## Array Properties\n",
    "print(a.shape)    # (4,)\n",
    "print(b.shape)    # (2, 2)\n",
    "print(b.size)     # 4\n",
    "print(b.dtype)    # int32 (or equivalent based on the system)"
   ]
  },
  {
   "cell_type": "code",
   "execution_count": null,
   "metadata": {},
   "outputs": [],
   "source": [
    "## Indexing and Slicing\n",
    "\n",
    "# 1D array indexing\n",
    "print(a[1])  # 2\n",
    "\n",
    "# 2D array indexing\n",
    "print(b[1, 1])  # 4\n",
    "\n",
    "# 1D array slicing\n",
    "print(a[1:3])  # [2, 3]\n",
    "\n",
    "# 2D array slicing\n",
    "print(b[:, 1])  # [2, 4] (second column)"
   ]
  },
  {
   "cell_type": "code",
   "execution_count": null,
   "metadata": {},
   "outputs": [],
   "source": [
    "## Reshaping Arrays\n",
    "\n",
    "print(a)\n",
    "\n",
    "# Reshape a 1D array to a 2D array\n",
    "reshaped = a.reshape((2, 2))\n",
    "print(reshaped)\n",
    "\n",
    "# Flatten a 2D array to a 1D array\n",
    "flattened = b.flatten()\n",
    "print(flattened)"
   ]
  },
  {
   "cell_type": "code",
   "execution_count": null,
   "metadata": {},
   "outputs": [],
   "source": [
    "## Basic Operations\n",
    "\n",
    "# Element-wise addition, subtraction, multiplication, division\n",
    "x = np.array([1, 2, 3])\n",
    "y = np.array([4, 5, 6])\n",
    "\n",
    "print(x + y)  # [5, 7, 9]\n",
    "print(x - y)  # [-3, -3, -3]\n",
    "print(x * y)  # [4, 10, 18]\n",
    "print(x / y)  # [0.25, 0.4, 0.5]\n",
    "\n",
    "# Broadcasting\n",
    "z = 2\n",
    "print(x)\n",
    "print(x * z)  # [2, 4, 6]"
   ]
  },
  {
   "cell_type": "code",
   "execution_count": null,
   "metadata": {},
   "outputs": [],
   "source": [
    "## Mathematical Functions\n",
    "\n",
    "# Square root\n",
    "sqrt_x = np.sqrt(x)\n",
    "print(sqrt_x)\n",
    "\n",
    "# Exponential\n",
    "exp_x = np.exp(x)\n",
    "print(exp_x)\n",
    "\n",
    "# Sine function\n",
    "sin_x = np.sin(x)\n",
    "print(sin_x)\n",
    "\n",
    "# Dot product\n",
    "print(x,y)\n",
    "dot_product = np.dot(x, y)  # 1*4 + 2*5 + 3*6 = 32\n",
    "print(dot_product)"
   ]
  },
  {
   "cell_type": "code",
   "execution_count": null,
   "metadata": {},
   "outputs": [],
   "source": [
    "## Aggregate Functions\n",
    "\n",
    "# Sum\n",
    "print(np.sum(x))  # 6\n",
    "\n",
    "# Mean\n",
    "print(np.mean(x))  # 2.0\n",
    "\n",
    "# Maximum and minimum\n",
    "print(np.max(x))  # 3\n",
    "print(np.min(x))  # 1\n",
    "\n",
    "# Standard deviation\n",
    "print(np.std(x))  # 0.816..."
   ]
  },
  {
   "cell_type": "code",
   "execution_count": null,
   "metadata": {},
   "outputs": [],
   "source": [
    "## Logical Operations\n",
    "\n",
    "# Boolean array based on condition\n",
    "cond = x > 1  # [False, True, True]\n",
    "\n",
    "# Select elements using condition\n",
    "selected = x[x > 1]  # [2, 3]\n",
    "\n",
    "# Check if any or all elements satisfy a condition\n",
    "print(np.any(x > 2))  # True\n",
    "print(np.all(x > 0))  # True"
   ]
  },
  {
   "cell_type": "code",
   "execution_count": null,
   "metadata": {},
   "outputs": [],
   "source": [
    "## Random Number Generation\n",
    "\n",
    "# Generate random numbers from a uniform distribution\n",
    "rand_array = np.random.rand(3, 3)\n",
    "\n",
    "# Generate random integers\n",
    "rand_ints = np.random.randint(0, 10, (2, 2))\n",
    "\n",
    "# Set a random seed for reproducibility\n",
    "np.random.seed(41)\n",
    "random_sample = np.random.rand(5)\n",
    "print(random_sample)"
   ]
  },
  {
   "cell_type": "code",
   "execution_count": null,
   "metadata": {},
   "outputs": [],
   "source": [
    "## Stacking and Concatenation\n",
    "\n",
    "# Vertical stacking\n",
    "stacked_v = np.vstack((x, y))  # [[1, 2, 3], [4, 5, 6]]\n",
    "print(stacked_v)\n",
    "\n",
    "# Horizontal stacking\n",
    "stacked_h = np.hstack((x, y))  # [1, 2, 3, 4, 5, 6]\n",
    "print(stacked_h)\n",
    "\n",
    "# Concatenate arrays along a specified axis\n",
    "concat = np.concatenate((x, y), axis=0)  # [1, 2, 3, 4, 5, 6]\n",
    "print(concat)"
   ]
  },
  {
   "cell_type": "code",
   "execution_count": null,
   "metadata": {},
   "outputs": [],
   "source": [
    "## Linear Algebra\n",
    "\n",
    "# Matrix multiplication\n",
    "A = np.array([[1, 2], [3, 4]])\n",
    "B = np.array([[5, 6], [7, 8]])\n",
    "\n",
    "result = np.matmul(A, B)  # [[19, 22], [43, 50]]\n",
    "print(A)\n",
    "print(\"\")\n",
    "print(B)\n",
    "print(\"\")\n",
    "print(result)\n",
    "print(\"\")\n",
    "\n",
    "# Inverse of a matrix\n",
    "inv_A = np.linalg.inv(A)\n",
    "print(inv_A)\n",
    "\n",
    "# Eigenvalues and eigenvectors\n",
    "eigenvalues, eigenvectors = np.linalg.eig(A)\n",
    "print(eigenvalues)"
   ]
  },
  {
   "cell_type": "code",
   "execution_count": null,
   "metadata": {},
   "outputs": [],
   "source": [
    "## Advanced Indexing\n",
    "\n",
    "# Fancy indexing\n",
    "print(x)\n",
    "indices = [0, 2]\n",
    "print(x[indices])  # [1, 3]\n",
    "\n",
    "# Boolean indexing\n",
    "mask = x > 1\n",
    "print(x[mask])  # [2, 3]"
   ]
  },
  {
   "cell_type": "code",
   "execution_count": null,
   "metadata": {},
   "outputs": [],
   "source": [
    "## Save and Load Arrays\n",
    "\n",
    "# Save an array to a file\n",
    "np.save('my_array.npy', x)\n",
    "\n",
    "# Load an array from a file\n",
    "loaded_array = np.load('my_array.npy')"
   ]
  }
 ],
 "metadata": {
  "kernelspec": {
   "display_name": "bio1dev",
   "language": "python",
   "name": "python3"
  },
  "language_info": {
   "codemirror_mode": {
    "name": "ipython",
    "version": 3
   },
   "file_extension": ".py",
   "mimetype": "text/x-python",
   "name": "python",
   "nbconvert_exporter": "python",
   "pygments_lexer": "ipython3",
   "version": "3.11.5"
  }
 },
 "nbformat": 4,
 "nbformat_minor": 2
}
