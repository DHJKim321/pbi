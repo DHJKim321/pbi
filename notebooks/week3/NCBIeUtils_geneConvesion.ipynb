{
 "cells": [
  {
   "cell_type": "code",
   "execution_count": null,
   "metadata": {},
   "outputs": [],
   "source": [
    "from Bio import Entrez\n",
    "\n",
    "# load my API key from the file\n",
    "with open('../../api_keys/ncbi.txt', 'r') as file:\n",
    "    api_key = file.read().strip()\n",
    "\n",
    "with open('../../api_keys/ncbi_email.txt', 'r') as file:\n",
    "    email = file.read().strip()\n",
    "\n",
    "Entrez.api_key = api_key\n",
    "Entrez.email = email\n",
    "\n",
    "def get_gene_ids(gene_symbols, organism=\"Homo sapiens\"):\n",
    "    \"\"\"\n",
    "    Convert a list of gene symbols into NCBI Gene IDs.\n",
    "\n",
    "    Parameters:\n",
    "    gene_symbols (list): List of gene symbols to search for.\n",
    "    organism (str): Organism name to restrict search (default is \"Homo sapiens\").\n",
    "\n",
    "    Returns:\n",
    "    dict: A dictionary mapping gene symbols to NCBI Gene IDs.\n",
    "    \"\"\"\n",
    "    gene_ids = {}\n",
    "    for symbol in gene_symbols:\n",
    "        handle = Entrez.esearch(db=\"gene\", term=f\"{symbol}[Gene] AND {organism}[Organism]\", retmax=1)\n",
    "        record = Entrez.read(handle)\n",
    "        handle.close()\n",
    "\n",
    "        if record[\"IdList\"]:\n",
    "            gene_ids[symbol] = record[\"IdList\"][0]\n",
    "        else:\n",
    "            gene_ids[symbol] = None\n",
    "\n",
    "    return gene_ids\n",
    "\n",
    "# Example usage\n",
    "gene_symbols = [\"BRCA1\", \"TP53\", \"EGFR\", \"APOE\", \"TNF\", \"ESR1\", \"IL6\", \"VEGFA\", \"MTHFR\", \"FTO\"]\n",
    "gene_ids = get_gene_ids(gene_symbols)\n",
    "\n",
    "# Print the gene symbol to NCBI Gene ID mapping\n",
    "for symbol, gene_id in gene_ids.items():\n",
    "    print(f\"Gene Symbol: {symbol}, Gene ID: {gene_id}\")"
   ]
  }
 ],
 "metadata": {
  "kernelspec": {
   "display_name": "pbi_dev",
   "language": "python",
   "name": "python3"
  },
  "language_info": {
   "codemirror_mode": {
    "name": "ipython",
    "version": 3
   },
   "file_extension": ".py",
   "mimetype": "text/x-python",
   "name": "python",
   "nbconvert_exporter": "python",
   "pygments_lexer": "ipython3",
   "version": "3.10.14"
  }
 },
 "nbformat": 4,
 "nbformat_minor": 2
}
