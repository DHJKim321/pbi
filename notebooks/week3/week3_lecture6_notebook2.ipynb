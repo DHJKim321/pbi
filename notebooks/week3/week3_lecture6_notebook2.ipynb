{
 "cells": [
  {
   "cell_type": "markdown",
   "metadata": {},
   "source": [
    "### Programming for Biomedical Informatics\n",
    "#### Week 3 - Data Integration & Summary Analysis\n",
    "\n",
    "Using some of the skills we've developed working with eUtils we're now going to take two different lists of genes that use different identifiers convert them to NCBI Gene IDs and then use these to merge the data together. With the final merged data we will do some calculations and plots."
   ]
  },
  {
   "cell_type": "code",
   "execution_count": 1,
   "metadata": {},
   "outputs": [],
   "source": [
    "# Preliminaries\n",
    "from Bio import Entrez\n",
    "import urllib.request\n",
    "import json\n",
    "import xml.etree.ElementTree as ET\n",
    "\n",
    "# load my API key from the file\n",
    "with open('../../../ncbi_api_key.txt', 'r') as file:\n",
    "    api_key = file.read().strip()\n",
    "\n",
    "with open('../../../ncbi_api_email.txt', 'r') as file:\n",
    "    email = file.read().strip()\n",
    "\n",
    "Entrez.api_key = api_key\n",
    "Entrez.email = email"
   ]
  },
  {
   "cell_type": "code",
   "execution_count": 4,
   "metadata": {},
   "outputs": [],
   "source": [
    "# Step 1 - Load the two lists that we cannot currenly combine\n",
    "\n",
    "'''The first file contains a list of gene symbols\n",
    "\n",
    "e.g.\n",
    "GeneSymbol\n",
    "ADAM10\n",
    "ADAM17\n",
    "APP\n",
    "NAE1\n",
    "APBB1\n",
    "GAPDH\n",
    "BACE1\n",
    "\n",
    "The second file contains a list of RefSeq transcripts (mRNA), and their associated GO terms:\n",
    "\n",
    "e.g.\n",
    "RefSeqID        GOTerm  Description\n",
    "NM_001320570    GO:0003824      catalytic activity\n",
    "NM_001320570    GO:0016787      hydrolase activity\n",
    "NM_001320570    GO:0140096      catalytic activity, acting on a protein\n",
    "NM_001320570    GO:0043226      organelle\n",
    "NM_001320570    GO:0005634      nucleus\n",
    "NM_001320570    GO:0005794      Golgi apparatus\n",
    "\n",
    "We are going to convert Gene Symbols and Refseq IDs to NCBI Gene IDs, and then combine the two lists into a single table.\n",
    "'''\n",
    "\n",
    "'''### YOUR CODE HERE ###'''\n",
    "\n",
    "# Load the gene symbols as a pandas dataframe\n",
    "\n",
    "import pandas as pd\n",
    "\n",
    "# Load the RefSeq data as a pandas dataframe"
   ]
  },
  {
   "cell_type": "code",
   "execution_count": null,
   "metadata": {},
   "outputs": [],
   "source": [
    "# view the first few rows of each dataframe\n"
   ]
  },
  {
   "cell_type": "code",
   "execution_count": null,
   "metadata": {},
   "outputs": [],
   "source": [
    "# view the first few rows of each dataframe\n"
   ]
  },
  {
   "cell_type": "code",
   "execution_count": null,
   "metadata": {},
   "outputs": [],
   "source": [
    "#Step 2 - Convert Gene Symbols to NCBI Gene IDs\n",
    "\n",
    "# create a dictionary that maps gene symbols to gene IDs\n",
    "'''### YOUR CODE HERE ###'''\n",
    "\n",
    "# use eSearch to convert gene symbols to NCBI Gene IDs (for the first 10 gene symbols)\n",
    "# remembering to add API key and email\n",
    "# remembering to use the [Gene] field in the search\n",
    "# remembering to specify human\n",
    "# show the progress by printing the gene symbol and gene ID and the number of gene symbols processed so far\n",
    "# This takes about 3 minutes (NB not the quickest way!)\n",
    "'''### YOUR CODE HERE ###'''\n",
    "\n",
    "#user PrettyTable to display the results\n",
    "'''### YOUR CODE HERE ###'''"
   ]
  },
  {
   "cell_type": "code",
   "execution_count": null,
   "metadata": {},
   "outputs": [],
   "source": [
    "# Step 3 - Convert RefSeq IDs to NCBI Gene IDs\n",
    "\n",
    "# create a dictionary that maps RefSeq IDs to Gene IDs\n",
    "'''### YOUR CODE HERE ###'''\n",
    "\n",
    "# use eSearch to convert RefSeq IDs to NCBI Gene IDs (for the first 10 RefSeq IDs)\n",
    "# remembering to add API key and email\n",
    "# remembering to use the [Gene] field in the search\n",
    "# remembering to specify human\n",
    "\n",
    "# Search for the gene information using the RefSeq transcript ID\n",
    "'''### YOUR CODE HERE ###'''\n",
    "\n",
    "# for the first unique 10 values in the refseq dataframe, get the gene ID\n",
    "# show the progress by printing the refseq ID and gene ID and the number of refseq IDs processed so far\n",
    "'''### YOUR CODE HERE ###'''"
   ]
  },
  {
   "cell_type": "code",
   "execution_count": null,
   "metadata": {},
   "outputs": [],
   "source": [
    "#user PrettyTable to display the results\n",
    "'''### YOUR CODE HERE ###'''"
   ]
  },
  {
   "cell_type": "code",
   "execution_count": null,
   "metadata": {},
   "outputs": [],
   "source": [
    "# Step 4  - merge the refseq_to_gene_id dictionary with the refseq dataframe\n",
    "\n",
    "# create a new column in the refseq dataframe called 'GeneID'\n",
    "# fill the column with the gene IDs from the refseq_to_gene_id dictionary\n",
    "'''### YOUR CODE HERE ###'''\n",
    "\n",
    "# remove rows with missing values\n",
    "'''### YOUR CODE HERE ###'''\n",
    "\n",
    "# display the refseq dataframe\n",
    "'''### YOUR CODE HERE ###'''"
   ]
  },
  {
   "cell_type": "code",
   "execution_count": null,
   "metadata": {},
   "outputs": [],
   "source": [
    "#Step 7 - combine the gene_symbol and refseq dataframes\n",
    "\n",
    "# convert the gene_symbol_to_id dictionary to a dataframe\n",
    "'''### YOUR CODE HERE ###'''\n",
    "\n",
    "# merge the refseq and gene_symbol_to_id_df dataframes on the 'GeneID' column\n",
    "'''### YOUR CODE HERE ###'''\n",
    "\n",
    "# drop the GeneID column\n",
    "'''### YOUR CODE HERE ###'''\n",
    "\n",
    "# display the combined dataframe\n",
    "'''### YOUR CODE HERE ###'''"
   ]
  },
  {
   "cell_type": "code",
   "execution_count": null,
   "metadata": {},
   "outputs": [],
   "source": [
    "#Step 8 - Do some basic summary analysis\n",
    "\n",
    "# display the number of rows and columns in the combined dataframe\n",
    "'''### YOUR CODE HERE ###'''\n",
    "\n",
    "# count how many unique genes are in the combined dataframe\n",
    "'''### YOUR CODE HERE ###'''\n",
    "\n",
    "# count how many unique GO terms are in the combined dataframe\n",
    "'''### YOUR CODE HERE ###'''\n",
    "\n",
    "# display the number of unique genes and GO terms\n",
    "'''### YOUR CODE HERE ###'''\n",
    "\n",
    "# use some plots to visualise the data (up to you!)\n",
    "'''### YOUR CODE HERE ###'''"
   ]
  }
 ],
 "metadata": {
  "kernelspec": {
   "display_name": "pbi",
   "language": "python",
   "name": "python3"
  },
  "language_info": {
   "codemirror_mode": {
    "name": "ipython",
    "version": 3
   },
   "file_extension": ".py",
   "mimetype": "text/x-python",
   "name": "python",
   "nbconvert_exporter": "python",
   "pygments_lexer": "ipython3",
   "version": "3.12.5"
  }
 },
 "nbformat": 4,
 "nbformat_minor": 2
}
