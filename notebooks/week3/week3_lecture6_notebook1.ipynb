{
 "cells": [
  {
   "cell_type": "markdown",
   "metadata": {},
   "source": [
    "### Programming for Biomedical Informatics\n",
    "#### Week 3 - Data Integration & Summary Analysis\n",
    "\n",
    "This week we're first going to practice using a range of the eUtilities end-points to search, fetch, and link data."
   ]
  },
  {
   "cell_type": "code",
   "execution_count": 10,
   "metadata": {},
   "outputs": [],
   "source": [
    "# Preliminaries\n",
    "from Bio import Entrez\n",
    "import urllib.request\n",
    "import json\n",
    "import xml.etree.ElementTree as ET\n",
    "\n",
    "# load my API key from the file\n",
    "with open('../api_keys/ncbi.txt', 'r') as file:\n",
    "    api_key = file.read().strip()\n",
    "\n",
    "with open('../api_keys/ncbi_email.txt', 'r') as file:\n",
    "    email = file.read().strip()\n",
    "\n",
    "Entrez.api_key = api_key\n",
    "Entrez.email = email"
   ]
  },
  {
   "cell_type": "code",
   "execution_count": null,
   "metadata": {},
   "outputs": [],
   "source": [
    "# Step One - Example Using eInfo\n",
    "\n",
    "# let's use biopython Entrez module to do an eInfo query\n",
    "# this will tell us what databases are available\n",
    "handle = Entrez.einfo()\n",
    "\n",
    "# read the handle\n",
    "record = Entrez.read(handle)\n",
    "\n",
    "# print the record in an easy to read format\n",
    "# print(json.dumps(record, indent=4))\n",
    "\n",
    "# print out some useful information about each of these databases\n",
    "# NB this is incredibly useful but long so best to do it for a particular database\n",
    "# for db in record['DbList']:\n",
    "#     print(f\"Database: {db}\")\n",
    "#     # get the database info\n",
    "#     db_info = Entrez.read(Entrez.einfo(db=db))\n",
    "#     # print the database info\n",
    "#     print(json.dumps(db_info, indent=4))\n",
    "\n",
    "# lets do this just for the gene database\n",
    "gene_info = Entrez.read(Entrez.einfo(db='gene'))\n",
    "\n",
    "# this is a nice way to print out nested XML structures in a readable way\n",
    "print(json.dumps(gene_info, indent=4))"
   ]
  },
  {
   "cell_type": "code",
   "execution_count": null,
   "metadata": {},
   "outputs": [],
   "source": [
    "# Step Two - Example using eSearch to search the gene database for a particular gene\n",
    "# search for the gene 'BRCA1'\n",
    "handle = Entrez.esearch(db='gene', term='BRCA1', retmode='xml')\n",
    "\n",
    "#retreive the record\n",
    "record = Entrez.read(handle)\n",
    "\n",
    "# find the count of records\n",
    "count = record['Count']\n",
    "print(f\"Number of records found: {count}\")\n",
    "\n",
    "# why are there so many?"
   ]
  },
  {
   "cell_type": "code",
   "execution_count": null,
   "metadata": {},
   "outputs": [],
   "source": [
    "# print the record in an easy to read format\n",
    "print(json.dumps(record, indent=4))\n",
    "\n",
    "# NB the [All Fields] search is a broad search that will return many results"
   ]
  },
  {
   "cell_type": "code",
   "execution_count": null,
   "metadata": {},
   "outputs": [],
   "source": [
    "# Step Three - Example using eSummary to get some metadata about the first 5 of these records\n",
    "# this time we're going to do this using urllib.requests to show how tou can do this independenly of biopython\n",
    "# we will request xml and parse that using ElementTree\n",
    "\n",
    "# get the first 5 ids\n",
    "ids = record['IdList'][:5]\n",
    "\n",
    "eUtils_base = \"https://eutils.ncbi.nlm.nih.gov/entrez/eutils/\"\n",
    "eSummary = \"esummary.fcgi\"\n",
    "\n",
    "# don't forget to add the API key and email\n",
    "#for each id in the list pull the summary\n",
    "for id in ids:\n",
    "    url = f\"{eUtils_base}{eSummary}?db=gene&id={id}&api_key={api_key}&email={email}\"\n",
    "    with urllib.request.urlopen(url) as response:\n",
    "        xml = response.read()\n",
    "        root = ET.fromstring(xml)\n",
    "        # find the <Organsim> tag\n",
    "        organism = root.find('DocumentSummarySet/DocumentSummary/Organism/').text\n",
    "        name = root.find('DocumentSummarySet/DocumentSummary/').text\n",
    "        print(id,name,organism)\n",
    "\n",
    "# OK what's going on here?"
   ]
  },
  {
   "cell_type": "code",
   "execution_count": null,
   "metadata": {},
   "outputs": [],
   "source": [
    "# Step Four - Lets look again but add the [Gene] field to the search\n",
    "handle = Entrez.esearch(db='gene', term='BRCA1[Gene]', retmode='xml')\n",
    "\n",
    "#retreive the record\n",
    "record = Entrez.read(handle)\n",
    "\n",
    "# find the count of records\n",
    "count = record['Count']\n",
    "print(f\"Number of records found: {count}\")\n",
    "\n",
    "# print the record in an easy to read format\n",
    "print(json.dumps(record, indent=4))"
   ]
  },
  {
   "cell_type": "code",
   "execution_count": null,
   "metadata": {},
   "outputs": [],
   "source": [
    "# get the first 5 ids\n",
    "ids = record['IdList'][:5]\n",
    "\n",
    "eUtils_base = \"https://eutils.ncbi.nlm.nih.gov/entrez/eutils/\"\n",
    "eSummary = \"esummary.fcgi\"\n",
    "\n",
    "# don't forget to add the API key and email\n",
    "#for each id in the list pull the summary\n",
    "for id in ids:\n",
    "    url = f\"{eUtils_base}{eSummary}?db=gene&id={id}&api_key={api_key}&email={email}\"\n",
    "    with urllib.request.urlopen(url) as response:\n",
    "        xml = response.read()\n",
    "        root = ET.fromstring(xml)\n",
    "        # find the <Organsim> tag\n",
    "        organism = root.find('DocumentSummarySet/DocumentSummary/Organism/').text\n",
    "        name = root.find('DocumentSummarySet/DocumentSummary/').text\n",
    "        print(id,name,organism)\n",
    "\n",
    "# Ah that's better, now we've got BRCA1 but from lots of different organisms"
   ]
  },
  {
   "cell_type": "code",
   "execution_count": null,
   "metadata": {},
   "outputs": [],
   "source": [
    "# Step Five - Finally, let's get this right\n",
    "\n",
    "# search for the gene 'BRCA1' in the human genome using eSearch\n",
    "handle = Entrez.esearch(db='gene', term='BRCA1[Gene], human[Organism]', retmode='xml')\n",
    "\n",
    "#retreive the record\n",
    "record = Entrez.read(handle)\n",
    "\n",
    "# find the count of records\n",
    "count = record['Count']\n",
    "print(f\"Number of records found: {count}\")\n",
    "\n",
    "# print the record in an easy to read format\n",
    "print(json.dumps(record, indent=4))\n",
    "\n",
    "# get the only id\n",
    "id = record['IdList'][0]"
   ]
  },
  {
   "cell_type": "code",
   "execution_count": null,
   "metadata": {},
   "outputs": [],
   "source": [
    "# now use eSummary to get the metadata for this gene\n",
    "url = f\"{eUtils_base}{eSummary}?db=gene&id={id}&api_key={api_key}&email={email}\"\n",
    "response = urllib.request.urlopen(url)\n",
    "root = ET.fromstring(response.read())\n",
    "organism = root.find('DocumentSummarySet/DocumentSummary/Organism/').text\n",
    "name = root.find('DocumentSummarySet/DocumentSummary/').text\n",
    "print(id,name,organism)"
   ]
  },
  {
   "cell_type": "code",
   "execution_count": null,
   "metadata": {},
   "outputs": [],
   "source": [
    "# Step Six - Use eFetch to get the full record\n",
    "\n",
    "# lets modify the code above to use eFetch to get the full record\n",
    "eFetch = \"efetch.fcgi\"\n",
    "\n",
    "url = f\"{eUtils_base}{eFetch}?db=gene&id={id}&api_key={api_key}&email={email}\"\n",
    "response = urllib.request.urlopen(url)\n",
    "xml = response.read()\n",
    "\n",
    "# print the xml\n",
    "print(xml.decode('utf-8'))"
   ]
  },
  {
   "cell_type": "code",
   "execution_count": null,
   "metadata": {},
   "outputs": [],
   "source": [
    "# Step Seven - Use eLink to get the associated nucleotide sequence\n",
    "\n",
    "# lets go back to using the Entrez module to get the sequence\n",
    "# get the link specifically for the refseq gene nucleotide sequence\n",
    "links = Entrez.read(Entrez.elink(dbfrom='gene', id=id, linkname='gene_nuccore_refseqgene'))\n",
    "\n",
    "# get the id of the nucleotide sequence\n",
    "nuccore_id = links[0]['LinkSetDb'][0]['Link'][0]['Id']\n",
    "\n",
    "# get the sequence\n",
    "handle = Entrez.efetch(db='nuccore', id=nuccore_id, rettype='fasta', retmode='text')\n",
    "sequence = handle.read()\n",
    "\n",
    "# print the sequence\n",
    "print(sequence)"
   ]
  }
 ],
 "metadata": {
  "kernelspec": {
   "display_name": "bio1dev",
   "language": "python",
   "name": "python3"
  },
  "language_info": {
   "codemirror_mode": {
    "name": "ipython",
    "version": 3
   },
   "file_extension": ".py",
   "mimetype": "text/x-python",
   "name": "python",
   "nbconvert_exporter": "python",
   "pygments_lexer": "ipython3",
   "version": "3.10.14"
  }
 },
 "nbformat": 4,
 "nbformat_minor": 2
}
