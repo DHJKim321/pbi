{
 "cells": [
  {
   "cell_type": "markdown",
   "metadata": {},
   "source": [
    "### Programming for Biomedical Informatics\n",
    "#### Week 2 - FTP Bulk Download & APIs\n",
    "\n",
    "This week we're going to practice using bulk download and API in a practical example. This week we are going to be looking at a resource called GenCC - The Gene Curation Collection - https://thegencc.org\n",
    "\n",
    "GenCC is primarily focussed on providing a unified source of gene-disease relationships that is harmonised across the various international efforts that operate in this space. In the process of doing so they are establishing standards for curation and annotation to maximise the consitency and useability of their data.\n",
    "\n",
    "Our efforts today will focus on a full FTP download of the GenCC data, some parsing, and use of the API at Bioportal to gather more information about some of the elements of the GenCC data. This is a **slightly** contrived example, but hopefully it is both interesting and useful to give you an idea of how these two approaches can be used together."
   ]
  },
  {
   "cell_type": "code",
   "execution_count": null,
   "metadata": {},
   "outputs": [],
   "source": [
    "# Step One - Bulk Download of GenCC data\n",
    "\n",
    "'''The url to the latest version of the data is here - https://search.thegencc.org/download/action/submissions-export-tsv'''\n",
    "\n",
    "#pseudocode 1 - download the data using the urllib library\n",
    "'''###YOUR CODE HERE###'''\n",
    "\n",
    "#pseudocode 2 - read the data into a pandas dataframe *you can see from the url that the data is tab separated*\n",
    "'''###YOUR CODE HERE###'''\n",
    "\n",
    "#pseudocode 3 - look ay the first few rows of the dataframe\n",
    "'''###YOUR CODE HERE###'''"
   ]
  },
  {
   "cell_type": "code",
   "execution_count": null,
   "metadata": {},
   "outputs": [],
   "source": [
    "# Step Two - Gene Counts by Disease\n",
    "\n",
    "'''Now we want a summary of how many genes have been annotated to each disease.'''\n",
    "\n",
    "#pseudocode 4 - group the data by disease and count the number of genes for each disease (think of the pandas function that does this)\n",
    "'''###YOUR CODE HERE###'''\n",
    "\n",
    "#pseudocode 5 - sort the data in descending order\n",
    "'''###YOUR CODE HERE###'''\n",
    "\n",
    "#pseudocode 6 - look at the first few rows of the dataframe\n",
    "'''###YOUR CODE HERE###'''\n",
    "\n",
    "'''There's a nice package called PrettyTable that can be used to print the data in a nice table format. You can install it using 'conda install prettytable'''\n",
    "\n",
    "from prettytable import PrettyTable\n",
    "\n",
    "#make some simple two-column data\n",
    "data = [['disease1', 1000], ['disease2', 2000], ['disease3', 3000], ['disease4', 4000], ['disease5', 5000]]\n",
    "\n",
    "# create a table\n",
    "table = PrettyTable()\n",
    "\n",
    "# add the columns\n",
    "table.field_names = ['Disease Name','Number of Genes']\n",
    "\n",
    "# add the rows\n",
    "for i in range(len(data)):\n",
    "    table.add_row(data[i])\n",
    "\n",
    "# print the table\n",
    "print(table)\n",
    "\n",
    "# pseudocode 7 - create a table using the PrettyTable package\n",
    "'''###YOUR CODE HERE###'''\n",
    "\n",
    "'''There is a very nice plotting package called seaborn that can be used to create plots. You can install it using 'conda install seaborn.\n",
    "Here's an example of how to create a horizontal bar chart using seaborn'''\n",
    "\n",
    "#plot a horizontal bar chart of the data\n",
    "import seaborn as sns\n",
    "import pandas as pd\n",
    "\n",
    "# set the style\n",
    "sns.set_style('darkgrid')\n",
    "\n",
    "# plot the data\n",
    "sns.barplot(x='Number of Genes', y='Disease Name', data=pd.DataFrame(data, columns=['Disease Name', 'Number of Genes']))\n",
    "\n",
    "#pseudocode 8 - plot the 10 diseases with the most genes\n",
    "'''###YOUR CODE HERE###'''"
   ]
  },
  {
   "cell_type": "code",
   "execution_count": null,
   "metadata": {},
   "outputs": [],
   "source": [
    "# Step Three - Gene-Disease Confidence\n",
    "\n",
    "'''When making decisions about gene disease relationships there are a complex set of criteria. The result is a categorical set of keywords that describe the confidence\n",
    "of assertions. These are stored in the 'classification_title field of the original data'''\n",
    "\n",
    "#pseudocode 9 - group the data by classification_title (confidence categories) and count the number of genes for each\n",
    "'''###YOUR CODE HERE###'''\n",
    "\n",
    "#pseudocode 10 - sort the data in descending order\n",
    "'''###YOUR CODE HERE###'''\n",
    "\n",
    "#pseudocode 11 - look at the first few rows of the dataframe\n",
    "'''###YOUR CODE HERE###'''\n",
    "\n",
    "#pseudocode 12 - create a table using the PrettyTable package\n",
    "'''###YOUR CODE HERE###'''\n",
    "\n",
    "#pseudocode 13 - plot the classification_titles with the most genes\n",
    "'''###YOUR CODE HERE###'''"
   ]
  },
  {
   "cell_type": "code",
   "execution_count": null,
   "metadata": {},
   "outputs": [],
   "source": [
    "# Step Four - Modes of Inheritance\n",
    "\n",
    "'''Many of these diseases are Mendelian diseases. This means that they are caused by a mutation in a single gene. These mutations are inherited in a particular way.\n",
    "GenCC captures this information in the 'moi_curie' field'''\n",
    "\n",
    "#pseudocode 14 - group the data by moi_curie (modes of inheritance) and count the number of genes for each\n",
    "'''###YOUR CODE HERE###'''\n",
    "\n",
    "'''This is good but the values we have here are accession ids that aren't very informative\n",
    "We know that terms (classes) like 'HP:0000006' are actually from the Human Phenotype Ontology (HPO)\n",
    "We're  going to use the BioPortal API to get infromation about these classes and then finish by merging these data with our table'''\n"
   ]
  },
  {
   "cell_type": "code",
   "execution_count": null,
   "metadata": {},
   "outputs": [],
   "source": [
    "'''first we need an API key from BioPortal. You can create an account on BioPortal for free and get an API key.\n",
    "https://bioportal.bioontology.org/\n",
    "For this example I will use my API key - note how I have it stored in a file in a separate folder and exclude this from the git repository'''\n",
    "\n",
    "#load my API key for BioPortal\n",
    "with open(\"../api_keys/bioportal.txt\", \"r\") as file:\n",
    "    apikey = file.read().strip()\n",
    "\n",
    "'''Here is an example of how you can use the requests library to get information from the BioPortal API'''\n",
    "\n",
    "#find details for an ontology term using the BioPortal API\n",
    "import requests\n",
    "import json\n",
    "\n",
    "#set the URL for the BioPortal API - here we query with a fixed HP class id\n",
    "url = 'http://data.bioontology.org/ontologies/HP/classes/HP:0000006?apikey='+apikey\n",
    "\n",
    "#send the request\n",
    "response = requests.get(url)\n",
    "\n",
    "#parse the JSON in the response\n",
    "class_info = response.json()\n",
    "\n",
    "#display the JSON (for interest!)\n",
    "print(json.dumps(class_info, indent=2))\n",
    "\n",
    "#display the keys in the JSON (for interest!)\n",
    "print(class_info.keys())\n",
    "\n",
    "#display the values for the keys\n",
    "print(class_info['@id'],class_info['prefLabel'])\n",
    "print(class_info['definition'][0])"
   ]
  },
  {
   "cell_type": "code",
   "execution_count": null,
   "metadata": {},
   "outputs": [],
   "source": [
    "#pseudocode 15 - using the unique accession ids in the moi_curie field, get the names of the classes from the BioPortal API by modifying the code above\n",
    "'''###YOUR CODE HERE###'''\n",
    "\n",
    "#pseudocode 16 - merge the data with the moi_curie field with the data from the BioPortal API so now we have a dataframe that contains\n",
    "# the mode of inheritance and the number of genes for each and the name of the mode of inheritance (don't put the definition in the table as it's too long)\n",
    "'''###YOUR CODE HERE###'''"
   ]
  },
  {
   "cell_type": "markdown",
   "metadata": {},
   "source": [
    "#### Well done!\n",
    "#### You've now practised FTP download, API use and also completed some data manipulation using Pandas, PrettyTable, and plotting with Seaborn"
   ]
  }
 ],
 "metadata": {
  "kernelspec": {
   "display_name": "pbi_dev",
   "language": "python",
   "name": "python3"
  },
  "language_info": {
   "codemirror_mode": {
    "name": "ipython",
    "version": 3
   },
   "file_extension": ".py",
   "mimetype": "text/x-python",
   "name": "python",
   "nbconvert_exporter": "python",
   "pygments_lexer": "ipython3",
   "version": "3.10.14"
  }
 },
 "nbformat": 4,
 "nbformat_minor": 2
}
