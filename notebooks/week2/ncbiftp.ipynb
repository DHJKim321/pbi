{
 "cells": [
  {
   "cell_type": "code",
   "execution_count": 1,
   "metadata": {},
   "outputs": [
    {
     "name": "stdout",
     "output_type": "stream",
     "text": [
      "File downloaded successfully!\n"
     ]
    }
   ],
   "source": [
    "import urllib.request\n",
    "\n",
    "def download_file_from_ftp(url, output_filename):\n",
    "    try:\n",
    "        # Open the URL\n",
    "        with urllib.request.urlopen(url) as response:\n",
    "            # Read the data from the URL\n",
    "            data = response.read()\n",
    "        \n",
    "            # Writing the data to a file\n",
    "            with open(output_filename, 'wb') as file:\n",
    "                file.write(data)\n",
    "                \n",
    "        print(\"File downloaded successfully!\")\n",
    "        \n",
    "    except Exception as e:\n",
    "        print(f\"An error occurred: {e}\")\n",
    "\n",
    "# URL of the file you want to download\n",
    "url = \"https://ftp.ncbi.nlm.nih.gov/gene/DATA/README_ensembl\"\n",
    "\n",
    "# Local file path where you want to save the downloaded file\n",
    "output_filename = \"README_ensembl\"\n",
    "\n",
    "# Calling the download function\n",
    "download_file_from_ftp(url, output_filename)"
   ]
  }
 ],
 "metadata": {
  "kernelspec": {
   "display_name": "Python 3",
   "language": "python",
   "name": "python3"
  },
  "language_info": {
   "codemirror_mode": {
    "name": "ipython",
    "version": 3
   },
   "file_extension": ".py",
   "mimetype": "text/x-python",
   "name": "python",
   "nbconvert_exporter": "python",
   "pygments_lexer": "ipython3",
   "version": "3.12.5"
  }
 },
 "nbformat": 4,
 "nbformat_minor": 2
}
