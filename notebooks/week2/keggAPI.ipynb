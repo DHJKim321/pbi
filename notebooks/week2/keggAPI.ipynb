{
 "cells": [
  {
   "cell_type": "code",
   "execution_count": 1,
   "metadata": {},
   "outputs": [
    {
     "name": "stdout",
     "output_type": "stream",
     "text": [
      "Pathway data saved as map00010.txt\n"
     ]
    }
   ],
   "source": [
    "import requests\n",
    "\n",
    "def download_kegg_pathway_data(pathway_id):\n",
    "    # URL for the pathway data\n",
    "    data_url = f\"http://rest.kegg.jp/get/{pathway_id}\"\n",
    "    \n",
    "    # Make the HTTP request for the pathway data\n",
    "    response = requests.get(data_url)\n",
    "    \n",
    "    # Check if the request was successful\n",
    "    if response.status_code == 200:\n",
    "        # Write the data content to a file\n",
    "        with open(f\"{pathway_id}.txt\", 'w') as file:\n",
    "            file.write(response.text)\n",
    "        print(f\"Pathway data saved as {pathway_id}.txt\")\n",
    "    else:\n",
    "        print(\"Failed to retrieve pathway data. Status code:\", response.status_code)\n",
    "\n",
    "# Example pathway ID for Glycolysis / Gluconeogenesis\n",
    "pathway_id = \"map00010\"\n",
    "\n",
    "# Call the functions to download the pathway image and data\n",
    "download_kegg_pathway_data(pathway_id)\n"
   ]
  }
 ],
 "metadata": {
  "kernelspec": {
   "display_name": "pbi_dev",
   "language": "python",
   "name": "python3"
  },
  "language_info": {
   "codemirror_mode": {
    "name": "ipython",
    "version": 3
   },
   "file_extension": ".py",
   "mimetype": "text/x-python",
   "name": "python",
   "nbconvert_exporter": "python",
   "pygments_lexer": "ipython3",
   "version": "3.12.5"
  }
 },
 "nbformat": 4,
 "nbformat_minor": 2
}
