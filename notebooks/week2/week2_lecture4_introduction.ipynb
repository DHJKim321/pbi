{
 "cells": [
  {
   "cell_type": "markdown",
   "metadata": {},
   "source": [
    "### Programming for Biomedical Informatics\n",
    "#### Week 2 - Pandas Quick Tour\n",
    "\n",
    "Here we run quickly through some key functionality for Pandas. It is a hugely rich library which has excellent documentation. Please go here for the official documentation - https://pandas.pydata.org/docs/user_guide/index.html"
   ]
  },
  {
   "cell_type": "code",
   "execution_count": null,
   "metadata": {},
   "outputs": [],
   "source": [
    "### Creating DataFrames\n",
    "\n",
    "import pandas as pd\n",
    "\n",
    "# Create a DataFrame from a dictionary\n",
    "data = {'Name': ['John', 'Anna', 'Xiu', 'Wang'],\n",
    "        'Age': [28, 22, 34, 29],\n",
    "        'Country': ['USA', 'Germany', 'China', 'China']}\n",
    "df = pd.DataFrame(data)\n",
    "\n",
    "df.head()"
   ]
  },
  {
   "cell_type": "code",
   "execution_count": null,
   "metadata": {},
   "outputs": [],
   "source": [
    "### Reading Data from Files\n",
    "\n",
    "#NB pandas has functions to read data from various file formats like CSV, Excel, SQL, HTML, JSON, etc.\n",
    "#NB I haven't attched files here!\n",
    "\n",
    "# Read a CSV file\n",
    "df = pd.read_csv('data.csv')\n",
    "\n",
    "# Read an Excel file\n",
    "df = pd.read_excel('data.xlsx')"
   ]
  },
  {
   "cell_type": "code",
   "execution_count": null,
   "metadata": {},
   "outputs": [],
   "source": [
    "### Data Selection\n",
    "\n",
    "# Selecting a single column\n",
    "ages = df['Age']\n",
    "print(ages)\n",
    "# The type of the column is a pandas Series\n",
    "print(type(ages))\n",
    "print(\"\\n\")\n",
    "\n",
    "# Selecting multiple columns\n",
    "subset = df[['Name', 'Country']]\n",
    "print(subset)\n",
    "print(\"\\n\")\n",
    "\n",
    "# Select rows by position\n",
    "first_five = df.iloc[:5]\n",
    "print(first_five)\n",
    "print(\"\\n\")\n",
    "\n",
    "# Select rows by condition\n",
    "adults = df[df['Age'] >= 18]\n",
    "print(adults)"
   ]
  },
  {
   "cell_type": "code",
   "execution_count": null,
   "metadata": {},
   "outputs": [],
   "source": [
    "### Handling Missing Data\n",
    "\n",
    "# add some missing values to the DataFrame\n",
    "df.loc[1, 'Age'] = None\n",
    "df.loc[2, 'Country'] = None\n",
    "print(df)\n",
    "print(\"\\n\")\n",
    "\n",
    "# Check for missing values\n",
    "print(df.isnull())\n",
    "print(\"\\n\")\n",
    "\n",
    "# Drop rows with any missing values\n",
    "clean_df = df.dropna()\n",
    "print(clean_df)\n",
    "print(\"\\n\")\n",
    "\n",
    "# Fill missing values with a specific value\n",
    "filled_df = df.fillna(value=\"Unknown\")\n",
    "print(filled_df)"
   ]
  },
  {
   "cell_type": "code",
   "execution_count": null,
   "metadata": {},
   "outputs": [],
   "source": [
    "### Applying Functions\n",
    "\n",
    "# reset the DataFrame\n",
    "data = {'Name': ['John', 'Anna', 'Xiu', 'Wang'],\n",
    "        'Age': [28, 22, 34, 29],\n",
    "        'Country': ['USA', 'Germany', 'China', 'China']}\n",
    "df = pd.DataFrame(data)\n",
    "\n",
    "print(df)\n",
    "print(\"\\n\")\n",
    "\n",
    "# Apply a lambda function to a column\n",
    "df['AgePlusTen'] = df['Age'].apply(lambda x: x + 10)\n",
    "\n",
    "# Apply a function to multiple columns\n",
    "def process(row):\n",
    "    return f\"{row['Name']} is from {row['Country']}.\"\n",
    "\n",
    "df['Description'] = df.apply(process, axis=1)\n",
    "\n",
    "print(df)\n",
    "print(\"\\n\")"
   ]
  },
  {
   "cell_type": "code",
   "execution_count": null,
   "metadata": {},
   "outputs": [],
   "source": [
    "### Grouping and Aggregating\n",
    "\n",
    "# Group data by a column and sum another column\n",
    "country_age_sum = df.groupby('Country')['Age'].sum()\n",
    "print(country_age_sum)\n",
    "print(\"\\n\")\n",
    "\n",
    "# More complex aggregations\n",
    "stats = df.groupby('Country').agg({'Age': ['mean', 'min', 'max']})\n",
    "print(stats)"
   ]
  },
  {
   "cell_type": "code",
   "execution_count": null,
   "metadata": {},
   "outputs": [],
   "source": [
    "### Pivot Tables\n",
    "pivot_table = pd.pivot_table(df, values='Age', index='Country', columns='Name', aggfunc='mean')\n",
    "print(pivot_table)"
   ]
  },
  {
   "cell_type": "code",
   "execution_count": null,
   "metadata": {},
   "outputs": [],
   "source": [
    "### Merging and Joining\n",
    "\n",
    "# Creating another DataFrame\n",
    "other_data = {'Name': ['John', 'Anna', 'Xiu'],\n",
    "              'Salary': [50000, 62000, 45000]}\n",
    "other_df = pd.DataFrame(other_data)\n",
    "\n",
    "print(other_df)\n",
    "print(\"\\n\")\n",
    "\n",
    "# Merge DataFrames\n",
    "merged_df = pd.merge(df, other_df, on='Name')\n",
    "print(merged_df)"
   ]
  },
  {
   "cell_type": "code",
   "execution_count": null,
   "metadata": {},
   "outputs": [],
   "source": [
    "### Plotting Data\n",
    "\n",
    "import matplotlib.pyplot as plt\n",
    "\n",
    "# Simple plot of ages\n",
    "df['Age'].plot(kind='bar')\n",
    "plt.title('Age Distribution')\n",
    "plt.xlabel('Index')\n",
    "plt.ylabel('Age')\n",
    "plt.show()"
   ]
  },
  {
   "cell_type": "code",
   "execution_count": null,
   "metadata": {},
   "outputs": [],
   "source": [
    "### Examples of DatFrame Merging and Joining\n",
    "\n",
    "# DataFrame 1\n",
    "data1 = {\n",
    "    'EmployeeID': [1, 2, 3, 4],\n",
    "    'Name': ['Alice', 'Bob', 'Cindy', 'David']\n",
    "}\n",
    "df1 = pd.DataFrame(data1)\n",
    "\n",
    "# DataFrame 2\n",
    "data2 = {\n",
    "    'EmployeeID': [3, 4, 5, 6],\n",
    "    'Salary': [70000, 85000, 65000, 74000]\n",
    "}\n",
    "df2 = pd.DataFrame(data2)\n",
    "\n",
    "print(\"DataFrame 1:\")\n",
    "print(df1)\n",
    "print(\"\\nDataFrame 2:\")\n",
    "print(df2)"
   ]
  },
  {
   "cell_type": "code",
   "execution_count": null,
   "metadata": {},
   "outputs": [],
   "source": [
    "### Inner Join\n",
    "\n",
    "'''An inner join retrieves rows that have matching values in both DataFrames.'''\n",
    "\n",
    "# Inner join on 'EmployeeID'\n",
    "inner_merged_df = pd.merge(df1, df2, on='EmployeeID', how='inner')\n",
    "print(inner_merged_df)"
   ]
  },
  {
   "cell_type": "code",
   "execution_count": null,
   "metadata": {},
   "outputs": [],
   "source": [
    "### Outer Join\n",
    "\n",
    "'''An outer join retrieves all rows from both DataFrames, filling in NA for missing matches.'''\n",
    "\n",
    "# Outer join on 'EmployeeID'\n",
    "outer_merged_df = pd.merge(df1, df2, on='EmployeeID', how='outer')\n",
    "print(outer_merged_df)"
   ]
  },
  {
   "cell_type": "code",
   "execution_count": null,
   "metadata": {},
   "outputs": [],
   "source": [
    "### Left Join\n",
    "\n",
    "'''A left join retrieves all rows from the left DataFrame and the matched rows from the right DataFrame.\n",
    "Rows in the left DataFrame that do not have a match in the right DataFrame will have NA in the result.'''\n",
    "\n",
    "# Left join on 'EmployeeID'\n",
    "left_merged_df = pd.merge(df1, df2, on='EmployeeID', how='left')\n",
    "print(left_merged_df)"
   ]
  },
  {
   "cell_type": "code",
   "execution_count": null,
   "metadata": {},
   "outputs": [],
   "source": [
    "### Right Join\n",
    "\n",
    "'''A right join retrieves all rows from the right DataFrame and the matched rows from the left DataFrame.\n",
    "Rows in the right DataFrame that do not have a match in the left DataFrame will have NA in the result.'''\n",
    "\n",
    "# Right join on 'EmployeeID'\n",
    "right_merged_df = pd.merge(df1, df2, on='EmployeeID', how='right')\n",
    "print(right_merged_df)"
   ]
  }
 ],
 "metadata": {
  "kernelspec": {
   "display_name": "pbi_dev",
   "language": "python",
   "name": "python3"
  },
  "language_info": {
   "codemirror_mode": {
    "name": "ipython",
    "version": 3
   },
   "file_extension": ".py",
   "mimetype": "text/x-python",
   "name": "python",
   "nbconvert_exporter": "python",
   "pygments_lexer": "ipython3",
   "version": "3.10.14"
  }
 },
 "nbformat": 4,
 "nbformat_minor": 2
}
