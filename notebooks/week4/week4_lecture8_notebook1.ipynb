{
 "cells": [
  {
   "cell_type": "markdown",
   "metadata": {},
   "source": [
    "### Programming for Biomedical Informatics\n",
    "#### Week 4 - Mining & Analysing the Biomedical Literature\n",
    "\n",
    "Using some of the skills we've developed working with eUtils we're now going to do some literature mining and analysis to gather some evidence about a rare genetic disease called Rett Syndrome."
   ]
  },
  {
   "cell_type": "code",
   "execution_count": 3,
   "metadata": {},
   "outputs": [],
   "source": [
    "'''In this script we are going to directly query eUtils using the requests library. This is because it allows us to easily specify the parameters and use the history feature of eUtils to make large queries efficiently.\n",
    "In the code below you should begin to see a pattern for how we approach the mapping process.'''\n",
    "\n",
    "# Preliminaries\n",
    "import urllib.request\n",
    "import random\n",
    "import pandas as pd\n",
    "import matplotlib.pyplot as plt\n",
    "from matplotlib_venn import venn2\n",
    "\n",
    "# we will use this to allow us to search the XML content retutned by the eUtils API\n",
    "import xml.etree.ElementTree as ET\n",
    "\n",
    "# load my API key from the file\n",
    "with open('../../../ncbi_api_key.txt', 'r') as file:\n",
    "    api_key = file.read().strip()\n",
    "\n",
    "with open('../../../ncbi_api_email.txt', 'r') as file:\n",
    "    email = file.read().strip()"
   ]
  },
  {
   "cell_type": "code",
   "execution_count": null,
   "metadata": {},
   "outputs": [],
   "source": [
    "# Step 1 - Creating a specific search to find articles relating to Rett Syndrome\n",
    "\n",
    "'''A good place to start is to search MeSH to see if a specific term for \"Rett Syndrom\" exists. If it does we can\n",
    "use this to perform a PubMed search. Experimentally it makes sense to try a few different phrasings and methods\n",
    "to search for Rett Syndrome to see how much the results vary.\n",
    "\n",
    "https://meshb.nlm.nih.gov\n",
    "\n",
    "It would make sense to do some analysis of this; for example we could retrieve the PubMedIds for the different searches\n",
    "and comapre them to see how much overlap there is. This would give us confidence in our search strategy.'''"
   ]
  },
  {
   "cell_type": "code",
   "execution_count": 4,
   "metadata": {},
   "outputs": [],
   "source": [
    "# Search PubMed for articles relating to Rett Syndrome using eUtils API\n",
    "# Define the parameters for the eSearch request\n",
    "\n",
    "'''as we're going to make a few different searches we can define a function to do this for us'''\n",
    "\n",
    "def pubmed_search_count(query, api_key, email):\n",
    "\n",
    "    # define the parameters for the eSearch request\n",
    "    esearch_params = {\n",
    "        'db': 'pubmed',\n",
    "        'term': query,\n",
    "        'api_key': api_key,\n",
    "        'email': email\n",
    "    }\n",
    "\n",
    "    # encode the parameters so they can be passed to the API\n",
    "    encoded_data = urllib.parse.urlencode(esearch_params).encode('utf-8')\n",
    "\n",
    "    # the base request url for eSearch\n",
    "    url = f\"https://eutils.ncbi.nlm.nih.gov/entrez/eutils/esearch.fcgi\"\n",
    "\n",
    "    # make the request\n",
    "    request = urllib.request.Request(url, data=encoded_data)\n",
    "    response = urllib.request.urlopen(request)\n",
    "\n",
    "    # read into an XML object\n",
    "    esaerch_data_XML = ET.fromstring(response.read())\n",
    "\n",
    "    # extract the couunt of the number of articles found\n",
    "    count = int(esaerch_data_XML.find('Count').text)\n",
    "\n",
    "    print(f\"Found {count} articles\")"
   ]
  },
  {
   "cell_type": "code",
   "execution_count": 9,
   "metadata": {},
   "outputs": [
    {
     "name": "stdout",
     "output_type": "stream",
     "text": [
      "Found 3073 articles\n"
     ]
    }
   ],
   "source": [
    "# try a search with the MeSH term for Rett Syndrome\n",
    "pubmed_search_count('Rett Syndrome[MeSH]', api_key, email)"
   ]
  },
  {
   "cell_type": "code",
   "execution_count": 11,
   "metadata": {},
   "outputs": [
    {
     "name": "stdout",
     "output_type": "stream",
     "text": [
      "Found 4710 articles\n"
     ]
    }
   ],
   "source": [
    "# now lets try an allfields search for Rett Syndrome\n",
    "pubmed_search_count('Rett Syndrome', api_key, email)"
   ]
  },
  {
   "cell_type": "code",
   "execution_count": 16,
   "metadata": {},
   "outputs": [
    {
     "name": "stdout",
     "output_type": "stream",
     "text": [
      "20\n"
     ]
    }
   ],
   "source": [
    "# lets modify the function above to return the list of PubMedIds\n",
    "\n",
    "def pubmed_search_ids(query, api_key, email):\n",
    "    \n",
    "        # define the parameters for the eSearch request\n",
    "        esearch_params = {\n",
    "            'db': 'pubmed',\n",
    "            'term': query,\n",
    "            'api_key': api_key,\n",
    "            'email': email\n",
    "        }\n",
    "\n",
    "        # encode the parameters so they can be passed to the API\n",
    "        encoded_data = urllib.parse.urlencode(esearch_params).encode('utf-8')\n",
    "\n",
    "        # the base request url for eSearch\n",
    "        url = f\"https://eutils.ncbi.nlm.nih.gov/entrez/eutils/esearch.fcgi\"\n",
    "\n",
    "        # make the request\n",
    "        request = urllib.request.Request(url, data=encoded_data)\n",
    "        response = urllib.request.urlopen(request)\n",
    "\n",
    "        # read into an XML object\n",
    "        esaerch_data_XML = ET.fromstring(response.read())\n",
    "        \n",
    "        # extract all the IDs in the response\n",
    "        ids = [id.text for id in esaerch_data_XML.findall('IdList/Id')]\n",
    "\n",
    "        return ids\n",
    "\n",
    "\n",
    "# try a search with the MeSH term for Rett Syndrome\n",
    "ids = pubmed_search_ids('\"Rett Syndrome\"[MH]', api_key, email)\n",
    "\n",
    "# print the number of ids found\n",
    "print(len(ids))"
   ]
  },
  {
   "cell_type": "code",
   "execution_count": null,
   "metadata": {},
   "outputs": [],
   "source": [
    "'''so you can see the search by default will return 20 ids (you can modify retmax, but you'd need to adjust it based on the count return\n",
    "which in effect would call the search twice. This is why we use the history feature of eUtils to make large queries efficiently)'''"
   ]
  },
  {
   "cell_type": "code",
   "execution_count": 41,
   "metadata": {},
   "outputs": [],
   "source": [
    "# lets modify the function above to return the list of PubMedIds\n",
    "\n",
    "def pubmed_search_ids(query, api_key, email):\n",
    "    \n",
    "        # define the parameters for the eSearch request\n",
    "        esearch_params = {\n",
    "            'db': 'pubmed',\n",
    "            'term': query,\n",
    "            'api_key': api_key,\n",
    "            'email': email,\n",
    "            'usehistory': 'y'\n",
    "        }\n",
    "\n",
    "        # encode the parameters so they can be passed to the API\n",
    "        encoded_data = urllib.parse.urlencode(esearch_params).encode('utf-8')\n",
    "\n",
    "        # the base request url for eSearch\n",
    "        url = f\"https://eutils.ncbi.nlm.nih.gov/entrez/eutils/esearch.fcgi\"\n",
    "\n",
    "        # make the request\n",
    "        request = urllib.request.Request(url, data=encoded_data)\n",
    "        response = urllib.request.urlopen(request)\n",
    "\n",
    "        # read into an XML object\n",
    "        esearch_data_XML = ET.fromstring(response.read())\n",
    "\n",
    "        # extract the WebEnv and QueryKey\n",
    "        webenv = esearch_data_XML.find('WebEnv').text\n",
    "        query_key = esearch_data_XML.find('QueryKey').text\n",
    "\n",
    "        # define the parameters for the eSummary request\n",
    "        \n",
    "        esummary_params = {\n",
    "            'db': 'pubmed',\n",
    "            'query_key': query_key,\n",
    "            'WebEnv': webenv,\n",
    "            'api_key': api_key,\n",
    "            'email': email\n",
    "        }\n",
    "\n",
    "        # encode the parameters so they can be passed to the API\n",
    "        encoded_data = urllib.parse.urlencode(esummary_params).encode('utf-8')\n",
    "\n",
    "        # the base request url for eSummary\n",
    "        url = f\"https://eutils.ncbi.nlm.nih.gov/entrez/eutils/esummary.fcgi\"\n",
    "\n",
    "        # make the request\n",
    "        request = urllib.request.Request(url, data=encoded_data)\n",
    "        response = urllib.request.urlopen(request)\n",
    "\n",
    "        # read into an XML object\n",
    "        esummary_data_XML = ET.fromstring(response.read())\n",
    "\n",
    "        ids = []\n",
    "        for doc in esummary_data_XML.findall('DocSum'):\n",
    "            for id in doc.findall('Id'):\n",
    "                ids.append(id.text)\n",
    "        \n",
    "        return ids"
   ]
  },
  {
   "cell_type": "code",
   "execution_count": 42,
   "metadata": {},
   "outputs": [
    {
     "name": "stdout",
     "output_type": "stream",
     "text": [
      "3073\n"
     ]
    }
   ],
   "source": [
    "# try a search with the MeSH term for Rett Syndrome\n",
    "q1_ids = pubmed_search_ids('\"Rett Syndrome\"[MH]', api_key, email)\n",
    "\n",
    "# print the number of ids found\n",
    "print(len(q1_ids))"
   ]
  },
  {
   "cell_type": "code",
   "execution_count": 43,
   "metadata": {},
   "outputs": [
    {
     "name": "stdout",
     "output_type": "stream",
     "text": [
      "4127\n"
     ]
    }
   ],
   "source": [
    "# and finally a Title and Abstract restricted search\n",
    "q2_ids = pubmed_search_ids('\"Rett Syndrome\"[TIAB]', api_key, email)\n",
    "\n",
    "# print the number of ids found\n",
    "print(len(q2_ids))"
   ]
  },
  {
   "cell_type": "code",
   "execution_count": 48,
   "metadata": {},
   "outputs": [
    {
     "data": {
      "text/plain": [
       "2746"
      ]
     },
     "execution_count": 48,
     "metadata": {},
     "output_type": "execute_result"
    }
   ],
   "source": [
    "#lets use pythons set comparison to see how many ids are in common between the three searches\n",
    "len(set(q1_ids) & set(q2_ids))"
   ]
  },
  {
   "cell_type": "code",
   "execution_count": 51,
   "metadata": {},
   "outputs": [
    {
     "data": {
      "image/png": "[encoded data removed]",
      "text/plain": [
       "<Figure size 640x480 with 1 Axes>"
      ]
     },
     "metadata": {},
     "output_type": "display_data"
    }
   ],
   "source": [
    "# using matplotlib_venn to plot a venn diagram of the results\n",
    "\n",
    "# create the venn diagram\n",
    "venn2([set(q1_ids), set(q2_ids)], ('MeSH', 'Title and Abstract'))\n",
    "\n",
    "# show the plot\n",
    "plt.show()"
   ]
  },
  {
   "cell_type": "code",
   "execution_count": 69,
   "metadata": {},
   "outputs": [],
   "source": [
    "# We'll pick the first unique article from each search and retrieve the title and abstract\n",
    "\n",
    "# define a function to retrieve the title, abstract and authors for a given PMID\n",
    "def pubmed_fetch_tiab(pmid, api_key, email):\n",
    "        \n",
    "        # define the parameters for the eFetch request\n",
    "        efetch_params = {\n",
    "            'db': 'pubmed',\n",
    "            'id': pmid,\n",
    "            'retmode': 'xml',\n",
    "            'api_key': api_key,\n",
    "            'email': email\n",
    "        }\n",
    "\n",
    "        # encode the parameters so they can be passed to the API\n",
    "        encoded_data = urllib.parse.urlencode(efetch_params).encode('utf-8')\n",
    "\n",
    "        # the base request url for eFetch\n",
    "        url = f\"https://eutils.ncbi.nlm.nih.gov/entrez/eutils/efetch.fcgi\"\n",
    "\n",
    "        # make the request\n",
    "        request = urllib.request.Request(url, data=encoded_data)\n",
    "        response = urllib.request.urlopen(request)\n",
    "\n",
    "        # read into an XML object\n",
    "        efetch_data_XML = ET.fromstring(response.read())\n",
    "\n",
    "        # remember we can print this to work out how to formulate the XML query\n",
    "        # print(ET.tostring(efetch_data_XML, encoding='utf8').decode('utf8'))\n",
    "\n",
    "        # extract the title, abstract and MeSH terms\n",
    "        article = efetch_data_XML.findall('PubmedArticle')[0]\n",
    "        try:\n",
    "            title = article.find('MedlineCitation/Article/ArticleTitle').text\n",
    "            abstract = article.find('MedlineCitation/Article/Abstract/AbstractText').text\n",
    "            mesh_terms = [mesh_term.text for mesh_term in article.findall('MedlineCitation/MeshHeadingList/MeshHeading/DescriptorName')]\n",
    "        except:\n",
    "            return None\n",
    "\n",
    "        return title, abstract, mesh_terms"
   ]
  },
  {
   "cell_type": "code",
   "execution_count": 70,
   "metadata": {},
   "outputs": [],
   "source": [
    "# find the list of pmids that are unique to q1_ids\n",
    "q1_unique_ids = list(set(q1_ids) - set(q2_ids))\n",
    "q2_unique_ids = list(set(q2_ids) - set(q1_ids))"
   ]
  },
  {
   "cell_type": "code",
   "execution_count": 72,
   "metadata": {},
   "outputs": [
    {
     "ename": "HTTPError",
     "evalue": "HTTP Error 400: Bad Request",
     "output_type": "error",
     "traceback": [
      "\u001b[0;31m---------------------------------------------------------------------------\u001b[0m",
      "\u001b[0;31mHTTPError\u001b[0m                                 Traceback (most recent call last)",
      "Cell \u001b[0;32mIn[72], line 14\u001b[0m\n\u001b[1;32m     10\u001b[0m     \u001b[38;5;28;01mreturn\u001b[39;00m title, abstract, mesh_terms\n\u001b[1;32m     13\u001b[0m \u001b[38;5;66;03m# fetch the title and abstract for the random examples\u001b[39;00m\n\u001b[0;32m---> 14\u001b[0m q1_title, q1_abstract, q1_mesh_terms \u001b[38;5;241m=\u001b[39m get_tiab_from_list(q1_unique_ids, api_key, email)\n\u001b[1;32m     15\u001b[0m q2_title, q2_abstract, q2_mesh_terms \u001b[38;5;241m=\u001b[39m get_tiab_from_list(q2_unique_ids, api_key, email)\n\u001b[1;32m     17\u001b[0m \u001b[38;5;66;03m# print the results for q1\u001b[39;00m\n",
      "Cell \u001b[0;32mIn[72], line 6\u001b[0m, in \u001b[0;36mget_tiab_from_list\u001b[0;34m(ids, api_key, email)\u001b[0m\n\u001b[1;32m      4\u001b[0m \u001b[38;5;28;01mdef\u001b[39;00m \u001b[38;5;21mget_tiab_from_list\u001b[39m(ids, api_key, email):\n\u001b[1;32m      5\u001b[0m     random_id \u001b[38;5;241m=\u001b[39m np\u001b[38;5;241m.\u001b[39mrandom\u001b[38;5;241m.\u001b[39mchoice(ids)\n\u001b[0;32m----> 6\u001b[0m     result \u001b[38;5;241m=\u001b[39m pubmed_fetch_tiab(random_id, api_key, email)\n\u001b[1;32m      7\u001b[0m     \u001b[38;5;28;01mwhile\u001b[39;00m result \u001b[38;5;241m==\u001b[39m \u001b[38;5;28;01mNone\u001b[39;00m:\n\u001b[1;32m      8\u001b[0m         result \u001b[38;5;241m=\u001b[39m pubmed_fetch_tiab(random_id, api_key, email)\n",
      "Cell \u001b[0;32mIn[69], line 23\u001b[0m, in \u001b[0;36mpubmed_fetch_tiab\u001b[0;34m(pmid, api_key, email)\u001b[0m\n\u001b[1;32m     21\u001b[0m \u001b[38;5;66;03m# make the request\u001b[39;00m\n\u001b[1;32m     22\u001b[0m request \u001b[38;5;241m=\u001b[39m urllib\u001b[38;5;241m.\u001b[39mrequest\u001b[38;5;241m.\u001b[39mRequest(url, data\u001b[38;5;241m=\u001b[39mencoded_data)\n\u001b[0;32m---> 23\u001b[0m response \u001b[38;5;241m=\u001b[39m urllib\u001b[38;5;241m.\u001b[39mrequest\u001b[38;5;241m.\u001b[39murlopen(request)\n\u001b[1;32m     25\u001b[0m \u001b[38;5;66;03m# read into an XML object\u001b[39;00m\n\u001b[1;32m     26\u001b[0m efetch_data_XML \u001b[38;5;241m=\u001b[39m ET\u001b[38;5;241m.\u001b[39mfromstring(response\u001b[38;5;241m.\u001b[39mread())\n",
      "File \u001b[0;32m/opt/anaconda3/envs/pbi/lib/python3.12/urllib/request.py:215\u001b[0m, in \u001b[0;36murlopen\u001b[0;34m(url, data, timeout, cafile, capath, cadefault, context)\u001b[0m\n\u001b[1;32m    213\u001b[0m \u001b[38;5;28;01melse\u001b[39;00m:\n\u001b[1;32m    214\u001b[0m     opener \u001b[38;5;241m=\u001b[39m _opener\n\u001b[0;32m--> 215\u001b[0m \u001b[38;5;28;01mreturn\u001b[39;00m opener\u001b[38;5;241m.\u001b[39mopen(url, data, timeout)\n",
      "File \u001b[0;32m/opt/anaconda3/envs/pbi/lib/python3.12/urllib/request.py:521\u001b[0m, in \u001b[0;36mOpenerDirector.open\u001b[0;34m(self, fullurl, data, timeout)\u001b[0m\n\u001b[1;32m    519\u001b[0m \u001b[38;5;28;01mfor\u001b[39;00m processor \u001b[38;5;129;01min\u001b[39;00m \u001b[38;5;28mself\u001b[39m\u001b[38;5;241m.\u001b[39mprocess_response\u001b[38;5;241m.\u001b[39mget(protocol, []):\n\u001b[1;32m    520\u001b[0m     meth \u001b[38;5;241m=\u001b[39m \u001b[38;5;28mgetattr\u001b[39m(processor, meth_name)\n\u001b[0;32m--> 521\u001b[0m     response \u001b[38;5;241m=\u001b[39m meth(req, response)\n\u001b[1;32m    523\u001b[0m \u001b[38;5;28;01mreturn\u001b[39;00m response\n",
      "File \u001b[0;32m/opt/anaconda3/envs/pbi/lib/python3.12/urllib/request.py:630\u001b[0m, in \u001b[0;36mHTTPErrorProcessor.http_response\u001b[0;34m(self, request, response)\u001b[0m\n\u001b[1;32m    627\u001b[0m \u001b[38;5;66;03m# According to RFC 2616, \"2xx\" code indicates that the client's\u001b[39;00m\n\u001b[1;32m    628\u001b[0m \u001b[38;5;66;03m# request was successfully received, understood, and accepted.\u001b[39;00m\n\u001b[1;32m    629\u001b[0m \u001b[38;5;28;01mif\u001b[39;00m \u001b[38;5;129;01mnot\u001b[39;00m (\u001b[38;5;241m200\u001b[39m \u001b[38;5;241m<\u001b[39m\u001b[38;5;241m=\u001b[39m code \u001b[38;5;241m<\u001b[39m \u001b[38;5;241m300\u001b[39m):\n\u001b[0;32m--> 630\u001b[0m     response \u001b[38;5;241m=\u001b[39m \u001b[38;5;28mself\u001b[39m\u001b[38;5;241m.\u001b[39mparent\u001b[38;5;241m.\u001b[39merror(\n\u001b[1;32m    631\u001b[0m         \u001b[38;5;124m'\u001b[39m\u001b[38;5;124mhttp\u001b[39m\u001b[38;5;124m'\u001b[39m, request, response, code, msg, hdrs)\n\u001b[1;32m    633\u001b[0m \u001b[38;5;28;01mreturn\u001b[39;00m response\n",
      "File \u001b[0;32m/opt/anaconda3/envs/pbi/lib/python3.12/urllib/request.py:559\u001b[0m, in \u001b[0;36mOpenerDirector.error\u001b[0;34m(self, proto, *args)\u001b[0m\n\u001b[1;32m    557\u001b[0m \u001b[38;5;28;01mif\u001b[39;00m http_err:\n\u001b[1;32m    558\u001b[0m     args \u001b[38;5;241m=\u001b[39m (\u001b[38;5;28mdict\u001b[39m, \u001b[38;5;124m'\u001b[39m\u001b[38;5;124mdefault\u001b[39m\u001b[38;5;124m'\u001b[39m, \u001b[38;5;124m'\u001b[39m\u001b[38;5;124mhttp_error_default\u001b[39m\u001b[38;5;124m'\u001b[39m) \u001b[38;5;241m+\u001b[39m orig_args\n\u001b[0;32m--> 559\u001b[0m     \u001b[38;5;28;01mreturn\u001b[39;00m \u001b[38;5;28mself\u001b[39m\u001b[38;5;241m.\u001b[39m_call_chain(\u001b[38;5;241m*\u001b[39margs)\n",
      "File \u001b[0;32m/opt/anaconda3/envs/pbi/lib/python3.12/urllib/request.py:492\u001b[0m, in \u001b[0;36mOpenerDirector._call_chain\u001b[0;34m(self, chain, kind, meth_name, *args)\u001b[0m\n\u001b[1;32m    490\u001b[0m \u001b[38;5;28;01mfor\u001b[39;00m handler \u001b[38;5;129;01min\u001b[39;00m handlers:\n\u001b[1;32m    491\u001b[0m     func \u001b[38;5;241m=\u001b[39m \u001b[38;5;28mgetattr\u001b[39m(handler, meth_name)\n\u001b[0;32m--> 492\u001b[0m     result \u001b[38;5;241m=\u001b[39m func(\u001b[38;5;241m*\u001b[39margs)\n\u001b[1;32m    493\u001b[0m     \u001b[38;5;28;01mif\u001b[39;00m result \u001b[38;5;129;01mis\u001b[39;00m \u001b[38;5;129;01mnot\u001b[39;00m \u001b[38;5;28;01mNone\u001b[39;00m:\n\u001b[1;32m    494\u001b[0m         \u001b[38;5;28;01mreturn\u001b[39;00m result\n",
      "File \u001b[0;32m/opt/anaconda3/envs/pbi/lib/python3.12/urllib/request.py:639\u001b[0m, in \u001b[0;36mHTTPDefaultErrorHandler.http_error_default\u001b[0;34m(self, req, fp, code, msg, hdrs)\u001b[0m\n\u001b[1;32m    638\u001b[0m \u001b[38;5;28;01mdef\u001b[39;00m \u001b[38;5;21mhttp_error_default\u001b[39m(\u001b[38;5;28mself\u001b[39m, req, fp, code, msg, hdrs):\n\u001b[0;32m--> 639\u001b[0m     \u001b[38;5;28;01mraise\u001b[39;00m HTTPError(req\u001b[38;5;241m.\u001b[39mfull_url, code, msg, hdrs, fp)\n",
      "\u001b[0;31mHTTPError\u001b[0m: HTTP Error 400: Bad Request"
     ]
    }
   ],
   "source": [
    "import numpy as np\n",
    "\n",
    "#define a function that will randomly pick a PMID from a list until one is found that has a title and abstract\n",
    "def get_tiab_from_list(ids, api_key, email):\n",
    "    random_id = np.random.choice(ids)\n",
    "    result = pubmed_fetch_tiab(random_id, api_key, email)\n",
    "    while result == None:\n",
    "        result = pubmed_fetch_tiab(random_id, api_key, email)\n",
    "    title, abstract, mesh_terms = result\n",
    "    return title, abstract, mesh_terms\n",
    "\n",
    "\n",
    "# fetch the title and abstract for the random examples\n",
    "q1_title, q1_abstract, q1_mesh_terms = get_tiab_from_list(q1_unique_ids, api_key, email)\n",
    "q2_title, q2_abstract, q2_mesh_terms = get_tiab_from_list(q2_unique_ids, api_key, email)\n",
    "\n",
    "# print the results for q1\n",
    "print('Q1 Title: {q1_title}')\n",
    "# print the title ALLCAPS\n",
    "'''### YOUR CODE HERE ###'''\n",
    "# wrap the abstract at 80 characters\n",
    "'''### YOUR CODE HERE ###'''\n",
    "# print the mesh terms as a tab intended list one term per line\n",
    "'''### YOUR CODE HERE ###'''\n",
    "\n",
    "# print the results for q2 as well\n",
    "'''### YOUR CODE HERE ###'''"
   ]
  },
  {
   "cell_type": "code",
   "execution_count": null,
   "metadata": {},
   "outputs": [],
   "source": [
    "'''Now we want to try to learn something about Rett Syndrome from these papers.\n",
    "One obvious thing to do is to see look at the distrubution of MeSH terms associated with the papers'''"
   ]
  },
  {
   "cell_type": "code",
   "execution_count": null,
   "metadata": {},
   "outputs": [],
   "source": [
    "#define a function to retrieve all the MeSH terms for a list of PMIDs\n",
    "def pubmed_fetch_mesh_terms(pmids, api_key, email):\n",
    "    \n",
    "    # define the parameters for the eFetch request\n",
    "    efetch_params = {\n",
    "        'db': 'pubmed',\n",
    "        'id': ','.join(pmids),\n",
    "        'retmode': 'xml',\n",
    "        'api_key': api_key,\n",
    "        'email': email\n",
    "    }\n",
    "\n",
    "    # encode the parameters so they can be passed to the API\n",
    "    encoded_data = urllib.parse.urlencode(efetch_params).encode('utf-8')\n",
    "\n",
    "    # the base request url for eFetch\n",
    "    url = f\"https://eutils.ncbi.nlm.nih.gov/entrez/eutils/efetch.fcgi\"\n",
    "\n",
    "    # make the request\n",
    "    request = urllib.request.Request(url, data=encoded_data)\n",
    "    response = urllib.request.urlopen(request)\n",
    "\n",
    "    # read into an XML object\n",
    "    efetch_data_XML = ET.fromstring(response.read())\n",
    "\n",
    "    # extract the MeSH terms\n",
    "    mesh_terms = []\n",
    "    for article in efetch_data_XML.findall('PubmedArticle'):\n",
    "        try:\n",
    "            mesh_terms.extend([mesh.text for mesh in article.findall('MedlineCitation/MeshHeadingList/MeshHeading/DescriptorName')])\n",
    "        except:\n",
    "            pass\n",
    "\n",
    "    # create a dictionary of the MeSH terms and their counts\n",
    "    '''### YOUR CODE HERE ###'''\n",
    "    \n",
    "    return mesh_terms_dict"
   ]
  },
  {
   "cell_type": "code",
   "execution_count": null,
   "metadata": {},
   "outputs": [],
   "source": [
    "#extract the MeSH term data for all the \"Rett Syndrome[MH]\" papers\n",
    "pmids = q1_ids # this we derived right at the top of the notebook\n",
    "\n",
    "mesh_dict = pubmed_fetch_mesh_terms(pmids, api_key, email)\n",
    "\n",
    "# sort the dictionary by the counts\n",
    "sorted_mesh_dict = '''### YOUR CODE HERE ###'''\n",
    "\n",
    "# plot the top 10 MeSH terms\n",
    "plt.barh(list(sorted_mesh_dict.keys())[:10], list(sorted_mesh_dict.values())[:10]);\n",
    "\n",
    "'''What can we immediately learn from this data?'''"
   ]
  },
  {
   "cell_type": "code",
   "execution_count": 144,
   "metadata": {},
   "outputs": [],
   "source": [
    "'''lets use eLink to find any OMIM records that refer to these papers.\n",
    "Remember OMIM - Online Mendelian Inheritance in Man - is a curated database of human genes and genetic disorders'''\n",
    "\n",
    "def get_pubmed_omim(pmids):\n",
    "\n",
    "    # NB you can see all the links (an astonishing number)\n",
    "    # https://eutils.ncbi.nlm.nih.gov/entrez/query/static/entrezlinks.html#pubmed\n",
    "    # we are going to use the pubmed_omim_calculated link as this finds OMIM records that cite our papers\n",
    "\n",
    "    # convert the list of pmids to a string where each pmid is preceded by 'id=' and separated by an &\n",
    "    pmid_string = '&id='.join(pmids)\n",
    "    \n",
    "    # Define the parameters for the eSearch request\n",
    "    # Notice how we don't have to specify the dbfrom and db elements if we use the linkname\n",
    "    elink_params = {\n",
    "        'linkname': 'pubmed_omim_calculated',\n",
    "        'api_key': api_key,\n",
    "        'email': email,\n",
    "    }\n",
    "    # encode the parameters so they can be passed to the API\n",
    "    encoded_data = urllib.parse.urlencode(elink_params).encode('utf-8')\n",
    "    encoded_data = encoded_data + pmid_string.encode('utf-8')\n",
    "\n",
    "    # the base request url for eSearch\n",
    "    url = f\"https://eutils.ncbi.nlm.nih.gov/entrez/eutils/elink.fcgi\"\n",
    "\n",
    "    # make the request\n",
    "    request = urllib.request.Request(url, data=encoded_data)\n",
    "    response = urllib.request.urlopen(request)\n",
    "    \n",
    "    # read into an XML object\n",
    "    elink_data_XML = ET.fromstring(response.read())\n",
    "\n",
    "    # list to store the pubmed_ids of the cited papers\n",
    "    omim_records = []\n",
    "\n",
    "    # extract the gene ids from the links\n",
    "    for link in elink_data_XML.findall('LinkSet/LinkSetDb/Link/Id'):\n",
    "        omim_records.append(link.text)\n",
    "\n",
    "    return omim_records"
   ]
  },
  {
   "cell_type": "code",
   "execution_count": null,
   "metadata": {},
   "outputs": [],
   "source": [
    "# create a list of OMIM entries linked to the papers\n",
    "omim_records = get_pubmed_omim(pmids)\n",
    "\n",
    "# find the unique gene ids from the list\n",
    "unique_omim_records = list(set(omim_records))\n",
    "\n",
    "# print the number of unique records\n",
    "print(f'There are',len(unique_omim_records),'unique OMIM records linked to the papers')"
   ]
  },
  {
   "cell_type": "code",
   "execution_count": 162,
   "metadata": {},
   "outputs": [],
   "source": [
    "# use eSummary to retrieve the titles of the OMIM records\n",
    "def get_omim_titles(omim_records):\n",
    "\n",
    "    # convert the list of omim records to a string where each omim record is followed by a [MIM] in an 'OR' separated string\n",
    "    omim_string = '''### YOUR CODE HERE ###'''\n",
    "    \n",
    "    # Define the parameters for the eSearch request\n",
    "    esearch_params = {\n",
    "        'db': 'omim',\n",
    "        'term': omim_string,\n",
    "        'api_key': api_key,\n",
    "        'email': email,\n",
    "        'usehistory': 'y'\n",
    "    }\n",
    "\n",
    "    # encode the parameters so they can be passed to the API\n",
    "    encoded_data = urllib.parse.urlencode(esearch_params).encode('utf-8')\n",
    "\n",
    "    # the base request url for eSearch\n",
    "    url = f\"https://eutils.ncbi.nlm.nih.gov/entrez/eutils/esearch.fcgi\"\n",
    "\n",
    "    # make the request\n",
    "    request = urllib.request.Request(url, data=encoded_data)\n",
    "    response = urllib.request.urlopen(request)\n",
    "\n",
    "    # read into an XML object\n",
    "    esearch_data_XML = ET.fromstring(response.read())\n",
    "\n",
    "    # extract the WebEnv and QueryKey\n",
    "    webenv = esearch_data_XML.find('WebEnv').text\n",
    "    query_key = esearch_data_XML.find('QueryKey').text\n",
    "\n",
    "    # define the parameters for the eSummary request\n",
    "    esummary_params = {\n",
    "        'db': 'pubmed',\n",
    "        'query_key': query_key,\n",
    "        'WebEnv': webenv,\n",
    "        'api_key': api_key,\n",
    "        'email': email\n",
    "    }\n",
    "\n",
    "    # encode the parameters so they can be passed to the API\n",
    "    encoded_data = urllib.parse.urlencode(esummary_params).encode('utf-8')\n",
    "\n",
    "    # the base request url for eSearch\n",
    "    url = f\"https://eutils.ncbi.nlm.nih.gov/entrez/eutils/esummary.fcgi\"\n",
    "\n",
    "    # make the request\n",
    "    request = urllib.request.Request(url, data=encoded_data)\n",
    "    response = urllib.request.urlopen(request)\n",
    "\n",
    "    # read into an XML object\n",
    "    esummary_data_XML = ET.fromstring(response.read())\n",
    "\n",
    "    # extract the titles of the OMIM records\n",
    "    omim_titles = {}\n",
    "\n",
    "    for record in esummary_data_XML.findall('DocSum'):\n",
    "        try:\n",
    "            omim_id = record.find('Id').text\n",
    "            omim_title = record.find('Item[@Name=\"Title\"]').text\n",
    "            omim_titles[omim_id] = omim_title\n",
    "        except:\n",
    "            pass\n",
    "\n",
    "    return omim_titles"
   ]
  },
  {
   "cell_type": "code",
   "execution_count": null,
   "metadata": {},
   "outputs": [],
   "source": [
    "# get the titles of the OMIM records\n",
    "omim_titles = get_omim_titles(unique_omim_records)\n",
    "\n",
    "# convert this into a dataframe where the index is the OMIM ID and the column is the title\n",
    "'''### YOUR CODE HERE ###'''"
   ]
  },
  {
   "cell_type": "code",
   "execution_count": null,
   "metadata": {},
   "outputs": [],
   "source": [
    "# count the number of times each OMIM record is cited from the omim_records list\n",
    "omim_records_dict = {}\n",
    "\n",
    "for record in omim_records:\n",
    "    '''### YOUR CODE HERE ###'''\n",
    "\n",
    "# sort the dictionary by the counts\n",
    "sorted_omim_records_dict = '''### YOUR CODE HERE ###'''\n",
    "\n",
    "#convert the dictionary to a dataframe\n",
    "df_omim = pd.DataFrame.from_dict(sorted_omim_records_dict, orient='index', columns=['Count'])\n",
    "\n",
    "# merge the dataframe with the omim_names dataframe\n",
    "combined = '''### YOUR CODE HERE ###'''\n",
    "\n",
    "#remove the index column\n",
    "combined.reset_index(inplace=True)\n",
    "\n",
    "#rename the columns\n",
    "combined.columns = ['OMIM ID', 'Count', 'Title']\n",
    "\n",
    "# print the dataframe\n",
    "combined.head()"
   ]
  },
  {
   "cell_type": "code",
   "execution_count": null,
   "metadata": {},
   "outputs": [],
   "source": [
    "# plot the top 10 OMIM records\n",
    "'''### YOUR CODE HERE ###'''"
   ]
  },
  {
   "cell_type": "code",
   "execution_count": null,
   "metadata": {},
   "outputs": [],
   "source": [
    "'''Well Done!'''"
   ]
  }
 ],
 "metadata": {
  "kernelspec": {
   "display_name": "pbi",
   "language": "python",
   "name": "python3"
  },
  "language_info": {
   "codemirror_mode": {
    "name": "ipython",
    "version": 3
   },
   "file_extension": ".py",
   "mimetype": "text/x-python",
   "name": "python",
   "nbconvert_exporter": "python",
   "pygments_lexer": "ipython3",
   "version": "3.12.5"
  }
 },
 "nbformat": 4,
 "nbformat_minor": 2
}
