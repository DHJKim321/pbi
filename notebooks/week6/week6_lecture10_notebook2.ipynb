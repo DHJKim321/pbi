{
 "cells": [
  {
   "cell_type": "markdown",
   "metadata": {},
   "source": [
    "### Programming for Biomedical Informatics\n",
    "#### Week 6 - Differential Gene Expression Analysis\n",
    "\n",
    "We're going to perform some differential expression analysis using the PyDESeq2 package using an RNA-Seq dataset from NCBI-GEO"
   ]
  },
  {
   "cell_type": "code",
   "execution_count": null,
   "metadata": {},
   "outputs": [],
   "source": [
    "'''\n",
    "Sources of Data\n",
    "\n",
    "Original Publication\n",
    "Tomaiuolo P, Piras IS, Sain SB, Picinelli C, Baccarin M, Castronovo P, Morelli MJ, Lazarevic D, Scattoni ML, Tonon G, Persico AM.\n",
    "RNA sequencing of blood from sex- and age-matched discordant siblings supports immune and transcriptional dysregulation in autism spectrum disorder.\n",
    "Sci Rep. 2023 Jan 16;13(1):807. doi: 10.1038/s41598-023-27378-w. PMID: 36646776; PMCID: PMC9842630.\n",
    "\n",
    "GEO Entry: GSE212645\n",
    "https://www.ncbi.nlm.nih.gov/geo/query/acc.cgi?acc=GSE212645\n",
    "\n",
    "meta-data file\n",
    "https://ftp.ncbi.nlm.nih.gov/geo/series/GSE212nnn/GSE212645/matrix/GSE212645_series_matrix.txt.gz\n",
    "\n",
    "raw data file\n",
    "https://www.ncbi.nlm.nih.gov/geo/download/?type=rnaseq_counts&acc=GSE212645&format=file&file=GSE212645_raw_counts_GRCh38.p13_NCBI.tsv.gz\n",
    "\n",
    "normalised data file\n",
    "https://www.ncbi.nlm.nih.gov/geo/download/?type=rnaseq_counts&acc=GSE212645&format=file&file=GSE212645_norm_counts_FPKM_GRCh38.p13_NCBI.tsv.gz\n",
    "\n",
    "genome annotation file\n",
    "https://www.ncbi.nlm.nih.gov/geo/download/?format=file&type=rnaseq_counts&file=Human.GRCh38.p13.annot.tsv.gz\n",
    "'''"
   ]
  },
  {
   "cell_type": "code",
   "execution_count": 1,
   "metadata": {},
   "outputs": [
    {
     "ename": "FileNotFoundError",
     "evalue": "[Errno 2] No such file or directory: './data/GSE212645_series_matrix.txt'",
     "output_type": "error",
     "traceback": [
      "\u001b[0;31m---------------------------------------------------------------------------\u001b[0m",
      "\u001b[0;31mFileNotFoundError\u001b[0m                         Traceback (most recent call last)",
      "Cell \u001b[0;32mIn[1], line 3\u001b[0m\n\u001b[1;32m      1\u001b[0m \u001b[38;5;66;03m#read in the meta-data\u001b[39;00m\n\u001b[1;32m      2\u001b[0m \u001b[38;5;28;01mimport\u001b[39;00m \u001b[38;5;21;01mpandas\u001b[39;00m \u001b[38;5;28;01mas\u001b[39;00m \u001b[38;5;21;01mpd\u001b[39;00m\n\u001b[0;32m----> 3\u001b[0m metadata \u001b[38;5;241m=\u001b[39m pd\u001b[38;5;241m.\u001b[39mread_csv(\u001b[38;5;124m'\u001b[39m\u001b[38;5;124m./data/GSE212645_series_matrix.txt\u001b[39m\u001b[38;5;124m'\u001b[39m, sep\u001b[38;5;241m=\u001b[39m\u001b[38;5;124m'\u001b[39m\u001b[38;5;130;01m\\t\u001b[39;00m\u001b[38;5;124m'\u001b[39m)\n\u001b[1;32m      5\u001b[0m \u001b[38;5;66;03m# we now tidy this up and retain the information we need\u001b[39;00m\n\u001b[1;32m      6\u001b[0m \u001b[38;5;66;03m# keep the rows we need\u001b[39;00m\n\u001b[1;32m      7\u001b[0m row_numbers \u001b[38;5;241m=\u001b[39m [\u001b[38;5;241m0\u001b[39m,\u001b[38;5;241m8\u001b[39m,\u001b[38;5;241m10\u001b[39m,\u001b[38;5;241m11\u001b[39m,\u001b[38;5;241m12\u001b[39m]\n",
      "File \u001b[0;32m/opt/anaconda3/envs/pbi/lib/python3.12/site-packages/pandas/io/parsers/readers.py:1026\u001b[0m, in \u001b[0;36mread_csv\u001b[0;34m(filepath_or_buffer, sep, delimiter, header, names, index_col, usecols, dtype, engine, converters, true_values, false_values, skipinitialspace, skiprows, skipfooter, nrows, na_values, keep_default_na, na_filter, verbose, skip_blank_lines, parse_dates, infer_datetime_format, keep_date_col, date_parser, date_format, dayfirst, cache_dates, iterator, chunksize, compression, thousands, decimal, lineterminator, quotechar, quoting, doublequote, escapechar, comment, encoding, encoding_errors, dialect, on_bad_lines, delim_whitespace, low_memory, memory_map, float_precision, storage_options, dtype_backend)\u001b[0m\n\u001b[1;32m   1013\u001b[0m kwds_defaults \u001b[38;5;241m=\u001b[39m _refine_defaults_read(\n\u001b[1;32m   1014\u001b[0m     dialect,\n\u001b[1;32m   1015\u001b[0m     delimiter,\n\u001b[0;32m   (...)\u001b[0m\n\u001b[1;32m   1022\u001b[0m     dtype_backend\u001b[38;5;241m=\u001b[39mdtype_backend,\n\u001b[1;32m   1023\u001b[0m )\n\u001b[1;32m   1024\u001b[0m kwds\u001b[38;5;241m.\u001b[39mupdate(kwds_defaults)\n\u001b[0;32m-> 1026\u001b[0m \u001b[38;5;28;01mreturn\u001b[39;00m _read(filepath_or_buffer, kwds)\n",
      "File \u001b[0;32m/opt/anaconda3/envs/pbi/lib/python3.12/site-packages/pandas/io/parsers/readers.py:620\u001b[0m, in \u001b[0;36m_read\u001b[0;34m(filepath_or_buffer, kwds)\u001b[0m\n\u001b[1;32m    617\u001b[0m _validate_names(kwds\u001b[38;5;241m.\u001b[39mget(\u001b[38;5;124m\"\u001b[39m\u001b[38;5;124mnames\u001b[39m\u001b[38;5;124m\"\u001b[39m, \u001b[38;5;28;01mNone\u001b[39;00m))\n\u001b[1;32m    619\u001b[0m \u001b[38;5;66;03m# Create the parser.\u001b[39;00m\n\u001b[0;32m--> 620\u001b[0m parser \u001b[38;5;241m=\u001b[39m TextFileReader(filepath_or_buffer, \u001b[38;5;241m*\u001b[39m\u001b[38;5;241m*\u001b[39mkwds)\n\u001b[1;32m    622\u001b[0m \u001b[38;5;28;01mif\u001b[39;00m chunksize \u001b[38;5;129;01mor\u001b[39;00m iterator:\n\u001b[1;32m    623\u001b[0m     \u001b[38;5;28;01mreturn\u001b[39;00m parser\n",
      "File \u001b[0;32m/opt/anaconda3/envs/pbi/lib/python3.12/site-packages/pandas/io/parsers/readers.py:1620\u001b[0m, in \u001b[0;36mTextFileReader.__init__\u001b[0;34m(self, f, engine, **kwds)\u001b[0m\n\u001b[1;32m   1617\u001b[0m     \u001b[38;5;28mself\u001b[39m\u001b[38;5;241m.\u001b[39moptions[\u001b[38;5;124m\"\u001b[39m\u001b[38;5;124mhas_index_names\u001b[39m\u001b[38;5;124m\"\u001b[39m] \u001b[38;5;241m=\u001b[39m kwds[\u001b[38;5;124m\"\u001b[39m\u001b[38;5;124mhas_index_names\u001b[39m\u001b[38;5;124m\"\u001b[39m]\n\u001b[1;32m   1619\u001b[0m \u001b[38;5;28mself\u001b[39m\u001b[38;5;241m.\u001b[39mhandles: IOHandles \u001b[38;5;241m|\u001b[39m \u001b[38;5;28;01mNone\u001b[39;00m \u001b[38;5;241m=\u001b[39m \u001b[38;5;28;01mNone\u001b[39;00m\n\u001b[0;32m-> 1620\u001b[0m \u001b[38;5;28mself\u001b[39m\u001b[38;5;241m.\u001b[39m_engine \u001b[38;5;241m=\u001b[39m \u001b[38;5;28mself\u001b[39m\u001b[38;5;241m.\u001b[39m_make_engine(f, \u001b[38;5;28mself\u001b[39m\u001b[38;5;241m.\u001b[39mengine)\n",
      "File \u001b[0;32m/opt/anaconda3/envs/pbi/lib/python3.12/site-packages/pandas/io/parsers/readers.py:1880\u001b[0m, in \u001b[0;36mTextFileReader._make_engine\u001b[0;34m(self, f, engine)\u001b[0m\n\u001b[1;32m   1878\u001b[0m     \u001b[38;5;28;01mif\u001b[39;00m \u001b[38;5;124m\"\u001b[39m\u001b[38;5;124mb\u001b[39m\u001b[38;5;124m\"\u001b[39m \u001b[38;5;129;01mnot\u001b[39;00m \u001b[38;5;129;01min\u001b[39;00m mode:\n\u001b[1;32m   1879\u001b[0m         mode \u001b[38;5;241m+\u001b[39m\u001b[38;5;241m=\u001b[39m \u001b[38;5;124m\"\u001b[39m\u001b[38;5;124mb\u001b[39m\u001b[38;5;124m\"\u001b[39m\n\u001b[0;32m-> 1880\u001b[0m \u001b[38;5;28mself\u001b[39m\u001b[38;5;241m.\u001b[39mhandles \u001b[38;5;241m=\u001b[39m get_handle(\n\u001b[1;32m   1881\u001b[0m     f,\n\u001b[1;32m   1882\u001b[0m     mode,\n\u001b[1;32m   1883\u001b[0m     encoding\u001b[38;5;241m=\u001b[39m\u001b[38;5;28mself\u001b[39m\u001b[38;5;241m.\u001b[39moptions\u001b[38;5;241m.\u001b[39mget(\u001b[38;5;124m\"\u001b[39m\u001b[38;5;124mencoding\u001b[39m\u001b[38;5;124m\"\u001b[39m, \u001b[38;5;28;01mNone\u001b[39;00m),\n\u001b[1;32m   1884\u001b[0m     compression\u001b[38;5;241m=\u001b[39m\u001b[38;5;28mself\u001b[39m\u001b[38;5;241m.\u001b[39moptions\u001b[38;5;241m.\u001b[39mget(\u001b[38;5;124m\"\u001b[39m\u001b[38;5;124mcompression\u001b[39m\u001b[38;5;124m\"\u001b[39m, \u001b[38;5;28;01mNone\u001b[39;00m),\n\u001b[1;32m   1885\u001b[0m     memory_map\u001b[38;5;241m=\u001b[39m\u001b[38;5;28mself\u001b[39m\u001b[38;5;241m.\u001b[39moptions\u001b[38;5;241m.\u001b[39mget(\u001b[38;5;124m\"\u001b[39m\u001b[38;5;124mmemory_map\u001b[39m\u001b[38;5;124m\"\u001b[39m, \u001b[38;5;28;01mFalse\u001b[39;00m),\n\u001b[1;32m   1886\u001b[0m     is_text\u001b[38;5;241m=\u001b[39mis_text,\n\u001b[1;32m   1887\u001b[0m     errors\u001b[38;5;241m=\u001b[39m\u001b[38;5;28mself\u001b[39m\u001b[38;5;241m.\u001b[39moptions\u001b[38;5;241m.\u001b[39mget(\u001b[38;5;124m\"\u001b[39m\u001b[38;5;124mencoding_errors\u001b[39m\u001b[38;5;124m\"\u001b[39m, \u001b[38;5;124m\"\u001b[39m\u001b[38;5;124mstrict\u001b[39m\u001b[38;5;124m\"\u001b[39m),\n\u001b[1;32m   1888\u001b[0m     storage_options\u001b[38;5;241m=\u001b[39m\u001b[38;5;28mself\u001b[39m\u001b[38;5;241m.\u001b[39moptions\u001b[38;5;241m.\u001b[39mget(\u001b[38;5;124m\"\u001b[39m\u001b[38;5;124mstorage_options\u001b[39m\u001b[38;5;124m\"\u001b[39m, \u001b[38;5;28;01mNone\u001b[39;00m),\n\u001b[1;32m   1889\u001b[0m )\n\u001b[1;32m   1890\u001b[0m \u001b[38;5;28;01massert\u001b[39;00m \u001b[38;5;28mself\u001b[39m\u001b[38;5;241m.\u001b[39mhandles \u001b[38;5;129;01mis\u001b[39;00m \u001b[38;5;129;01mnot\u001b[39;00m \u001b[38;5;28;01mNone\u001b[39;00m\n\u001b[1;32m   1891\u001b[0m f \u001b[38;5;241m=\u001b[39m \u001b[38;5;28mself\u001b[39m\u001b[38;5;241m.\u001b[39mhandles\u001b[38;5;241m.\u001b[39mhandle\n",
      "File \u001b[0;32m/opt/anaconda3/envs/pbi/lib/python3.12/site-packages/pandas/io/common.py:873\u001b[0m, in \u001b[0;36mget_handle\u001b[0;34m(path_or_buf, mode, encoding, compression, memory_map, is_text, errors, storage_options)\u001b[0m\n\u001b[1;32m    868\u001b[0m \u001b[38;5;28;01melif\u001b[39;00m \u001b[38;5;28misinstance\u001b[39m(handle, \u001b[38;5;28mstr\u001b[39m):\n\u001b[1;32m    869\u001b[0m     \u001b[38;5;66;03m# Check whether the filename is to be opened in binary mode.\u001b[39;00m\n\u001b[1;32m    870\u001b[0m     \u001b[38;5;66;03m# Binary mode does not support 'encoding' and 'newline'.\u001b[39;00m\n\u001b[1;32m    871\u001b[0m     \u001b[38;5;28;01mif\u001b[39;00m ioargs\u001b[38;5;241m.\u001b[39mencoding \u001b[38;5;129;01mand\u001b[39;00m \u001b[38;5;124m\"\u001b[39m\u001b[38;5;124mb\u001b[39m\u001b[38;5;124m\"\u001b[39m \u001b[38;5;129;01mnot\u001b[39;00m \u001b[38;5;129;01min\u001b[39;00m ioargs\u001b[38;5;241m.\u001b[39mmode:\n\u001b[1;32m    872\u001b[0m         \u001b[38;5;66;03m# Encoding\u001b[39;00m\n\u001b[0;32m--> 873\u001b[0m         handle \u001b[38;5;241m=\u001b[39m \u001b[38;5;28mopen\u001b[39m(\n\u001b[1;32m    874\u001b[0m             handle,\n\u001b[1;32m    875\u001b[0m             ioargs\u001b[38;5;241m.\u001b[39mmode,\n\u001b[1;32m    876\u001b[0m             encoding\u001b[38;5;241m=\u001b[39mioargs\u001b[38;5;241m.\u001b[39mencoding,\n\u001b[1;32m    877\u001b[0m             errors\u001b[38;5;241m=\u001b[39merrors,\n\u001b[1;32m    878\u001b[0m             newline\u001b[38;5;241m=\u001b[39m\u001b[38;5;124m\"\u001b[39m\u001b[38;5;124m\"\u001b[39m,\n\u001b[1;32m    879\u001b[0m         )\n\u001b[1;32m    880\u001b[0m     \u001b[38;5;28;01melse\u001b[39;00m:\n\u001b[1;32m    881\u001b[0m         \u001b[38;5;66;03m# Binary mode\u001b[39;00m\n\u001b[1;32m    882\u001b[0m         handle \u001b[38;5;241m=\u001b[39m \u001b[38;5;28mopen\u001b[39m(handle, ioargs\u001b[38;5;241m.\u001b[39mmode)\n",
      "\u001b[0;31mFileNotFoundError\u001b[0m: [Errno 2] No such file or directory: './data/GSE212645_series_matrix.txt'"
     ]
    }
   ],
   "source": [
    "#read in the meta-data\n",
    "# we need to skip the first 38 rows as they contain project rather than sample meta-data\n",
    "import pandas as pd\n",
    "metadata = pd.read_csv('./data/GSE212645_series_matrix.txt.gz', sep='\\t', skiprows=38, header=None)\n",
    "\n",
    "# we now tidy this up and retain the information we need\n",
    "# keep the rows we need\n",
    "row_numbers = [0,8,10,11,12]\n",
    "metadata = metadata.iloc[row_numbers]\n",
    "\n",
    "# replace column 0 values with the list below\n",
    "new_feature_names = ['number','gender', 'status', 'family', 'treatment']\n",
    "metadata.iloc[:,0] = new_feature_names\n",
    "\n",
    "# make the first row the column names and remove the first row\n",
    "metadata.columns = metadata.iloc[0]\n",
    "metadata = metadata.iloc[1:]\n",
    "metadata.set_index('number', append=False, inplace=True)\n",
    "\n",
    "# # transpose the data frame\n",
    "metadata = metadata.T\n",
    "\n",
    "# # reset the index and rename the first column\n",
    "metadata.reset_index(inplace=True)\n",
    "metadata.rename(columns={0: 'sample_no'}, inplace=True)\n",
    "\n",
    "# tidy up the column contents\n",
    "metadata['gender'] = metadata['gender'].str.replace('Sex: ', '')\n",
    "metadata['status'] = metadata['status'].str.replace('genotype: ', '')\n",
    "metadata['family'] = metadata['family'].str.replace('family: ', '')\n",
    "metadata['treatment'] = metadata['treatment'].str.replace('treatment: ', '')\n",
    "\n",
    "metadata.set_index('sample_no', inplace=True)\n",
    "metadata.index.name = None\n",
    "\n",
    "#change index name to sample_id\n",
    "metadata.index.name = 'sample_id'\n",
    "\n",
    "metadata.head()"
   ]
  },
  {
   "cell_type": "code",
   "execution_count": 43,
   "metadata": {},
   "outputs": [],
   "source": [
    "# retrive the raw data file\n",
    "\n",
    "raw_data_url = 'https://www.ncbi.nlm.nih.gov/geo/download/?type=rnaseq_counts&acc=GSE212645&format=file&file=GSE212645_raw_counts_GRCh38.p13_NCBI.tsv.gz'\n",
    "\n",
    "# download the file and save in the ./data directory\n",
    "import urllib.request\n",
    "import os\n",
    "\n",
    "urllib.request.urlretrieve(raw_data_url, './data/GSE212645_raw_counts_GRCh38.p13_NCBI.tsv.gz')\n",
    "\n",
    "#read directly into a data frame\n",
    "import pandas as pd\n",
    "\n",
    "raw_counts = pd.read_csv('./data/GSE212645_raw_counts_GRCh38.p13_NCBI.tsv.gz', sep='\\t', index_col=0)"
   ]
  },
  {
   "cell_type": "code",
   "execution_count": null,
   "metadata": {},
   "outputs": [],
   "source": [
    "raw_counts.head()"
   ]
  },
  {
   "cell_type": "code",
   "execution_count": null,
   "metadata": {},
   "outputs": [],
   "source": [
    "# plot a boxplot of the raw counts by sample\n",
    "import matplotlib.pyplot as plt\n",
    "\n",
    "exp_data = raw_counts.copy()\n",
    "\n",
    "# convert all numbers less than or eual to 10 to nan\n",
    "import numpy as np\n",
    "exp_data[exp_data <= 10] = np.nan\n",
    "\n",
    "plt.figure(figsize=(10,6))\n",
    "\n",
    "exp_data.boxplot(rot=90)\n",
    "plt.yscale('log')\n",
    "plt.title('Raw Gene Counts by Sample <=10 values removed')\n",
    "plt.ylabel('log(Raw Counts)')\n",
    "plt.show()"
   ]
  },
  {
   "cell_type": "code",
   "execution_count": null,
   "metadata": {},
   "outputs": [],
   "source": [
    "import numpy as np\n",
    "\n",
    "# plot an MA plot of the raw counts from scratch\n",
    "\n",
    "# find all the columns in raw_counts that have column headers matching the metadata index and have staus of 'ASD'ArithmeticError\n",
    "asd_samples = metadata[metadata['status'] == 'ASD'].index\n",
    "\n",
    "# find all the columns in raw_counts that have column headers matching the metadata index and have staus of 'SIB'\n",
    "sib_samples = metadata[metadata['status'] == 'SIB'].index\n",
    "\n",
    "# calculate the mean of the raw counts for each gene in the ASD samples\n",
    "asd_mean = raw_counts[asd_samples].mean(axis=1)\n",
    "\n",
    "# calculate the mean of the raw counts for each gene in the SIB samples\n",
    "sib_mean = raw_counts[sib_samples].mean(axis=1)\n",
    "\n",
    "# create a new data frame with these mean values and the gene names as the index\n",
    "ma_data = pd.DataFrame({'ASD': asd_mean, 'SIB': sib_mean})\n",
    "\n",
    "# calculate the M value with log2\n",
    "ma_data['M'] = ma_data['ASD'].apply(np.log2) - ma_data['SIB'].apply(np.log2)\n",
    "\n",
    "# calculate the A value with log2\n",
    "ma_data['A'] = (ma_data['ASD'].apply(np.log2) + ma_data['SIB'].apply(np.log2)) / 2\n",
    "\n",
    "# plot the data\n",
    "import matplotlib.pyplot as plt\n",
    "import numpy as np\n",
    "\n",
    "plt.scatter(ma_data['A'], ma_data['M'], s=1)\n",
    "plt.xlabel('A')\n",
    "plt.ylabel('M')\n",
    "plt.title('MA Plot of Raw Counts')\n",
    "plt.show()"
   ]
  },
  {
   "cell_type": "code",
   "execution_count": null,
   "metadata": {},
   "outputs": [],
   "source": [
    "# and for the cleaned up test\n",
    "# calculate the mean of the raw counts for each gene in the ASD samples\n",
    "asd_mean = exp_data[asd_samples].mean(axis=1)\n",
    "\n",
    "# calculate the mean of the raw counts for each gene in the SIB samples\n",
    "sib_mean = exp_data[sib_samples].mean(axis=1)\n",
    "\n",
    "# create a new data frame with these mean values and the gene names as the index\n",
    "ma_data = pd.DataFrame({'ASD': asd_mean, 'SIB': sib_mean})\n",
    "\n",
    "# calculate the M value with log2\n",
    "ma_data['M'] = ma_data['ASD'].apply(np.log2) - ma_data['SIB'].apply(np.log2)\n",
    "\n",
    "# calculate the A value with log2\n",
    "ma_data['A'] = (ma_data['ASD'].apply(np.log2) + ma_data['SIB'].apply(np.log2)) / 2\n",
    "\n",
    "# plot the data\n",
    "import matplotlib.pyplot as plt\n",
    "import numpy as np\n",
    "\n",
    "plt.scatter(ma_data['A'], ma_data['M'], s=1)\n",
    "plt.xlabel('A')\n",
    "plt.ylabel('M')\n",
    "plt.title('MA Plot of Raw Counts with <=10 values removed')\n",
    "plt.show()"
   ]
  },
  {
   "cell_type": "code",
   "execution_count": 48,
   "metadata": {},
   "outputs": [],
   "source": [
    "# now lets use DESeq2 to perform differential expression\n",
    "\n",
    "import os\n",
    "import pickle as pkl\n",
    "\n",
    "from pydeseq2.dds import DeseqDataSet\n",
    "from pydeseq2.default_inference import DefaultInference\n",
    "from pydeseq2.ds import DeseqStats\n",
    "from pydeseq2.utils import *\n",
    "\n",
    "SAVE = False  # whether to save the outputs of this notebook\n",
    "\n",
    "if SAVE:\n",
    "    # Replace this with the path to directory where you would like results to be\n",
    "    # saved\n",
    "    OUTPUT_PATH = \"./data/asd_deseq2_results\"\n",
    "    os.makedirs(OUTPUT_PATH, exist_ok=True)  # Create path if it doesn't exist"
   ]
  },
  {
   "cell_type": "code",
   "execution_count": null,
   "metadata": {},
   "outputs": [],
   "source": [
    "# we need the counts matrix transposed for DESeq2\n",
    "# samples as rows and genes as columns\n",
    "raw_counts = raw_counts.T\n",
    "\n",
    "# keep genes with at least 10 counts in at least 2 samples\n",
    "raw_counts = raw_counts[(raw_counts > 10).sum(axis=1) >= 2]\n",
    "\n",
    "# change 'GeneID' to 'sample_id'\n",
    "raw_counts.index.name = 'sample_id'\n",
    "\n",
    "raw_counts.head()"
   ]
  },
  {
   "cell_type": "code",
   "execution_count": null,
   "metadata": {},
   "outputs": [],
   "source": [
    "## set up the DESeq2 object\n",
    "inference = DefaultInference(n_cpus=8)\n",
    "dds = DeseqDataSet(\n",
    "    counts=raw_counts,\n",
    "    metadata=metadata,\n",
    "    design_factors=\"status\",\n",
    "    refit_cooks=True,\n",
    "    inference=inference,\n",
    ")"
   ]
  },
  {
   "cell_type": "code",
   "execution_count": null,
   "metadata": {},
   "outputs": [],
   "source": [
    "# compute normalisation factors\n",
    "dds.fit_size_factors()\n",
    "\n",
    "dds.obsm[\"size_factors\"]"
   ]
  },
  {
   "cell_type": "code",
   "execution_count": null,
   "metadata": {},
   "outputs": [],
   "source": [
    "# fit gene-wise dispersion estimates\n",
    "dds.fit_genewise_dispersions()\n",
    "\n",
    "gene_dispersion = dds.varm[\"genewise_dispersions\"]\n",
    "\n",
    "#plot the dispersion estimates\n",
    "plt.figure(figsize=(10,6))\n",
    "plt.hist(gene_dispersion, bins=100)\n",
    "plt.xlabel('Dispersion')\n",
    "plt.ylabel('Frequency')\n",
    "plt.title('Gene-wise Dispersion Estimates')\n",
    "plt.show()"
   ]
  },
  {
   "cell_type": "code",
   "execution_count": null,
   "metadata": {},
   "outputs": [],
   "source": [
    "# fit dispersion trend coefficients\n",
    "dds.fit_dispersion_trend()\n",
    "\n",
    "dds.uns[\"trend_coeffs\"]\n",
    "\n",
    "fitted_dispersions = dds.varm[\"fitted_dispersions\"]\n",
    "\n",
    "# plot the fitted dispersion trend\n",
    "plt.figure(figsize=(10,6))\n",
    "plt.scatter(gene_dispersion, fitted_dispersions)\n",
    "plt.xlabel('Gene-wise Dispersion')\n",
    "plt.ylabel('Fitted Dispersion')\n",
    "plt.title('Fitted Dispersion vs Gene-wise Dispersion')\n",
    "plt.show()"
   ]
  },
  {
   "cell_type": "code",
   "execution_count": null,
   "metadata": {},
   "outputs": [],
   "source": [
    "# fit dispersion priors\n",
    "dds.fit_dispersion_prior()\n",
    "print(f\"logres_prior={dds.uns['_squared_logres']},sigma_prior={dds.uns['prior_disp_var']}\")"
   ]
  },
  {
   "cell_type": "code",
   "execution_count": null,
   "metadata": {},
   "outputs": [],
   "source": [
    "# fit MAP dispersions\n",
    "dds.fit_MAP_dispersions()\n",
    "dds.varm[\"MAP_dispersions\"]\n",
    "dds.varm[\"dispersions\"]"
   ]
  },
  {
   "cell_type": "code",
   "execution_count": null,
   "metadata": {},
   "outputs": [],
   "source": [
    "# fit log fold changes\n",
    "dds.fit_LFC()\n",
    "lfcs = dds.varm[\"LFC\"]\n",
    "\n",
    "# plot the log fold changes\n",
    "plt.figure(figsize=(10,6))\n",
    "plt.hist(lfcs, bins=100)\n",
    "plt.xlabel('Log Fold Change')\n",
    "plt.ylabel('Frequency')\n",
    "plt.title('Log Fold Changes')\n",
    "plt.show()"
   ]
  },
  {
   "cell_type": "code",
   "execution_count": null,
   "metadata": {},
   "outputs": [],
   "source": [
    "# calculate cooks distanes and refit\n",
    "\n",
    "# this step aims to identify outliers that would adversely affect the differential expresison analysis and filters them out\n",
    "dds.calculate_cooks()\n",
    "if dds.refit_cooks:\n",
    "    # Replace outlier counts\n",
    "    dds.refit()"
   ]
  },
  {
   "cell_type": "code",
   "execution_count": null,
   "metadata": {},
   "outputs": [],
   "source": [
    "#let's look at the dispersion plot\n",
    "dds.plot_dispersions()"
   ]
  },
  {
   "cell_type": "code",
   "execution_count": 29,
   "metadata": {},
   "outputs": [],
   "source": [
    "# save the results so far\n",
    "if SAVE:\n",
    "    with open(os.path.join(OUTPUT_PATH, \"dds_detailed_pipe.pkl\"), \"wb\") as f:\n",
    "        pkl.dump(dds, f)"
   ]
  },
  {
   "cell_type": "code",
   "execution_count": null,
   "metadata": {},
   "outputs": [],
   "source": [
    "# Statistical Analysis"
   ]
  },
  {
   "cell_type": "code",
   "execution_count": 59,
   "metadata": {},
   "outputs": [],
   "source": [
    "# this is the main step where the differential expression is calculated\n",
    "# here we can set our alpha value to 0.05, and also filter out genes with high cook's distance\n",
    "stat_res = DeseqStats(dds, alpha=0.05, cooks_filter=True, independent_filter=True)"
   ]
  },
  {
   "cell_type": "code",
   "execution_count": null,
   "metadata": {},
   "outputs": [],
   "source": [
    "# run the Wald test\n",
    "# this test effectively calculates the robustness of the beta value estaimation in the main DESeq2 GLM and then calculates the p-values based on the aussume\n",
    "# assumed normal distribution of the beta values\n",
    "stat_res.run_wald_test()\n",
    "stat_res.p_values"
   ]
  },
  {
   "cell_type": "code",
   "execution_count": null,
   "metadata": {},
   "outputs": [],
   "source": [
    "# filter these using the cook's distance\n",
    "if stat_res.cooks_filter:\n",
    "    stat_res._cooks_filtering()\n",
    "stat_res.p_values"
   ]
  },
  {
   "cell_type": "code",
   "execution_count": null,
   "metadata": {},
   "outputs": [],
   "source": [
    "# now use the independent filtering to reduce the number of tests and hence reduces the multiple testing burden\n",
    "if stat_res.independent_filter:\n",
    "    stat_res._independent_filtering()\n",
    "else:\n",
    "    stat_res._p_value_adjustment()\n",
    "\n",
    "stat_res.padj.sort_values(ascending=True)"
   ]
  },
  {
   "cell_type": "code",
   "execution_count": null,
   "metadata": {},
   "outputs": [],
   "source": [
    "stat_res.summary()"
   ]
  },
  {
   "cell_type": "code",
   "execution_count": null,
   "metadata": {},
   "outputs": [],
   "source": [
    "results = stat_res.results_df\n",
    "\n",
    "sorted_results = results.sort_values(by='pvalue', ascending=True)\n",
    "\n",
    "#convert the GeneID column to integers\n",
    "sorted_results.index = sorted_results.index.map(int)\n",
    "sorted_results.reset_index(inplace=True)\n",
    "\n",
    "sorted_results.head()\n",
    "\n",
    "# it's clear here that the p-value adjustment is very heavily penalising the p-values"
   ]
  },
  {
   "cell_type": "code",
   "execution_count": 111,
   "metadata": {},
   "outputs": [],
   "source": [
    "# optionally save the results\n",
    "# if SAVE:\n",
    "#     with open(os.path.join(OUTPUT_PATH, \"stat_results_detailed_pipe.pkl\"), \"wb\") as f:\n",
    "#         pkl.dump(stat_res, f)"
   ]
  },
  {
   "cell_type": "code",
   "execution_count": null,
   "metadata": {},
   "outputs": [],
   "source": [
    "# load up the genome annotation file so that we can look at the gene names\n",
    "\n",
    "annotation_url = 'https://www.ncbi.nlm.nih.gov/geo/download/?format=file&type=rnaseq_counts&file=Human.GRCh38.p13.annot.tsv.gz'\n",
    "\n",
    "# download the file and save in the ./data directory\n",
    "import urllib.request\n",
    "import os\n",
    "\n",
    "urllib.request.urlretrieve(annotation_url, './data/Human.GRCh38.p13.annot.tsv.gz')\n",
    "\n",
    "#read directly into a data frame\n",
    "annotation = pd.read_csv('./data/Human.GRCh38.p13.annot.tsv.gz', sep='\\t', index_col=0, low_memory=False)\n",
    "\n",
    "#drop all columns except Symbol and Description\n",
    "annotation = annotation[['Symbol', 'Description']]\n",
    "\n",
    "annotation.head()"
   ]
  },
  {
   "cell_type": "code",
   "execution_count": null,
   "metadata": {},
   "outputs": [],
   "source": [
    "# merge the annotation with the results on the GeneID column\n",
    "results = sorted_results.merge(annotation, left_on='GeneID', right_on='GeneID')\n",
    "\n",
    "results.head(40)"
   ]
  },
  {
   "cell_type": "code",
   "execution_count": null,
   "metadata": {},
   "outputs": [],
   "source": [
    "# now lets go back and pick up the results for the genes cited in the paper to see what the p-values are\n",
    "target_genes = ['EGR1', 'EGR2', 'IGKV6D-21', 'IGKV3D-15', 'S100B', 'CD80']\n",
    "\n",
    "target_gene_results = results[results['Symbol'].isin(target_genes)]\n",
    "\n",
    "target_gene_results.head()"
   ]
  },
  {
   "cell_type": "code",
   "execution_count": null,
   "metadata": {},
   "outputs": [],
   "source": [
    "#lets go back and find the log normlised counts for these genes\n",
    "# merge the ma_data with the target_gene_results on the GeneID column\n",
    "\n",
    "combined = target_gene_results.merge(ma_data, left_on='GeneID', right_index=True)\n",
    "\n",
    "combined.head(10)"
   ]
  },
  {
   "cell_type": "code",
   "execution_count": null,
   "metadata": {},
   "outputs": [],
   "source": [
    "# next we plot paired barcharts for each Symbol showing the log normalised counts for each gene in the ASD and SIB samples using matplotlib\n",
    "import matplotlib.pyplot as plt\n",
    "\n",
    "fig, ax = plt.subplots(1, 6, figsize=(20, 6))\n",
    "\n",
    "for i, gene in enumerate(target_genes):\n",
    "    #take the log2 values of the counts\n",
    "    combined.loc[combined['Symbol'] == gene, ['ASD', 'SIB']] = combined.loc[combined['Symbol'] == gene, ['ASD', 'SIB']].apply(np.log2)\n",
    "    ax[i].bar(['ASD', 'SIB'], combined.loc[combined['Symbol'] == gene, ['ASD', 'SIB']].values[0])\n",
    "    ax[i].set_title(gene)\n",
    "    ax[i].set_ylabel('log normalised counts')\n",
    "    ax[i].set_xlabel('Status')\n",
    "\n",
    "plt.show()\n",
    "\n",
    "# the trends are the same as in the paper, but the p-values are not significant - NB in the paper only EGR1 and IGKV3D-15 were significant after correction."
   ]
  }
 ],
 "metadata": {
  "kernelspec": {
   "display_name": "pbi",
   "language": "python",
   "name": "python3"
  },
  "language_info": {
   "codemirror_mode": {
    "name": "ipython",
    "version": 3
   },
   "file_extension": ".py",
   "mimetype": "text/x-python",
   "name": "python",
   "nbconvert_exporter": "python",
   "pygments_lexer": "ipython3",
   "version": "3.12.5"
  }
 },
 "nbformat": 4,
 "nbformat_minor": 2
}
